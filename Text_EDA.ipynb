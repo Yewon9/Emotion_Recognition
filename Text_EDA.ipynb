{
  "nbformat": 4,
  "nbformat_minor": 0,
  "metadata": {
    "colab": {
      "provenance": [],
      "authorship_tag": "ABX9TyN4UzN8e5FtH8lRQ36VN0oC",
      "include_colab_link": true
    },
    "kernelspec": {
      "name": "python3",
      "display_name": "Python 3"
    },
    "language_info": {
      "name": "python"
    }
  },
  "cells": [
    {
      "cell_type": "markdown",
      "metadata": {
        "id": "view-in-github",
        "colab_type": "text"
      },
      "source": [
        "<a href=\"https://colab.research.google.com/github/Yewon9/Emotion_Recognition/blob/main/Text_EDA.ipynb\" target=\"_parent\"><img src=\"https://colab.research.google.com/assets/colab-badge.svg\" alt=\"Open In Colab\"/></a>"
      ]
    },
    {
      "cell_type": "markdown",
      "source": [
        "# IMPORT"
      ],
      "metadata": {
        "id": "DO4lfktLOeQF"
      }
    },
    {
      "cell_type": "code",
      "execution_count": 1,
      "metadata": {
        "colab": {
          "base_uri": "https://localhost:8080/"
        },
        "id": "3B-cpQqgOO1F",
        "outputId": "9587bebd-b1e6-497c-bd2d-be2a08e27687"
      },
      "outputs": [
        {
          "output_type": "stream",
          "name": "stdout",
          "text": [
            "Mounted at /content/drive\n"
          ]
        }
      ],
      "source": [
        "from google.colab import drive\n",
        "drive.mount('/content/drive')"
      ]
    },
    {
      "cell_type": "code",
      "source": [
        "!pip install konlpy"
      ],
      "metadata": {
        "colab": {
          "base_uri": "https://localhost:8080/"
        },
        "id": "MhETbz3dQr2l",
        "outputId": "f4ff976f-96b4-480c-ad55-361d4dcee907"
      },
      "execution_count": 12,
      "outputs": [
        {
          "output_type": "stream",
          "name": "stdout",
          "text": [
            "Collecting konlpy\n",
            "  Downloading konlpy-0.6.0-py2.py3-none-any.whl.metadata (1.9 kB)\n",
            "Collecting JPype1>=0.7.0 (from konlpy)\n",
            "  Downloading JPype1-1.5.0-cp310-cp310-manylinux_2_17_x86_64.manylinux2014_x86_64.whl.metadata (4.9 kB)\n",
            "Requirement already satisfied: lxml>=4.1.0 in /usr/local/lib/python3.10/dist-packages (from konlpy) (4.9.4)\n",
            "Requirement already satisfied: numpy>=1.6 in /usr/local/lib/python3.10/dist-packages (from konlpy) (1.26.4)\n",
            "Requirement already satisfied: packaging in /usr/local/lib/python3.10/dist-packages (from JPype1>=0.7.0->konlpy) (24.1)\n",
            "Downloading konlpy-0.6.0-py2.py3-none-any.whl (19.4 MB)\n",
            "\u001b[2K   \u001b[90m━━━━━━━━━━━━━━━━━━━━━━━━━━━━━━━━━━━━━━━━\u001b[0m \u001b[32m19.4/19.4 MB\u001b[0m \u001b[31m35.6 MB/s\u001b[0m eta \u001b[36m0:00:00\u001b[0m\n",
            "\u001b[?25hDownloading JPype1-1.5.0-cp310-cp310-manylinux_2_17_x86_64.manylinux2014_x86_64.whl (488 kB)\n",
            "\u001b[2K   \u001b[90m━━━━━━━━━━━━━━━━━━━━━━━━━━━━━━━━━━━━━━━━\u001b[0m \u001b[32m488.6/488.6 kB\u001b[0m \u001b[31m24.0 MB/s\u001b[0m eta \u001b[36m0:00:00\u001b[0m\n",
            "\u001b[?25hInstalling collected packages: JPype1, konlpy\n",
            "Successfully installed JPype1-1.5.0 konlpy-0.6.0\n"
          ]
        }
      ]
    },
    {
      "cell_type": "code",
      "source": [
        "import pandas as pd\n",
        "import re\n",
        "from konlpy.tag import Okt\n",
        "from tqdm import tqdm"
      ],
      "metadata": {
        "id": "AHMa6H4XOZCp"
      },
      "execution_count": 16,
      "outputs": []
    },
    {
      "cell_type": "markdown",
      "source": [
        "# DATA"
      ],
      "metadata": {
        "id": "LqNFkXO3O6KA"
      }
    },
    {
      "cell_type": "code",
      "source": [
        "df = pd.read_csv('emotion_text.csv')\n",
        "df"
      ],
      "metadata": {
        "colab": {
          "base_uri": "https://localhost:8080/",
          "height": 424
        },
        "id": "O2S4_GZbO7eW",
        "outputId": "dfff6569-588d-4df6-c34d-99311f1551f2"
      },
      "execution_count": 3,
      "outputs": [
        {
          "output_type": "execute_result",
          "data": {
            "text/plain": [
              "       Emotion                                               Path     Length  \\\n",
              "0        angry  /content/drive/MyDrive/project/data_aihub/4/5e...   4.565333   \n",
              "1        angry  /content/drive/MyDrive/project/data_aihub/4/5e...   8.576000   \n",
              "2        angry  /content/drive/MyDrive/project/data_aihub/4/5e...   7.040000   \n",
              "3        angry  /content/drive/MyDrive/project/data_aihub/4/5e...   5.034667   \n",
              "4        angry  /content/drive/MyDrive/project/data_aihub/4/5e...   4.266667   \n",
              "...        ...                                                ...        ...   \n",
              "14377  sadness  /content/drive/MyDrive/project/data_aihub/4/5e...  10.880000   \n",
              "14378  sadness  /content/drive/MyDrive/project/data_aihub/5_2/...   4.821333   \n",
              "14379  sadness  /content/drive/MyDrive/project/data_aihub/4/5e...   5.248000   \n",
              "14380  sadness  /content/drive/MyDrive/project/data_aihub/4/5e...   3.114667   \n",
              "14381  sadness  /content/drive/MyDrive/project/data_aihub/5/5e...   6.186667   \n",
              "\n",
              "                                                   Text  \n",
              "0                                      10년도 넘었어 고등학교 동창  \n",
              "1            10분마다 연락을 해 봤지 근데 아직도이 녀석 온다고 말하지 오지 않고 있어  \n",
              "2               1년 채우고 그만두려고 했는데 아 지금 같아서는 진짜 회사 옮기고 싶다  \n",
              "3                               1시간 기다렸나 봐 다리도 아프고 짜증 나  \n",
              "4                                     1시간 기다렸는데 아직도 안 와  \n",
              "...                                                 ...  \n",
              "14377  힘들다 그만둬야 할까 어떻게 해야 될까 정말 고민이 많이 되는 거 같아 어떡하면 좋겠니  \n",
              "14378                                           힘들다 힘들어  \n",
              "14379                           힘들어 다른 회사 또 준비를 할 거야 나는  \n",
              "14380                                   힘들어하고 나도 너무 힘들어  \n",
              "14381                                     힘이 없네 나가기가 싫어  \n",
              "\n",
              "[14382 rows x 4 columns]"
            ],
            "text/html": [
              "\n",
              "  <div id=\"df-579b1c12-533c-4884-b9c4-b4c8b3a6f197\" class=\"colab-df-container\">\n",
              "    <div>\n",
              "<style scoped>\n",
              "    .dataframe tbody tr th:only-of-type {\n",
              "        vertical-align: middle;\n",
              "    }\n",
              "\n",
              "    .dataframe tbody tr th {\n",
              "        vertical-align: top;\n",
              "    }\n",
              "\n",
              "    .dataframe thead th {\n",
              "        text-align: right;\n",
              "    }\n",
              "</style>\n",
              "<table border=\"1\" class=\"dataframe\">\n",
              "  <thead>\n",
              "    <tr style=\"text-align: right;\">\n",
              "      <th></th>\n",
              "      <th>Emotion</th>\n",
              "      <th>Path</th>\n",
              "      <th>Length</th>\n",
              "      <th>Text</th>\n",
              "    </tr>\n",
              "  </thead>\n",
              "  <tbody>\n",
              "    <tr>\n",
              "      <th>0</th>\n",
              "      <td>angry</td>\n",
              "      <td>/content/drive/MyDrive/project/data_aihub/4/5e...</td>\n",
              "      <td>4.565333</td>\n",
              "      <td>10년도 넘었어 고등학교 동창</td>\n",
              "    </tr>\n",
              "    <tr>\n",
              "      <th>1</th>\n",
              "      <td>angry</td>\n",
              "      <td>/content/drive/MyDrive/project/data_aihub/4/5e...</td>\n",
              "      <td>8.576000</td>\n",
              "      <td>10분마다 연락을 해 봤지 근데 아직도이 녀석 온다고 말하지 오지 않고 있어</td>\n",
              "    </tr>\n",
              "    <tr>\n",
              "      <th>2</th>\n",
              "      <td>angry</td>\n",
              "      <td>/content/drive/MyDrive/project/data_aihub/4/5e...</td>\n",
              "      <td>7.040000</td>\n",
              "      <td>1년 채우고 그만두려고 했는데 아 지금 같아서는 진짜 회사 옮기고 싶다</td>\n",
              "    </tr>\n",
              "    <tr>\n",
              "      <th>3</th>\n",
              "      <td>angry</td>\n",
              "      <td>/content/drive/MyDrive/project/data_aihub/4/5e...</td>\n",
              "      <td>5.034667</td>\n",
              "      <td>1시간 기다렸나 봐 다리도 아프고 짜증 나</td>\n",
              "    </tr>\n",
              "    <tr>\n",
              "      <th>4</th>\n",
              "      <td>angry</td>\n",
              "      <td>/content/drive/MyDrive/project/data_aihub/4/5e...</td>\n",
              "      <td>4.266667</td>\n",
              "      <td>1시간 기다렸는데 아직도 안 와</td>\n",
              "    </tr>\n",
              "    <tr>\n",
              "      <th>...</th>\n",
              "      <td>...</td>\n",
              "      <td>...</td>\n",
              "      <td>...</td>\n",
              "      <td>...</td>\n",
              "    </tr>\n",
              "    <tr>\n",
              "      <th>14377</th>\n",
              "      <td>sadness</td>\n",
              "      <td>/content/drive/MyDrive/project/data_aihub/4/5e...</td>\n",
              "      <td>10.880000</td>\n",
              "      <td>힘들다 그만둬야 할까 어떻게 해야 될까 정말 고민이 많이 되는 거 같아 어떡하면 좋겠니</td>\n",
              "    </tr>\n",
              "    <tr>\n",
              "      <th>14378</th>\n",
              "      <td>sadness</td>\n",
              "      <td>/content/drive/MyDrive/project/data_aihub/5_2/...</td>\n",
              "      <td>4.821333</td>\n",
              "      <td>힘들다 힘들어</td>\n",
              "    </tr>\n",
              "    <tr>\n",
              "      <th>14379</th>\n",
              "      <td>sadness</td>\n",
              "      <td>/content/drive/MyDrive/project/data_aihub/4/5e...</td>\n",
              "      <td>5.248000</td>\n",
              "      <td>힘들어 다른 회사 또 준비를 할 거야 나는</td>\n",
              "    </tr>\n",
              "    <tr>\n",
              "      <th>14380</th>\n",
              "      <td>sadness</td>\n",
              "      <td>/content/drive/MyDrive/project/data_aihub/4/5e...</td>\n",
              "      <td>3.114667</td>\n",
              "      <td>힘들어하고 나도 너무 힘들어</td>\n",
              "    </tr>\n",
              "    <tr>\n",
              "      <th>14381</th>\n",
              "      <td>sadness</td>\n",
              "      <td>/content/drive/MyDrive/project/data_aihub/5/5e...</td>\n",
              "      <td>6.186667</td>\n",
              "      <td>힘이 없네 나가기가 싫어</td>\n",
              "    </tr>\n",
              "  </tbody>\n",
              "</table>\n",
              "<p>14382 rows × 4 columns</p>\n",
              "</div>\n",
              "    <div class=\"colab-df-buttons\">\n",
              "\n",
              "  <div class=\"colab-df-container\">\n",
              "    <button class=\"colab-df-convert\" onclick=\"convertToInteractive('df-579b1c12-533c-4884-b9c4-b4c8b3a6f197')\"\n",
              "            title=\"Convert this dataframe to an interactive table.\"\n",
              "            style=\"display:none;\">\n",
              "\n",
              "  <svg xmlns=\"http://www.w3.org/2000/svg\" height=\"24px\" viewBox=\"0 -960 960 960\">\n",
              "    <path d=\"M120-120v-720h720v720H120Zm60-500h600v-160H180v160Zm220 220h160v-160H400v160Zm0 220h160v-160H400v160ZM180-400h160v-160H180v160Zm440 0h160v-160H620v160ZM180-180h160v-160H180v160Zm440 0h160v-160H620v160Z\"/>\n",
              "  </svg>\n",
              "    </button>\n",
              "\n",
              "  <style>\n",
              "    .colab-df-container {\n",
              "      display:flex;\n",
              "      gap: 12px;\n",
              "    }\n",
              "\n",
              "    .colab-df-convert {\n",
              "      background-color: #E8F0FE;\n",
              "      border: none;\n",
              "      border-radius: 50%;\n",
              "      cursor: pointer;\n",
              "      display: none;\n",
              "      fill: #1967D2;\n",
              "      height: 32px;\n",
              "      padding: 0 0 0 0;\n",
              "      width: 32px;\n",
              "    }\n",
              "\n",
              "    .colab-df-convert:hover {\n",
              "      background-color: #E2EBFA;\n",
              "      box-shadow: 0px 1px 2px rgba(60, 64, 67, 0.3), 0px 1px 3px 1px rgba(60, 64, 67, 0.15);\n",
              "      fill: #174EA6;\n",
              "    }\n",
              "\n",
              "    .colab-df-buttons div {\n",
              "      margin-bottom: 4px;\n",
              "    }\n",
              "\n",
              "    [theme=dark] .colab-df-convert {\n",
              "      background-color: #3B4455;\n",
              "      fill: #D2E3FC;\n",
              "    }\n",
              "\n",
              "    [theme=dark] .colab-df-convert:hover {\n",
              "      background-color: #434B5C;\n",
              "      box-shadow: 0px 1px 3px 1px rgba(0, 0, 0, 0.15);\n",
              "      filter: drop-shadow(0px 1px 2px rgba(0, 0, 0, 0.3));\n",
              "      fill: #FFFFFF;\n",
              "    }\n",
              "  </style>\n",
              "\n",
              "    <script>\n",
              "      const buttonEl =\n",
              "        document.querySelector('#df-579b1c12-533c-4884-b9c4-b4c8b3a6f197 button.colab-df-convert');\n",
              "      buttonEl.style.display =\n",
              "        google.colab.kernel.accessAllowed ? 'block' : 'none';\n",
              "\n",
              "      async function convertToInteractive(key) {\n",
              "        const element = document.querySelector('#df-579b1c12-533c-4884-b9c4-b4c8b3a6f197');\n",
              "        const dataTable =\n",
              "          await google.colab.kernel.invokeFunction('convertToInteractive',\n",
              "                                                    [key], {});\n",
              "        if (!dataTable) return;\n",
              "\n",
              "        const docLinkHtml = 'Like what you see? Visit the ' +\n",
              "          '<a target=\"_blank\" href=https://colab.research.google.com/notebooks/data_table.ipynb>data table notebook</a>'\n",
              "          + ' to learn more about interactive tables.';\n",
              "        element.innerHTML = '';\n",
              "        dataTable['output_type'] = 'display_data';\n",
              "        await google.colab.output.renderOutput(dataTable, element);\n",
              "        const docLink = document.createElement('div');\n",
              "        docLink.innerHTML = docLinkHtml;\n",
              "        element.appendChild(docLink);\n",
              "      }\n",
              "    </script>\n",
              "  </div>\n",
              "\n",
              "\n",
              "<div id=\"df-f74a5a4c-99c2-427f-954b-b7a6dc74ca01\">\n",
              "  <button class=\"colab-df-quickchart\" onclick=\"quickchart('df-f74a5a4c-99c2-427f-954b-b7a6dc74ca01')\"\n",
              "            title=\"Suggest charts\"\n",
              "            style=\"display:none;\">\n",
              "\n",
              "<svg xmlns=\"http://www.w3.org/2000/svg\" height=\"24px\"viewBox=\"0 0 24 24\"\n",
              "     width=\"24px\">\n",
              "    <g>\n",
              "        <path d=\"M19 3H5c-1.1 0-2 .9-2 2v14c0 1.1.9 2 2 2h14c1.1 0 2-.9 2-2V5c0-1.1-.9-2-2-2zM9 17H7v-7h2v7zm4 0h-2V7h2v10zm4 0h-2v-4h2v4z\"/>\n",
              "    </g>\n",
              "</svg>\n",
              "  </button>\n",
              "\n",
              "<style>\n",
              "  .colab-df-quickchart {\n",
              "      --bg-color: #E8F0FE;\n",
              "      --fill-color: #1967D2;\n",
              "      --hover-bg-color: #E2EBFA;\n",
              "      --hover-fill-color: #174EA6;\n",
              "      --disabled-fill-color: #AAA;\n",
              "      --disabled-bg-color: #DDD;\n",
              "  }\n",
              "\n",
              "  [theme=dark] .colab-df-quickchart {\n",
              "      --bg-color: #3B4455;\n",
              "      --fill-color: #D2E3FC;\n",
              "      --hover-bg-color: #434B5C;\n",
              "      --hover-fill-color: #FFFFFF;\n",
              "      --disabled-bg-color: #3B4455;\n",
              "      --disabled-fill-color: #666;\n",
              "  }\n",
              "\n",
              "  .colab-df-quickchart {\n",
              "    background-color: var(--bg-color);\n",
              "    border: none;\n",
              "    border-radius: 50%;\n",
              "    cursor: pointer;\n",
              "    display: none;\n",
              "    fill: var(--fill-color);\n",
              "    height: 32px;\n",
              "    padding: 0;\n",
              "    width: 32px;\n",
              "  }\n",
              "\n",
              "  .colab-df-quickchart:hover {\n",
              "    background-color: var(--hover-bg-color);\n",
              "    box-shadow: 0 1px 2px rgba(60, 64, 67, 0.3), 0 1px 3px 1px rgba(60, 64, 67, 0.15);\n",
              "    fill: var(--button-hover-fill-color);\n",
              "  }\n",
              "\n",
              "  .colab-df-quickchart-complete:disabled,\n",
              "  .colab-df-quickchart-complete:disabled:hover {\n",
              "    background-color: var(--disabled-bg-color);\n",
              "    fill: var(--disabled-fill-color);\n",
              "    box-shadow: none;\n",
              "  }\n",
              "\n",
              "  .colab-df-spinner {\n",
              "    border: 2px solid var(--fill-color);\n",
              "    border-color: transparent;\n",
              "    border-bottom-color: var(--fill-color);\n",
              "    animation:\n",
              "      spin 1s steps(1) infinite;\n",
              "  }\n",
              "\n",
              "  @keyframes spin {\n",
              "    0% {\n",
              "      border-color: transparent;\n",
              "      border-bottom-color: var(--fill-color);\n",
              "      border-left-color: var(--fill-color);\n",
              "    }\n",
              "    20% {\n",
              "      border-color: transparent;\n",
              "      border-left-color: var(--fill-color);\n",
              "      border-top-color: var(--fill-color);\n",
              "    }\n",
              "    30% {\n",
              "      border-color: transparent;\n",
              "      border-left-color: var(--fill-color);\n",
              "      border-top-color: var(--fill-color);\n",
              "      border-right-color: var(--fill-color);\n",
              "    }\n",
              "    40% {\n",
              "      border-color: transparent;\n",
              "      border-right-color: var(--fill-color);\n",
              "      border-top-color: var(--fill-color);\n",
              "    }\n",
              "    60% {\n",
              "      border-color: transparent;\n",
              "      border-right-color: var(--fill-color);\n",
              "    }\n",
              "    80% {\n",
              "      border-color: transparent;\n",
              "      border-right-color: var(--fill-color);\n",
              "      border-bottom-color: var(--fill-color);\n",
              "    }\n",
              "    90% {\n",
              "      border-color: transparent;\n",
              "      border-bottom-color: var(--fill-color);\n",
              "    }\n",
              "  }\n",
              "</style>\n",
              "\n",
              "  <script>\n",
              "    async function quickchart(key) {\n",
              "      const quickchartButtonEl =\n",
              "        document.querySelector('#' + key + ' button');\n",
              "      quickchartButtonEl.disabled = true;  // To prevent multiple clicks.\n",
              "      quickchartButtonEl.classList.add('colab-df-spinner');\n",
              "      try {\n",
              "        const charts = await google.colab.kernel.invokeFunction(\n",
              "            'suggestCharts', [key], {});\n",
              "      } catch (error) {\n",
              "        console.error('Error during call to suggestCharts:', error);\n",
              "      }\n",
              "      quickchartButtonEl.classList.remove('colab-df-spinner');\n",
              "      quickchartButtonEl.classList.add('colab-df-quickchart-complete');\n",
              "    }\n",
              "    (() => {\n",
              "      let quickchartButtonEl =\n",
              "        document.querySelector('#df-f74a5a4c-99c2-427f-954b-b7a6dc74ca01 button');\n",
              "      quickchartButtonEl.style.display =\n",
              "        google.colab.kernel.accessAllowed ? 'block' : 'none';\n",
              "    })();\n",
              "  </script>\n",
              "</div>\n",
              "\n",
              "  <div id=\"id_d048224c-38be-43e9-914a-775099492238\">\n",
              "    <style>\n",
              "      .colab-df-generate {\n",
              "        background-color: #E8F0FE;\n",
              "        border: none;\n",
              "        border-radius: 50%;\n",
              "        cursor: pointer;\n",
              "        display: none;\n",
              "        fill: #1967D2;\n",
              "        height: 32px;\n",
              "        padding: 0 0 0 0;\n",
              "        width: 32px;\n",
              "      }\n",
              "\n",
              "      .colab-df-generate:hover {\n",
              "        background-color: #E2EBFA;\n",
              "        box-shadow: 0px 1px 2px rgba(60, 64, 67, 0.3), 0px 1px 3px 1px rgba(60, 64, 67, 0.15);\n",
              "        fill: #174EA6;\n",
              "      }\n",
              "\n",
              "      [theme=dark] .colab-df-generate {\n",
              "        background-color: #3B4455;\n",
              "        fill: #D2E3FC;\n",
              "      }\n",
              "\n",
              "      [theme=dark] .colab-df-generate:hover {\n",
              "        background-color: #434B5C;\n",
              "        box-shadow: 0px 1px 3px 1px rgba(0, 0, 0, 0.15);\n",
              "        filter: drop-shadow(0px 1px 2px rgba(0, 0, 0, 0.3));\n",
              "        fill: #FFFFFF;\n",
              "      }\n",
              "    </style>\n",
              "    <button class=\"colab-df-generate\" onclick=\"generateWithVariable('df')\"\n",
              "            title=\"Generate code using this dataframe.\"\n",
              "            style=\"display:none;\">\n",
              "\n",
              "  <svg xmlns=\"http://www.w3.org/2000/svg\" height=\"24px\"viewBox=\"0 0 24 24\"\n",
              "       width=\"24px\">\n",
              "    <path d=\"M7,19H8.4L18.45,9,17,7.55,7,17.6ZM5,21V16.75L18.45,3.32a2,2,0,0,1,2.83,0l1.4,1.43a1.91,1.91,0,0,1,.58,1.4,1.91,1.91,0,0,1-.58,1.4L9.25,21ZM18.45,9,17,7.55Zm-12,3A5.31,5.31,0,0,0,4.9,8.1,5.31,5.31,0,0,0,1,6.5,5.31,5.31,0,0,0,4.9,4.9,5.31,5.31,0,0,0,6.5,1,5.31,5.31,0,0,0,8.1,4.9,5.31,5.31,0,0,0,12,6.5,5.46,5.46,0,0,0,6.5,12Z\"/>\n",
              "  </svg>\n",
              "    </button>\n",
              "    <script>\n",
              "      (() => {\n",
              "      const buttonEl =\n",
              "        document.querySelector('#id_d048224c-38be-43e9-914a-775099492238 button.colab-df-generate');\n",
              "      buttonEl.style.display =\n",
              "        google.colab.kernel.accessAllowed ? 'block' : 'none';\n",
              "\n",
              "      buttonEl.onclick = () => {\n",
              "        google.colab.notebook.generateWithVariable('df');\n",
              "      }\n",
              "      })();\n",
              "    </script>\n",
              "  </div>\n",
              "\n",
              "    </div>\n",
              "  </div>\n"
            ],
            "application/vnd.google.colaboratory.intrinsic+json": {
              "type": "dataframe",
              "variable_name": "df",
              "summary": "{\n  \"name\": \"df\",\n  \"rows\": 14382,\n  \"fields\": [\n    {\n      \"column\": \"Emotion\",\n      \"properties\": {\n        \"dtype\": \"category\",\n        \"num_unique_values\": 6,\n        \"samples\": [\n          \"angry\",\n          \"disgust\",\n          \"sadness\"\n        ],\n        \"semantic_type\": \"\",\n        \"description\": \"\"\n      }\n    },\n    {\n      \"column\": \"Path\",\n      \"properties\": {\n        \"dtype\": \"string\",\n        \"num_unique_values\": 14382,\n        \"samples\": [\n          \"/content/drive/MyDrive/project/data_aihub/5_2/5f3cc64b8a3c1005aa97c6d4.wav\",\n          \"/content/drive/MyDrive/project/data_aihub/4/5e32f5e65807b852d9e046a1.wav\",\n          \"/content/drive/MyDrive/project/data_aihub/5/5ecde3831dcf350eeded47bc.wav\"\n        ],\n        \"semantic_type\": \"\",\n        \"description\": \"\"\n      }\n    },\n    {\n      \"column\": \"Length\",\n      \"properties\": {\n        \"dtype\": \"number\",\n        \"std\": 2.3513939701423414,\n        \"min\": 1.109333333,\n        \"max\": 12.88533333,\n        \"num_unique_values\": 274,\n        \"samples\": [\n          3.968,\n          2.56,\n          1.322666667\n        ],\n        \"semantic_type\": \"\",\n        \"description\": \"\"\n      }\n    },\n    {\n      \"column\": \"Text\",\n      \"properties\": {\n        \"dtype\": \"string\",\n        \"num_unique_values\": 13705,\n        \"samples\": [\n          \"\\ub2f9\\ucca8 \\uc120\\ubb3c\\uc774 \\ub0b4\\uac00 \\uac16\\uace0 \\uc2f6\\uc5c8\\ub358 \\uac70\\ub77c\\uc11c \\ub108\\ubb34 \\ub9c8\\uc74c\\uc5d0 \\ub4e4\\uc5b4\",\n          \"\\ub098 \\ud63c\\uc790 \\uc9d1\\uc5d0 \\uac07\\ud78c \\uac70 \\uac19\\uc544 \\ub108\\ubb34 \\ubb34\\uc11c\\uc6cc\",\n          \"\\uc6b8\\ub801\\uac70\\ub9ac\\uace0 \\uc18d\\uc774 \\uc88b\\uc9c0 \\uc54a\\uc740\\ub370 \\ub530\\ub73b\\ud55c \\ubb3c\\uc744 \\ub9c8\\uc154\\uc11c \\ub2ec\\ub798 \\ubd10\\uc57c\\uaca0\\uc5b4\"\n        ],\n        \"semantic_type\": \"\",\n        \"description\": \"\"\n      }\n    }\n  ]\n}"
            }
          },
          "metadata": {},
          "execution_count": 3
        }
      ]
    },
    {
      "cell_type": "code",
      "source": [
        "empty_or_error_rows = df[(df['Text'].str.strip() == '') | (df['Text'] == 'Error')]\n",
        "print(len(empty_or_error_rows))"
      ],
      "metadata": {
        "colab": {
          "base_uri": "https://localhost:8080/"
        },
        "id": "jW0pSxAIPa64",
        "outputId": "1f1bb339-a380-4ec1-c395-dcc621253b7c"
      },
      "execution_count": 5,
      "outputs": [
        {
          "output_type": "stream",
          "name": "stdout",
          "text": [
            "0\n"
          ]
        }
      ]
    },
    {
      "cell_type": "markdown",
      "source": [
        "# 불필요한 공백 및 특수 문자 제거"
      ],
      "metadata": {
        "id": "c9x4WogyOg5B"
      }
    },
    {
      "cell_type": "code",
      "source": [
        "def clean_text(text):\n",
        "    text = re.sub(r'\\s+', ' ', text)\n",
        "\n",
        "    text = re.sub(r'[^가-힣a-zA-Z0-9\\s]', '', text)\n",
        "\n",
        "    text = text.strip()\n",
        "\n",
        "    return text"
      ],
      "metadata": {
        "id": "aAw_ufzAP4vj"
      },
      "execution_count": 7,
      "outputs": []
    },
    {
      "cell_type": "code",
      "source": [
        "df['cleaned_text'] = df['Text'].apply(clean_text)"
      ],
      "metadata": {
        "id": "5qDSSkaSP9dW"
      },
      "execution_count": 9,
      "outputs": []
    },
    {
      "cell_type": "code",
      "source": [
        "print(df[['Text', 'cleaned_text']])"
      ],
      "metadata": {
        "colab": {
          "base_uri": "https://localhost:8080/"
        },
        "id": "ipg1kuydQAfw",
        "outputId": "0b447e75-ca7d-480e-bdfa-f5f84cc4bf7d"
      },
      "execution_count": 11,
      "outputs": [
        {
          "output_type": "stream",
          "name": "stdout",
          "text": [
            "                                                   Text  \\\n",
            "0                                      10년도 넘었어 고등학교 동창   \n",
            "1            10분마다 연락을 해 봤지 근데 아직도이 녀석 온다고 말하지 오지 않고 있어   \n",
            "2               1년 채우고 그만두려고 했는데 아 지금 같아서는 진짜 회사 옮기고 싶다   \n",
            "3                               1시간 기다렸나 봐 다리도 아프고 짜증 나   \n",
            "4                                     1시간 기다렸는데 아직도 안 와   \n",
            "...                                                 ...   \n",
            "14377  힘들다 그만둬야 할까 어떻게 해야 될까 정말 고민이 많이 되는 거 같아 어떡하면 좋겠니   \n",
            "14378                                           힘들다 힘들어   \n",
            "14379                           힘들어 다른 회사 또 준비를 할 거야 나는   \n",
            "14380                                   힘들어하고 나도 너무 힘들어   \n",
            "14381                                     힘이 없네 나가기가 싫어   \n",
            "\n",
            "                                           cleaned_text  \n",
            "0                                      10년도 넘었어 고등학교 동창  \n",
            "1            10분마다 연락을 해 봤지 근데 아직도이 녀석 온다고 말하지 오지 않고 있어  \n",
            "2               1년 채우고 그만두려고 했는데 아 지금 같아서는 진짜 회사 옮기고 싶다  \n",
            "3                               1시간 기다렸나 봐 다리도 아프고 짜증 나  \n",
            "4                                     1시간 기다렸는데 아직도 안 와  \n",
            "...                                                 ...  \n",
            "14377  힘들다 그만둬야 할까 어떻게 해야 될까 정말 고민이 많이 되는 거 같아 어떡하면 좋겠니  \n",
            "14378                                           힘들다 힘들어  \n",
            "14379                           힘들어 다른 회사 또 준비를 할 거야 나는  \n",
            "14380                                   힘들어하고 나도 너무 힘들어  \n",
            "14381                                     힘이 없네 나가기가 싫어  \n",
            "\n",
            "[14382 rows x 2 columns]\n"
          ]
        }
      ]
    },
    {
      "cell_type": "markdown",
      "source": [
        "# 어간 추출 및 토큰화"
      ],
      "metadata": {
        "id": "I6dJTy-WOmxg"
      }
    },
    {
      "cell_type": "code",
      "source": [
        "okt = Okt()"
      ],
      "metadata": {
        "id": "ZckTbpJGQzJw"
      },
      "execution_count": 17,
      "outputs": []
    },
    {
      "cell_type": "code",
      "source": [
        "def stem_and_tokenize(text):\n",
        "    tokens = okt.morphs(text, stem = True)\n",
        "    return tokens"
      ],
      "metadata": {
        "id": "KjTMem0xQ1Ih"
      },
      "execution_count": 18,
      "outputs": []
    },
    {
      "cell_type": "code",
      "source": [
        "df['tokenized_text'] = [stem_and_tokenize(text) for text in tqdm(df['cleaned_text'])]"
      ],
      "metadata": {
        "colab": {
          "base_uri": "https://localhost:8080/"
        },
        "id": "xTktbBhjRVwt",
        "outputId": "6de6e2d0-6eba-472f-e8dc-aebca4bd871d"
      },
      "execution_count": 19,
      "outputs": [
        {
          "output_type": "stream",
          "name": "stderr",
          "text": [
            "100%|██████████| 14382/14382 [00:41<00:00, 343.72it/s]\n"
          ]
        }
      ]
    },
    {
      "cell_type": "code",
      "source": [
        "print(df[['cleaned_text', 'tokenized_text']])"
      ],
      "metadata": {
        "colab": {
          "base_uri": "https://localhost:8080/"
        },
        "id": "mGhdvTuvRY-j",
        "outputId": "3c3cec01-0e3d-44fe-a5dc-823140f6a228"
      },
      "execution_count": 20,
      "outputs": [
        {
          "output_type": "stream",
          "name": "stdout",
          "text": [
            "                                           cleaned_text  \\\n",
            "0                                      10년도 넘었어 고등학교 동창   \n",
            "1            10분마다 연락을 해 봤지 근데 아직도이 녀석 온다고 말하지 오지 않고 있어   \n",
            "2               1년 채우고 그만두려고 했는데 아 지금 같아서는 진짜 회사 옮기고 싶다   \n",
            "3                               1시간 기다렸나 봐 다리도 아프고 짜증 나   \n",
            "4                                     1시간 기다렸는데 아직도 안 와   \n",
            "...                                                 ...   \n",
            "14377  힘들다 그만둬야 할까 어떻게 해야 될까 정말 고민이 많이 되는 거 같아 어떡하면 좋겠니   \n",
            "14378                                           힘들다 힘들어   \n",
            "14379                           힘들어 다른 회사 또 준비를 할 거야 나는   \n",
            "14380                                   힘들어하고 나도 너무 힘들어   \n",
            "14381                                     힘이 없네 나가기가 싫어   \n",
            "\n",
            "                                          tokenized_text  \n",
            "0                                 [10년, 도, 넘다, 고등학교, 동창]  \n",
            "1      [10분, 마다, 연락, 을, 해, 보다, 근데, 아직도, 이, 녀석, 오다, 말,...  \n",
            "2        [1년, 채우다, 그만두다, 하다, 아, 지금, 같다, 진짜, 회사, 옮기다, 싶다]  \n",
            "3                     [1시간, 기다리다, 보다, 다리, 도, 아프다, 짜증, 나]  \n",
            "4                                [1시간, 기다리다, 아직도, 안, 오다]  \n",
            "...                                                  ...  \n",
            "14377  [힘들다, 그만두다, 하다, 어떻다, 하다, 되다, 정말, 고민, 이, 많이, 되다...  \n",
            "14378                                         [힘들다, 힘들다]  \n",
            "14379              [힘들다, 다른, 회사, 또, 준비, 를, 하다, 거야, 나, 는]  \n",
            "14380                                 [힘들다, 나다, 너무, 힘들다]  \n",
            "14381                                [힘, 이, 없다, 나가다, 싫다]  \n",
            "\n",
            "[14382 rows x 2 columns]\n"
          ]
        }
      ]
    },
    {
      "cell_type": "code",
      "source": [
        "df.to_csv('final_data.csv', index = False, encoding = 'utf-8-sig')"
      ],
      "metadata": {
        "id": "PlG5s6nyRfWT"
      },
      "execution_count": 21,
      "outputs": []
    }
  ]
}