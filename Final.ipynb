{
  "nbformat": 4,
  "nbformat_minor": 0,
  "metadata": {
    "colab": {
      "provenance": [],
      "machine_shape": "hm",
      "gpuType": "L4"
    },
    "kernelspec": {
      "name": "python3",
      "display_name": "Python 3"
    },
    "language_info": {
      "name": "python"
    },
    "accelerator": "GPU"
    
  },
  "cells": [
    {
      "cell_type": "code",
      "source": [
        "from google.colab import drive\n",
        "drive.mount('/content/drive')"
      ],
      "metadata": {
        "colab": {
          "base_uri": "https://localhost:8080/"
        },
        "id": "33n-HvvwDZX2",
        "outputId": "0f480faa-f208-4c74-837d-2e07c2718b84"
      },
      "execution_count": null,
      "outputs": [
        {
          "output_type": "stream",
          "name": "stdout",
          "text": [
            "Mounted at /content/drive\n"
          ]
        }
      ]
    },
    {
      "cell_type": "code",
      "source": [
        "!pip install SpeechRecognition"
      ],
      "metadata": {
        "colab": {
          "base_uri": "https://localhost:8080/"
        },
        "id": "WxqhC2oNDqir",
        "outputId": "305c8cbb-a815-4ca5-b5cc-d851a0aa18fc"
      },
      "execution_count": null,
      "outputs": [
        {
          "output_type": "stream",
          "name": "stdout",
          "text": [
            "Collecting SpeechRecognition\n",
            "  Downloading SpeechRecognition-3.11.0-py2.py3-none-any.whl.metadata (28 kB)\n",
            "Requirement already satisfied: requests>=2.26.0 in /usr/local/lib/python3.10/dist-packages (from SpeechRecognition) (2.32.3)\n",
            "Requirement already satisfied: typing-extensions in /usr/local/lib/python3.10/dist-packages (from SpeechRecognition) (4.12.2)\n",
            "Requirement already satisfied: charset-normalizer<4,>=2 in /usr/local/lib/python3.10/dist-packages (from requests>=2.26.0->SpeechRecognition) (3.4.0)\n",
            "Requirement already satisfied: idna<4,>=2.5 in /usr/local/lib/python3.10/dist-packages (from requests>=2.26.0->SpeechRecognition) (3.10)\n",
            "Requirement already satisfied: urllib3<3,>=1.21.1 in /usr/local/lib/python3.10/dist-packages (from requests>=2.26.0->SpeechRecognition) (2.2.3)\n",
            "Requirement already satisfied: certifi>=2017.4.17 in /usr/local/lib/python3.10/dist-packages (from requests>=2.26.0->SpeechRecognition) (2024.8.30)\n",
            "Downloading SpeechRecognition-3.11.0-py2.py3-none-any.whl (32.8 MB)\n",
            "\u001b[2K   \u001b[90m━━━━━━━━━━━━━━━━━━━━━━━━━━━━━━━━━━━━━━━━\u001b[0m \u001b[32m32.8/32.8 MB\u001b[0m \u001b[31m61.6 MB/s\u001b[0m eta \u001b[36m0:00:00\u001b[0m\n",
            "\u001b[?25hInstalling collected packages: SpeechRecognition\n",
            "Successfully installed SpeechRecognition-3.11.0\n"
          ]
        }
      ]
    },
    {
      "cell_type": "code",
      "source": [
        "import torch\n",
        "from transformers import BertTokenizer, BertModel\n",
        "import speech_recognition as sr\n",
        "import numpy as np\n",
        "import torch.nn as nn\n",
        "import pandas as pd"
      ],
      "metadata": {
        "id": "99o6W2lDYNZI"
      },
      "execution_count": null,
      "outputs": []
    },
    {
      "cell_type": "code",
      "source": [
        "class KoBERTEmotionClassifier(nn.Module):\n",
        "    def __init__(self, n_classes):\n",
        "        super(KoBERTEmotionClassifier, self).__init__()\n",
        "        self.bert = BertModel.from_pretrained(\"monologg/kobert\")\n",
        "        self.drop = nn.Dropout(p=0.3)\n",
        "        self.out = nn.Linear(self.bert.config.hidden_size, n_classes)\n",
        "\n",
        "    def forward(self, input_ids, attention_mask, token_type_ids):\n",
        "        _, pooled_output = self.bert(\n",
        "            input_ids=input_ids,\n",
        "            attention_mask=attention_mask,\n",
        "            token_type_ids=token_type_ids,\n",
        "            return_dict=False\n",
        "        )\n",
        "        output = self.drop(pooled_output)\n",
        "        return self.out(output)"
      ],
      "metadata": {
        "id": "Cb9aBoKlYOrY"
      },
      "execution_count": null,
      "outputs": []
    },
    {
      "cell_type": "code",
      "source": [
        "n_classes = 6  # 감정 클래스 수 (필요에 따라 수정)\n",
        "model = KoBERTEmotionClassifier(n_classes)\n",
        "model.load_state_dict(torch.load(\"/content/drive/MyDrive/saved_kobert_emotion_model.pth\"))\n",
        "model.eval()  # 평가 모드로 설정\n",
        "tokenizer = BertTokenizer.from_pretrained(\"/content/drive/MyDrive/saved_tokenizer\")"
      ],
      "metadata": {
        "colab": {
          "base_uri": "https://localhost:8080/",
          "height": 248,
          "referenced_widgets": [
            "4d6b71c2c8ca4ded8b86fba50c595333",
            "58c9e31769be49e0a9b9746655f2699e",
            "d87bcaf20d7448e19bb346fca0032b79",
            "77fa2000ee7c4d4f9a66afc9da14cf92",
            "00559a51009c4c0fb42fc2d1b7cbde4e",
            "ffcb5e8193a74b8a9e73b5eac71d6d65",
            "ad5b81d43fd147879e62ad11905ae6c2",
            "95cf03d955694484bd5f4eb0e9654428",
            "5b48712c261f435eb0b3760970724fb1",
            "6195c8c9c4734ab984720fdcffd25526",
            "a6fc58b784db415fae0f024a412bf20c",
            "37066e9eda254d2e98264c221263de60",
            "2608b44010d04e6d89f8aadfe70aeecd",
            "ada0e4bd5d4045bf96ab33176f37c943",
            "0a805f79111c466d9f54db71b41b23cd",
            "7f05233741ce436c8391f36e5b245bac",
            "cfbd1f8c61984dffa24609f36d9df11e",
            "c0f05896b7e645678fabd5d6d61bf68f",
            "74d30038eedc47c182b9ab942c3f4bce",
            "05109f5610c24deb92a968d0adaf4759",
            "8e730e27c55b493d982f6114791acfa1",
            "8c3f0969e7ce4f488a5cfdb2a87900b3"
          ]
        },
        "id": "hdNOiHrYYQLF",
        "outputId": "b2ca7323-efa2-4539-bbdf-6797d57e9223"
      },
      "execution_count": null,
      "outputs": [
        {
          "output_type": "stream",
          "name": "stderr",
          "text": [
            "/usr/local/lib/python3.10/dist-packages/huggingface_hub/utils/_token.py:89: UserWarning: \n",
            "The secret `HF_TOKEN` does not exist in your Colab secrets.\n",
            "To authenticate with the Hugging Face Hub, create a token in your settings tab (https://huggingface.co/settings/tokens), set it as secret in your Google Colab and restart your session.\n",
            "You will be able to reuse this secret in all of your notebooks.\n",
            "Please note that authentication is recommended but still optional to access public models or datasets.\n",
            "  warnings.warn(\n"
          ]
        },
        {
          "output_type": "display_data",
          "data": {
            "text/plain": [
              "config.json:   0%|          | 0.00/426 [00:00<?, ?B/s]"
            ],
            "application/vnd.jupyter.widget-view+json": {
              "version_major": 2,
              "version_minor": 0,
              "model_id": "4d6b71c2c8ca4ded8b86fba50c595333"
            }
          },
          "metadata": {}
        },
        {
          "output_type": "display_data",
          "data": {
            "text/plain": [
              "model.safetensors:   0%|          | 0.00/369M [00:00<?, ?B/s]"
            ],
            "application/vnd.jupyter.widget-view+json": {
              "version_major": 2,
              "version_minor": 0,
              "model_id": "37066e9eda254d2e98264c221263de60"
            }
          },
          "metadata": {}
        },
        {
          "output_type": "stream",
          "name": "stderr",
          "text": [
            "<ipython-input-5-98283734912f>:3: FutureWarning: You are using `torch.load` with `weights_only=False` (the current default value), which uses the default pickle module implicitly. It is possible to construct malicious pickle data which will execute arbitrary code during unpickling (See https://github.com/pytorch/pytorch/blob/main/SECURITY.md#untrusted-models for more details). In a future release, the default value for `weights_only` will be flipped to `True`. This limits the functions that could be executed during unpickling. Arbitrary objects will no longer be allowed to be loaded via this mode unless they are explicitly allowlisted by the user via `torch.serialization.add_safe_globals`. We recommend you start setting `weights_only=True` for any use case where you don't have full control of the loaded file. Please open an issue on GitHub for any issues related to this experimental feature.\n",
            "  model.load_state_dict(torch.load(\"/content/drive/MyDrive/saved_kobert_emotion_model.pth\"))\n"
          ]
        }
      ]
    },
    {
      "cell_type": "code",
      "source": [
        "def transcribe_audio_to_text(audio_file):\n",
        "    recognizer = sr.Recognizer()\n",
        "    with sr.AudioFile(audio_file) as source:\n",
        "        audio_data = recognizer.record(source)\n",
        "    try:\n",
        "        text = recognizer.recognize_google(audio_data, language=\"ko-KR\")\n",
        "        return text\n",
        "    except sr.UnknownValueError:\n",
        "        return \"STT 실패: 음성을 인식할 수 없습니다.\"\n",
        "    except sr.RequestError as e:\n",
        "        return f\"STT 실패: {e}\""
      ],
      "metadata": {
        "id": "kjJicXsWYW2_"
      },
      "execution_count": null,
      "outputs": []
    },
    {
      "cell_type": "code",
      "source": [
        "def analyze_sentiment_kobert(text):\n",
        "    # 텍스트를 KoBERT 모델에 맞게 토큰화 및 텐서 변환\n",
        "    inputs = tokenizer.encode_plus(\n",
        "        text,\n",
        "        None,\n",
        "        add_special_tokens=True,\n",
        "        max_length=64,\n",
        "        padding='max_length',\n",
        "        return_token_type_ids=True,\n",
        "        truncation=True,\n",
        "        return_tensors='pt'\n",
        "    )\n",
        "\n",
        "    input_ids = inputs['input_ids']\n",
        "    attention_mask = inputs['attention_mask']\n",
        "    token_type_ids = inputs['token_type_ids']\n",
        "\n",
        "    # 감정 예측\n",
        "    with torch.no_grad():\n",
        "        outputs = model(input_ids=input_ids, attention_mask=attention_mask, token_type_ids=token_type_ids)\n",
        "        logits = outputs\n",
        "        predicted_class = torch.argmax(logits, dim=1).item()\n",
        "\n",
        "    # 감정 레이블 매핑 (사용자 정의 레이블로 변경 가능)\n",
        "    label_map = {0: \"행복\", 1: \"슬픔\", 2: \"분노\", 3: \"중립\", 4: \"두려움\", 5: \"혐오\"}\n",
        "    return label_map.get(predicted_class, \"알 수 없는 감정\")"
      ],
      "metadata": {
        "id": "XUPCHb_AYiUk"
      },
      "execution_count": null,
      "outputs": []
    },
    {
      "cell_type": "code",
      "source": [
        "def stt_and_sentiment_analysis(audio_file):\n",
        "    # STT 수행\n",
        "    text = transcribe_audio_to_text(audio_file)\n",
        "\n",
        "    # STT 실패 시 메시지 출력\n",
        "    if \"STT 실패\" in text:\n",
        "        return text\n",
        "\n",
        "    # 감정 분석 수행\n",
        "    sentiment = analyze_sentiment_kobert(text)\n",
        "\n",
        "    # 결과 출력\n",
        "    print(f\"STT 결과 텍스트: {text}\")\n",
        "    print(f\"감정 분석 결과: {sentiment}\")"
      ],
      "metadata": {
        "id": "2rhRK1tnYke3"
      },
      "execution_count": null,
      "outputs": []
    },
    {
      "cell_type": "code",
      "source": [
        "df = pd.read_csv('aihub.csv')\n",
        "df_train = pd.read_csv('data_emotion.csv')\n",
        "print(df.shape, df_train.shape)"
      ],
      "metadata": {
        "id": "8WJs-ygYJ1p7",
        "outputId": "3d20e456-38c4-4c3c-83c1-c3fd7a915a79",
        "colab": {
          "base_uri": "https://localhost:8080/"
        }
      },
      "execution_count": null,
      "outputs": [
        {
          "output_type": "stream",
          "name": "stdout",
          "text": [
            "(37196, 2) (14382, 3)\n"
          ]
        }
      ]
    },
    {
      "cell_type": "code",
      "source": [
        "df_not_in_train = df[~df['Path'].isin(df_train['Path'])]\n",
        "print(df_not_in_train.shape)"
      ],
      "metadata": {
        "id": "YnBa-pFeKbvr",
        "outputId": "c3743184-37be-48d0-8b19-9384ae9b16ab",
        "colab": {
          "base_uri": "https://localhost:8080/"
        }
      },
      "execution_count": null,
      "outputs": [
        {
          "output_type": "stream",
          "name": "stdout",
          "text": [
            "(22814, 2)\n"
          ]
        }
      ]
    },
    {
      "cell_type": "code",
      "source": [
        "sampled_paths = df_not_in_train['Path'].sample(5).to_list()\n",
        "\n",
        "for path in sampled_paths:\n",
        "    print(path)"
      ],
      "metadata": {
        "id": "wCocaA2-K9L1",
        "outputId": "5904bfca-1f32-41fc-9712-dbcfbd413fa3",
        "colab": {
          "base_uri": "https://localhost:8080/"
        }
      },
      "execution_count": null,
      "outputs": [
        {
          "output_type": "stream",
          "name": "stdout",
          "text": [
            "/content/drive/MyDrive/project/data_aihub/4/5e43f32b2b6c8802f2d85ffd.wav\n",
            "/content/drive/MyDrive/project/data_aihub/4/5e42c2bb189842034d9f7640.wav\n",
            "/content/drive/MyDrive/project/data_aihub/4/5e37e400c8c25f16cd145832.wav\n",
            "/content/drive/MyDrive/project/data_aihub/5/5ef8a16b497740547350bef6.wav\n",
            "/content/drive/MyDrive/project/data_aihub/4/5e49bc5a7bef803b4851dd3f.wav\n"
          ]
        }
      ]
    },
    {
      "cell_type": "code",
      "source": [
        "audio_file_path = \"/content/drive/MyDrive/project/data_aihub/5_2/5f707eb99e04b149046cbec9.wav\"  # 음성 파일 경로\n",
        "stt_and_sentiment_analysis(audio_file_path)"
      ],
      "metadata": {
        "id": "2RROWG-KOx9o",
        "outputId": "edb27c82-921c-4597-d563-4130a77e4785",
        "colab": {
          "base_uri": "https://localhost:8080/"
        }
      },
      "execution_count": null,
      "outputs": [
        {
          "output_type": "stream",
          "name": "stdout",
          "text": [
            "STT 결과 텍스트: 한번 그렇게 해 볼게 고마워\n",
            "감정 분석 결과: 행복\n"
          ]
        }
      ]
    },
    {
      "cell_type": "code",
      "source": [
        "audio_file_path = \"/content/drive/MyDrive/project/data_aihub/5/5f07d84eb140144dfcff0cc5.wav\"  # 음성 파일 경로\n",
        "stt_and_sentiment_analysis(audio_file_path)"
      ],
      "metadata": {
        "id": "Tuj1y3kHM33z",
        "outputId": "f9d362ad-e740-4c43-d240-76ed6500b623",
        "colab": {
          "base_uri": "https://localhost:8080/"
        }
      },
      "execution_count": null,
      "outputs": [
        {
          "output_type": "stream",
          "name": "stdout",
          "text": [
            "STT 결과 텍스트: 해피가 갑자기 우리 곁을 떠나고 나니까 해피의 자리가 너무 크게 느껴져 너무 허전해\n",
            "감정 분석 결과: 슬픔\n"
          ]
        }
      ]
    },
    {
      "cell_type": "code",
      "source": [
        "audio_file_path = \"/content/drive/MyDrive/project/data_aihub/4/5e45d8772a2d173b73a02a08.wav\"  # 음성 파일 경로\n",
        "stt_and_sentiment_analysis(audio_file_path)"
      ],
      "metadata": {
        "id": "Su13jrIdLt4i",
        "outputId": "ee254f24-6392-4bec-f51c-5adca0a1e0bf",
        "colab": {
          "base_uri": "https://localhost:8080/"
        }
      },
      "execution_count": null,
      "outputs": [
        {
          "output_type": "stream",
          "name": "stdout",
          "text": [
            "STT 결과 텍스트: 고등학교 때 친구인데 이렇게 방을 더럽게 사용할 줄 몰랐어\n",
            "감정 분석 결과: 분노\n"
          ]
        }
      ]
    },
    {
      "cell_type": "code",
      "source": [
        "audio_file_path = \"/content/drive/MyDrive/project/data_aihub/4/5e351b635807b852d9e077ad.wav\"  # 음성 파일 경로\n",
        "stt_and_sentiment_analysis(audio_file_path)"
      ],
      "metadata": {
        "id": "stXVwo6bNMWb",
        "outputId": "04c763ac-790f-475b-c1fc-29c0c8a873db",
        "colab": {
          "base_uri": "https://localhost:8080/"
        }
      },
      "execution_count": null,
      "outputs": [
        {
          "output_type": "stream",
          "name": "stdout",
          "text": [
            "STT 결과 텍스트: 아니 대학교 와서 처음 만났지\n",
            "감정 분석 결과: 중립\n"
          ]
        }
      ]
    },
    {
      "cell_type": "code",
      "source": [
        "audio_file_path = \"/content/drive/MyDrive/project/data_aihub/5_2/5f633b67b878131628349eb5.wav\"  # 음성 파일 경로\n",
        "stt_and_sentiment_analysis(audio_file_path)"
      ],
      "metadata": {
        "id": "C_oHACevOXuD",
        "outputId": "17516696-9b35-4810-a248-2ab48e22faea",
        "colab": {
          "base_uri": "https://localhost:8080/"
        }
      },
      "execution_count": null,
      "outputs": [
        {
          "output_type": "stream",
          "name": "stdout",
          "text": [
            "STT 결과 텍스트: 간신히 잠이 들어서 자고 있는데 갑자기 천둥소리 때문에 놀라서 깼어\n",
            "감정 분석 결과: 두려움\n"
          ]
        }
      ]
    },
    {
      "cell_type": "code",
      "source": [
        "audio_file_path = \"/content/drive/MyDrive/project/data_aihub/5_2/5fba3a404c55eb78bd7ce2aa.wav\"  # 음성 파일 경로\n",
        "stt_and_sentiment_analysis(audio_file_path)"
      ],
      "metadata": {
        "id": "UATem4bcPeNN",
        "outputId": "ed6c3f01-1264-4ba9-e401-b16ea6ae2294",
        "colab": {
          "base_uri": "https://localhost:8080/"
        }
      },
      "execution_count": null,
      "outputs": [
        {
          "output_type": "stream",
          "name": "stdout",
          "text": [
            "STT 결과 텍스트: 아 진짜 존나 예민해 짜증 나\n",
            "감정 분석 결과: 혐오\n"
          ]
        }
      ]
    }
  ]
}