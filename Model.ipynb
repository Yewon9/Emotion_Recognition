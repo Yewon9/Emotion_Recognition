{
  "nbformat": 4,
  "nbformat_minor": 0,
  "metadata": {
    "colab": {
      "provenance": [],
      "toc_visible": true,
      "machine_shape": "hm",
      "gpuType": "A100",
      "authorship_tag": "ABX9TyPzKlOOqfFdEAQ3PaTfSmBJ",
      "include_colab_link": true
    },
    "kernelspec": {
      "name": "python3",
      "display_name": "Python 3"
    },
    "language_info": {
      "name": "python"
    },
    "accelerator": "GPU"
  },
  "cells": [
    {
      "cell_type": "markdown",
      "metadata": {
        "id": "view-in-github",
        "colab_type": "text"
      },
      "source": [
        "<a href=\"https://colab.research.google.com/github/Yewon9/Emotion_Recognition/blob/main/Model.ipynb\" target=\"_parent\"><img src=\"https://colab.research.google.com/assets/colab-badge.svg\" alt=\"Open In Colab\"/></a>"
      ]
    },
    {
      "cell_type": "markdown",
      "source": [
        "# IMPORT"
      ],
      "metadata": {
        "id": "3RYk9oQOSWHd"
      }
    },
    {
      "cell_type": "code",
      "execution_count": 120,
      "metadata": {
        "colab": {
          "base_uri": "https://localhost:8080/"
        },
        "id": "M8XOWLkUSRFD",
        "outputId": "b87556b3-136d-432e-a974-2c17f24857f1"
      },
      "outputs": [
        {
          "output_type": "stream",
          "name": "stdout",
          "text": [
            "Drive already mounted at /content/drive; to attempt to forcibly remount, call drive.mount(\"/content/drive\", force_remount=True).\n"
          ]
        }
      ],
      "source": [
        "from google.colab import drive\n",
        "drive.mount('/content/drive')"
      ]
    },
    {
      "cell_type": "code",
      "source": [
        "!pip install transformers sentencepiece torch"
      ],
      "metadata": {
        "colab": {
          "base_uri": "https://localhost:8080/"
        },
        "id": "wUbXy1QfHI-b",
        "outputId": "321396b1-6858-44f0-f71e-e67d1013804c"
      },
      "execution_count": 121,
      "outputs": [
        {
          "output_type": "stream",
          "name": "stdout",
          "text": [
            "Requirement already satisfied: transformers in /usr/local/lib/python3.10/dist-packages (4.44.2)\n",
            "Requirement already satisfied: sentencepiece in /usr/local/lib/python3.10/dist-packages (0.2.0)\n",
            "Requirement already satisfied: torch in /usr/local/lib/python3.10/dist-packages (2.5.0+cu121)\n",
            "Requirement already satisfied: filelock in /usr/local/lib/python3.10/dist-packages (from transformers) (3.16.1)\n",
            "Requirement already satisfied: huggingface-hub<1.0,>=0.23.2 in /usr/local/lib/python3.10/dist-packages (from transformers) (0.24.7)\n",
            "Requirement already satisfied: numpy>=1.17 in /usr/local/lib/python3.10/dist-packages (from transformers) (1.26.4)\n",
            "Requirement already satisfied: packaging>=20.0 in /usr/local/lib/python3.10/dist-packages (from transformers) (24.1)\n",
            "Requirement already satisfied: pyyaml>=5.1 in /usr/local/lib/python3.10/dist-packages (from transformers) (6.0.2)\n",
            "Requirement already satisfied: regex!=2019.12.17 in /usr/local/lib/python3.10/dist-packages (from transformers) (2024.9.11)\n",
            "Requirement already satisfied: requests in /usr/local/lib/python3.10/dist-packages (from transformers) (2.32.3)\n",
            "Requirement already satisfied: safetensors>=0.4.1 in /usr/local/lib/python3.10/dist-packages (from transformers) (0.4.5)\n",
            "Requirement already satisfied: tokenizers<0.20,>=0.19 in /usr/local/lib/python3.10/dist-packages (from transformers) (0.19.1)\n",
            "Requirement already satisfied: tqdm>=4.27 in /usr/local/lib/python3.10/dist-packages (from transformers) (4.66.5)\n",
            "Requirement already satisfied: typing-extensions>=4.8.0 in /usr/local/lib/python3.10/dist-packages (from torch) (4.12.2)\n",
            "Requirement already satisfied: networkx in /usr/local/lib/python3.10/dist-packages (from torch) (3.4.2)\n",
            "Requirement already satisfied: jinja2 in /usr/local/lib/python3.10/dist-packages (from torch) (3.1.4)\n",
            "Requirement already satisfied: fsspec in /usr/local/lib/python3.10/dist-packages (from torch) (2024.6.1)\n",
            "Requirement already satisfied: sympy==1.13.1 in /usr/local/lib/python3.10/dist-packages (from torch) (1.13.1)\n",
            "Requirement already satisfied: mpmath<1.4,>=1.1.0 in /usr/local/lib/python3.10/dist-packages (from sympy==1.13.1->torch) (1.3.0)\n",
            "Requirement already satisfied: MarkupSafe>=2.0 in /usr/local/lib/python3.10/dist-packages (from jinja2->torch) (3.0.2)\n",
            "Requirement already satisfied: charset-normalizer<4,>=2 in /usr/local/lib/python3.10/dist-packages (from requests->transformers) (3.4.0)\n",
            "Requirement already satisfied: idna<4,>=2.5 in /usr/local/lib/python3.10/dist-packages (from requests->transformers) (3.10)\n",
            "Requirement already satisfied: urllib3<3,>=1.21.1 in /usr/local/lib/python3.10/dist-packages (from requests->transformers) (2.2.3)\n",
            "Requirement already satisfied: certifi>=2017.4.17 in /usr/local/lib/python3.10/dist-packages (from requests->transformers) (2024.8.30)\n"
          ]
        }
      ]
    },
    {
      "cell_type": "code",
      "source": [
        "from transformers import BertTokenizer, BertForSequenceClassification, Trainer, TrainingArguments\n",
        "from transformers import BertTokenizerFast\n",
        "from transformers import get_linear_schedule_with_warmup\n",
        "from sklearn.model_selection import train_test_split\n",
        "import torch\n",
        "import pandas as pd\n",
        "from sklearn.preprocessing import LabelEncoder\n",
        "from sklearn.feature_extraction.text import TfidfVectorizer\n",
        "from sklearn.svm import SVC\n",
        "from sklearn.linear_model import LogisticRegression\n",
        "from sklearn.ensemble import RandomForestClassifier\n",
        "from sklearn.metrics import accuracy_score, f1_score\n",
        "import torch.nn as nn\n",
        "import torch.optim as optim\n",
        "from torch.utils.data import DataLoader, TensorDataset\n",
        "from tensorflow.keras.preprocessing.sequence import pad_sequences\n",
        "from tqdm import tqdm\n",
        "from torch.utils.data import Dataset\n",
        "import numpy as np\n",
        "from torch.optim import AdamW\n",
        "from transformers import BertModel\n",
        "from torch.optim.lr_scheduler import ReduceLROnPlateau"
      ],
      "metadata": {
        "id": "AMRDv9FiT_jx"
      },
      "execution_count": 122,
      "outputs": []
    },
    {
      "cell_type": "markdown",
      "source": [
        "# DATA"
      ],
      "metadata": {
        "id": "72h-I1RlUIaR"
      }
    },
    {
      "cell_type": "code",
      "source": [
        "df = pd.read_csv('emotion_tokenized_data.csv')\n",
        "df"
      ],
      "metadata": {
        "colab": {
          "base_uri": "https://localhost:8080/",
          "height": 597
        },
        "id": "blUVCGOhUIAM",
        "outputId": "e214a631-60c0-4a11-d34e-ec1a45455fd9"
      },
      "execution_count": 139,
      "outputs": [
        {
          "output_type": "execute_result",
          "data": {
            "text/plain": [
              "       Emotion                                               Path     Length  \\\n",
              "0        angry  /content/drive/MyDrive/project/data_aihub/4/5e...   4.565333   \n",
              "1        angry  /content/drive/MyDrive/project/data_aihub/4/5e...   8.576000   \n",
              "2        angry  /content/drive/MyDrive/project/data_aihub/4/5e...   7.040000   \n",
              "3        angry  /content/drive/MyDrive/project/data_aihub/4/5e...   5.034667   \n",
              "4        angry  /content/drive/MyDrive/project/data_aihub/4/5e...   4.266667   \n",
              "...        ...                                                ...        ...   \n",
              "14377  sadness  /content/drive/MyDrive/project/data_aihub/4/5e...  10.880000   \n",
              "14378  sadness  /content/drive/MyDrive/project/data_aihub/5_2/...   4.821333   \n",
              "14379  sadness  /content/drive/MyDrive/project/data_aihub/4/5e...   5.248000   \n",
              "14380  sadness  /content/drive/MyDrive/project/data_aihub/4/5e...   3.114667   \n",
              "14381  sadness  /content/drive/MyDrive/project/data_aihub/5/5e...   6.186667   \n",
              "\n",
              "                                                   Text  \\\n",
              "0                                      10년도 넘었어 고등학교 동창   \n",
              "1            10분마다 연락을 해 봤지 근데 아직도이 녀석 온다고 말하지 오지 않고 있어   \n",
              "2               1년 채우고 그만두려고 했는데 아 지금 같아서는 진짜 회사 옮기고 싶다   \n",
              "3                               1시간 기다렸나 봐 다리도 아프고 짜증 나   \n",
              "4                                     1시간 기다렸는데 아직도 안 와   \n",
              "...                                                 ...   \n",
              "14377  힘들다 그만둬야 할까 어떻게 해야 될까 정말 고민이 많이 되는 거 같아 어떡하면 좋겠니   \n",
              "14378                                           힘들다 힘들어   \n",
              "14379                           힘들어 다른 회사 또 준비를 할 거야 나는   \n",
              "14380                                   힘들어하고 나도 너무 힘들어   \n",
              "14381                                     힘이 없네 나가기가 싫어   \n",
              "\n",
              "                                           cleaned_text  \\\n",
              "0                                      10년도 넘었어 고등학교 동창   \n",
              "1            10분마다 연락을 해 봤지 근데 아직도이 녀석 온다고 말하지 오지 않고 있어   \n",
              "2               1년 채우고 그만두려고 했는데 아 지금 같아서는 진짜 회사 옮기고 싶다   \n",
              "3                               1시간 기다렸나 봐 다리도 아프고 짜증 나   \n",
              "4                                     1시간 기다렸는데 아직도 안 와   \n",
              "...                                                 ...   \n",
              "14377  힘들다 그만둬야 할까 어떻게 해야 될까 정말 고민이 많이 되는 거 같아 어떡하면 좋겠니   \n",
              "14378                                           힘들다 힘들어   \n",
              "14379                           힘들어 다른 회사 또 준비를 할 거야 나는   \n",
              "14380                                   힘들어하고 나도 너무 힘들어   \n",
              "14381                                     힘이 없네 나가기가 싫어   \n",
              "\n",
              "                                               tokenized  \n",
              "0      {'input_ids': tensor([[   2,    0,    0, 5441,...  \n",
              "1      {'input_ids': tensor([[   2,    0,    0, 7848,...  \n",
              "2      {'input_ids': tensor([[   2,    0,    0,    0,...  \n",
              "3      {'input_ids': tensor([[   2,    0,    0, 6393,...  \n",
              "4      {'input_ids': tensor([[   2,    0,    0,    0,...  \n",
              "...                                                  ...  \n",
              "14377  {'input_ids': tensor([[   2,    0,    0,    0,...  \n",
              "14378  {'input_ids': tensor([[2, 0, 0, 3, 1, 1, 1, 1,...  \n",
              "14379  {'input_ids': tensor([[   2,    0, 5783, 7957,...  \n",
              "14380  {'input_ids': tensor([[2, 0, 0, 0, 0, 3, 1, 1,...  \n",
              "14381  {'input_ids': tensor([[2, 0, 0, 0, 0, 3, 1, 1,...  \n",
              "\n",
              "[14382 rows x 6 columns]"
            ],
            "text/html": [
              "\n",
              "  <div id=\"df-e5226ddb-3f5e-41fc-a97a-75c4047a77dd\" class=\"colab-df-container\">\n",
              "    <div>\n",
              "<style scoped>\n",
              "    .dataframe tbody tr th:only-of-type {\n",
              "        vertical-align: middle;\n",
              "    }\n",
              "\n",
              "    .dataframe tbody tr th {\n",
              "        vertical-align: top;\n",
              "    }\n",
              "\n",
              "    .dataframe thead th {\n",
              "        text-align: right;\n",
              "    }\n",
              "</style>\n",
              "<table border=\"1\" class=\"dataframe\">\n",
              "  <thead>\n",
              "    <tr style=\"text-align: right;\">\n",
              "      <th></th>\n",
              "      <th>Emotion</th>\n",
              "      <th>Path</th>\n",
              "      <th>Length</th>\n",
              "      <th>Text</th>\n",
              "      <th>cleaned_text</th>\n",
              "      <th>tokenized</th>\n",
              "    </tr>\n",
              "  </thead>\n",
              "  <tbody>\n",
              "    <tr>\n",
              "      <th>0</th>\n",
              "      <td>angry</td>\n",
              "      <td>/content/drive/MyDrive/project/data_aihub/4/5e...</td>\n",
              "      <td>4.565333</td>\n",
              "      <td>10년도 넘었어 고등학교 동창</td>\n",
              "      <td>10년도 넘었어 고등학교 동창</td>\n",
              "      <td>{'input_ids': tensor([[   2,    0,    0, 5441,...</td>\n",
              "    </tr>\n",
              "    <tr>\n",
              "      <th>1</th>\n",
              "      <td>angry</td>\n",
              "      <td>/content/drive/MyDrive/project/data_aihub/4/5e...</td>\n",
              "      <td>8.576000</td>\n",
              "      <td>10분마다 연락을 해 봤지 근데 아직도이 녀석 온다고 말하지 오지 않고 있어</td>\n",
              "      <td>10분마다 연락을 해 봤지 근데 아직도이 녀석 온다고 말하지 오지 않고 있어</td>\n",
              "      <td>{'input_ids': tensor([[   2,    0,    0, 7848,...</td>\n",
              "    </tr>\n",
              "    <tr>\n",
              "      <th>2</th>\n",
              "      <td>angry</td>\n",
              "      <td>/content/drive/MyDrive/project/data_aihub/4/5e...</td>\n",
              "      <td>7.040000</td>\n",
              "      <td>1년 채우고 그만두려고 했는데 아 지금 같아서는 진짜 회사 옮기고 싶다</td>\n",
              "      <td>1년 채우고 그만두려고 했는데 아 지금 같아서는 진짜 회사 옮기고 싶다</td>\n",
              "      <td>{'input_ids': tensor([[   2,    0,    0,    0,...</td>\n",
              "    </tr>\n",
              "    <tr>\n",
              "      <th>3</th>\n",
              "      <td>angry</td>\n",
              "      <td>/content/drive/MyDrive/project/data_aihub/4/5e...</td>\n",
              "      <td>5.034667</td>\n",
              "      <td>1시간 기다렸나 봐 다리도 아프고 짜증 나</td>\n",
              "      <td>1시간 기다렸나 봐 다리도 아프고 짜증 나</td>\n",
              "      <td>{'input_ids': tensor([[   2,    0,    0, 6393,...</td>\n",
              "    </tr>\n",
              "    <tr>\n",
              "      <th>4</th>\n",
              "      <td>angry</td>\n",
              "      <td>/content/drive/MyDrive/project/data_aihub/4/5e...</td>\n",
              "      <td>4.266667</td>\n",
              "      <td>1시간 기다렸는데 아직도 안 와</td>\n",
              "      <td>1시간 기다렸는데 아직도 안 와</td>\n",
              "      <td>{'input_ids': tensor([[   2,    0,    0,    0,...</td>\n",
              "    </tr>\n",
              "    <tr>\n",
              "      <th>...</th>\n",
              "      <td>...</td>\n",
              "      <td>...</td>\n",
              "      <td>...</td>\n",
              "      <td>...</td>\n",
              "      <td>...</td>\n",
              "      <td>...</td>\n",
              "    </tr>\n",
              "    <tr>\n",
              "      <th>14377</th>\n",
              "      <td>sadness</td>\n",
              "      <td>/content/drive/MyDrive/project/data_aihub/4/5e...</td>\n",
              "      <td>10.880000</td>\n",
              "      <td>힘들다 그만둬야 할까 어떻게 해야 될까 정말 고민이 많이 되는 거 같아 어떡하면 좋겠니</td>\n",
              "      <td>힘들다 그만둬야 할까 어떻게 해야 될까 정말 고민이 많이 되는 거 같아 어떡하면 좋겠니</td>\n",
              "      <td>{'input_ids': tensor([[   2,    0,    0,    0,...</td>\n",
              "    </tr>\n",
              "    <tr>\n",
              "      <th>14378</th>\n",
              "      <td>sadness</td>\n",
              "      <td>/content/drive/MyDrive/project/data_aihub/5_2/...</td>\n",
              "      <td>4.821333</td>\n",
              "      <td>힘들다 힘들어</td>\n",
              "      <td>힘들다 힘들어</td>\n",
              "      <td>{'input_ids': tensor([[2, 0, 0, 3, 1, 1, 1, 1,...</td>\n",
              "    </tr>\n",
              "    <tr>\n",
              "      <th>14379</th>\n",
              "      <td>sadness</td>\n",
              "      <td>/content/drive/MyDrive/project/data_aihub/4/5e...</td>\n",
              "      <td>5.248000</td>\n",
              "      <td>힘들어 다른 회사 또 준비를 할 거야 나는</td>\n",
              "      <td>힘들어 다른 회사 또 준비를 할 거야 나는</td>\n",
              "      <td>{'input_ids': tensor([[   2,    0, 5783, 7957,...</td>\n",
              "    </tr>\n",
              "    <tr>\n",
              "      <th>14380</th>\n",
              "      <td>sadness</td>\n",
              "      <td>/content/drive/MyDrive/project/data_aihub/4/5e...</td>\n",
              "      <td>3.114667</td>\n",
              "      <td>힘들어하고 나도 너무 힘들어</td>\n",
              "      <td>힘들어하고 나도 너무 힘들어</td>\n",
              "      <td>{'input_ids': tensor([[2, 0, 0, 0, 0, 3, 1, 1,...</td>\n",
              "    </tr>\n",
              "    <tr>\n",
              "      <th>14381</th>\n",
              "      <td>sadness</td>\n",
              "      <td>/content/drive/MyDrive/project/data_aihub/5/5e...</td>\n",
              "      <td>6.186667</td>\n",
              "      <td>힘이 없네 나가기가 싫어</td>\n",
              "      <td>힘이 없네 나가기가 싫어</td>\n",
              "      <td>{'input_ids': tensor([[2, 0, 0, 0, 0, 3, 1, 1,...</td>\n",
              "    </tr>\n",
              "  </tbody>\n",
              "</table>\n",
              "<p>14382 rows × 6 columns</p>\n",
              "</div>\n",
              "    <div class=\"colab-df-buttons\">\n",
              "\n",
              "  <div class=\"colab-df-container\">\n",
              "    <button class=\"colab-df-convert\" onclick=\"convertToInteractive('df-e5226ddb-3f5e-41fc-a97a-75c4047a77dd')\"\n",
              "            title=\"Convert this dataframe to an interactive table.\"\n",
              "            style=\"display:none;\">\n",
              "\n",
              "  <svg xmlns=\"http://www.w3.org/2000/svg\" height=\"24px\" viewBox=\"0 -960 960 960\">\n",
              "    <path d=\"M120-120v-720h720v720H120Zm60-500h600v-160H180v160Zm220 220h160v-160H400v160Zm0 220h160v-160H400v160ZM180-400h160v-160H180v160Zm440 0h160v-160H620v160ZM180-180h160v-160H180v160Zm440 0h160v-160H620v160Z\"/>\n",
              "  </svg>\n",
              "    </button>\n",
              "\n",
              "  <style>\n",
              "    .colab-df-container {\n",
              "      display:flex;\n",
              "      gap: 12px;\n",
              "    }\n",
              "\n",
              "    .colab-df-convert {\n",
              "      background-color: #E8F0FE;\n",
              "      border: none;\n",
              "      border-radius: 50%;\n",
              "      cursor: pointer;\n",
              "      display: none;\n",
              "      fill: #1967D2;\n",
              "      height: 32px;\n",
              "      padding: 0 0 0 0;\n",
              "      width: 32px;\n",
              "    }\n",
              "\n",
              "    .colab-df-convert:hover {\n",
              "      background-color: #E2EBFA;\n",
              "      box-shadow: 0px 1px 2px rgba(60, 64, 67, 0.3), 0px 1px 3px 1px rgba(60, 64, 67, 0.15);\n",
              "      fill: #174EA6;\n",
              "    }\n",
              "\n",
              "    .colab-df-buttons div {\n",
              "      margin-bottom: 4px;\n",
              "    }\n",
              "\n",
              "    [theme=dark] .colab-df-convert {\n",
              "      background-color: #3B4455;\n",
              "      fill: #D2E3FC;\n",
              "    }\n",
              "\n",
              "    [theme=dark] .colab-df-convert:hover {\n",
              "      background-color: #434B5C;\n",
              "      box-shadow: 0px 1px 3px 1px rgba(0, 0, 0, 0.15);\n",
              "      filter: drop-shadow(0px 1px 2px rgba(0, 0, 0, 0.3));\n",
              "      fill: #FFFFFF;\n",
              "    }\n",
              "  </style>\n",
              "\n",
              "    <script>\n",
              "      const buttonEl =\n",
              "        document.querySelector('#df-e5226ddb-3f5e-41fc-a97a-75c4047a77dd button.colab-df-convert');\n",
              "      buttonEl.style.display =\n",
              "        google.colab.kernel.accessAllowed ? 'block' : 'none';\n",
              "\n",
              "      async function convertToInteractive(key) {\n",
              "        const element = document.querySelector('#df-e5226ddb-3f5e-41fc-a97a-75c4047a77dd');\n",
              "        const dataTable =\n",
              "          await google.colab.kernel.invokeFunction('convertToInteractive',\n",
              "                                                    [key], {});\n",
              "        if (!dataTable) return;\n",
              "\n",
              "        const docLinkHtml = 'Like what you see? Visit the ' +\n",
              "          '<a target=\"_blank\" href=https://colab.research.google.com/notebooks/data_table.ipynb>data table notebook</a>'\n",
              "          + ' to learn more about interactive tables.';\n",
              "        element.innerHTML = '';\n",
              "        dataTable['output_type'] = 'display_data';\n",
              "        await google.colab.output.renderOutput(dataTable, element);\n",
              "        const docLink = document.createElement('div');\n",
              "        docLink.innerHTML = docLinkHtml;\n",
              "        element.appendChild(docLink);\n",
              "      }\n",
              "    </script>\n",
              "  </div>\n",
              "\n",
              "\n",
              "<div id=\"df-874447f9-2e7b-475c-8ab1-e910178ca7e3\">\n",
              "  <button class=\"colab-df-quickchart\" onclick=\"quickchart('df-874447f9-2e7b-475c-8ab1-e910178ca7e3')\"\n",
              "            title=\"Suggest charts\"\n",
              "            style=\"display:none;\">\n",
              "\n",
              "<svg xmlns=\"http://www.w3.org/2000/svg\" height=\"24px\"viewBox=\"0 0 24 24\"\n",
              "     width=\"24px\">\n",
              "    <g>\n",
              "        <path d=\"M19 3H5c-1.1 0-2 .9-2 2v14c0 1.1.9 2 2 2h14c1.1 0 2-.9 2-2V5c0-1.1-.9-2-2-2zM9 17H7v-7h2v7zm4 0h-2V7h2v10zm4 0h-2v-4h2v4z\"/>\n",
              "    </g>\n",
              "</svg>\n",
              "  </button>\n",
              "\n",
              "<style>\n",
              "  .colab-df-quickchart {\n",
              "      --bg-color: #E8F0FE;\n",
              "      --fill-color: #1967D2;\n",
              "      --hover-bg-color: #E2EBFA;\n",
              "      --hover-fill-color: #174EA6;\n",
              "      --disabled-fill-color: #AAA;\n",
              "      --disabled-bg-color: #DDD;\n",
              "  }\n",
              "\n",
              "  [theme=dark] .colab-df-quickchart {\n",
              "      --bg-color: #3B4455;\n",
              "      --fill-color: #D2E3FC;\n",
              "      --hover-bg-color: #434B5C;\n",
              "      --hover-fill-color: #FFFFFF;\n",
              "      --disabled-bg-color: #3B4455;\n",
              "      --disabled-fill-color: #666;\n",
              "  }\n",
              "\n",
              "  .colab-df-quickchart {\n",
              "    background-color: var(--bg-color);\n",
              "    border: none;\n",
              "    border-radius: 50%;\n",
              "    cursor: pointer;\n",
              "    display: none;\n",
              "    fill: var(--fill-color);\n",
              "    height: 32px;\n",
              "    padding: 0;\n",
              "    width: 32px;\n",
              "  }\n",
              "\n",
              "  .colab-df-quickchart:hover {\n",
              "    background-color: var(--hover-bg-color);\n",
              "    box-shadow: 0 1px 2px rgba(60, 64, 67, 0.3), 0 1px 3px 1px rgba(60, 64, 67, 0.15);\n",
              "    fill: var(--button-hover-fill-color);\n",
              "  }\n",
              "\n",
              "  .colab-df-quickchart-complete:disabled,\n",
              "  .colab-df-quickchart-complete:disabled:hover {\n",
              "    background-color: var(--disabled-bg-color);\n",
              "    fill: var(--disabled-fill-color);\n",
              "    box-shadow: none;\n",
              "  }\n",
              "\n",
              "  .colab-df-spinner {\n",
              "    border: 2px solid var(--fill-color);\n",
              "    border-color: transparent;\n",
              "    border-bottom-color: var(--fill-color);\n",
              "    animation:\n",
              "      spin 1s steps(1) infinite;\n",
              "  }\n",
              "\n",
              "  @keyframes spin {\n",
              "    0% {\n",
              "      border-color: transparent;\n",
              "      border-bottom-color: var(--fill-color);\n",
              "      border-left-color: var(--fill-color);\n",
              "    }\n",
              "    20% {\n",
              "      border-color: transparent;\n",
              "      border-left-color: var(--fill-color);\n",
              "      border-top-color: var(--fill-color);\n",
              "    }\n",
              "    30% {\n",
              "      border-color: transparent;\n",
              "      border-left-color: var(--fill-color);\n",
              "      border-top-color: var(--fill-color);\n",
              "      border-right-color: var(--fill-color);\n",
              "    }\n",
              "    40% {\n",
              "      border-color: transparent;\n",
              "      border-right-color: var(--fill-color);\n",
              "      border-top-color: var(--fill-color);\n",
              "    }\n",
              "    60% {\n",
              "      border-color: transparent;\n",
              "      border-right-color: var(--fill-color);\n",
              "    }\n",
              "    80% {\n",
              "      border-color: transparent;\n",
              "      border-right-color: var(--fill-color);\n",
              "      border-bottom-color: var(--fill-color);\n",
              "    }\n",
              "    90% {\n",
              "      border-color: transparent;\n",
              "      border-bottom-color: var(--fill-color);\n",
              "    }\n",
              "  }\n",
              "</style>\n",
              "\n",
              "  <script>\n",
              "    async function quickchart(key) {\n",
              "      const quickchartButtonEl =\n",
              "        document.querySelector('#' + key + ' button');\n",
              "      quickchartButtonEl.disabled = true;  // To prevent multiple clicks.\n",
              "      quickchartButtonEl.classList.add('colab-df-spinner');\n",
              "      try {\n",
              "        const charts = await google.colab.kernel.invokeFunction(\n",
              "            'suggestCharts', [key], {});\n",
              "      } catch (error) {\n",
              "        console.error('Error during call to suggestCharts:', error);\n",
              "      }\n",
              "      quickchartButtonEl.classList.remove('colab-df-spinner');\n",
              "      quickchartButtonEl.classList.add('colab-df-quickchart-complete');\n",
              "    }\n",
              "    (() => {\n",
              "      let quickchartButtonEl =\n",
              "        document.querySelector('#df-874447f9-2e7b-475c-8ab1-e910178ca7e3 button');\n",
              "      quickchartButtonEl.style.display =\n",
              "        google.colab.kernel.accessAllowed ? 'block' : 'none';\n",
              "    })();\n",
              "  </script>\n",
              "</div>\n",
              "\n",
              "  <div id=\"id_18401287-03b8-4af8-96f0-7a9c32a3c701\">\n",
              "    <style>\n",
              "      .colab-df-generate {\n",
              "        background-color: #E8F0FE;\n",
              "        border: none;\n",
              "        border-radius: 50%;\n",
              "        cursor: pointer;\n",
              "        display: none;\n",
              "        fill: #1967D2;\n",
              "        height: 32px;\n",
              "        padding: 0 0 0 0;\n",
              "        width: 32px;\n",
              "      }\n",
              "\n",
              "      .colab-df-generate:hover {\n",
              "        background-color: #E2EBFA;\n",
              "        box-shadow: 0px 1px 2px rgba(60, 64, 67, 0.3), 0px 1px 3px 1px rgba(60, 64, 67, 0.15);\n",
              "        fill: #174EA6;\n",
              "      }\n",
              "\n",
              "      [theme=dark] .colab-df-generate {\n",
              "        background-color: #3B4455;\n",
              "        fill: #D2E3FC;\n",
              "      }\n",
              "\n",
              "      [theme=dark] .colab-df-generate:hover {\n",
              "        background-color: #434B5C;\n",
              "        box-shadow: 0px 1px 3px 1px rgba(0, 0, 0, 0.15);\n",
              "        filter: drop-shadow(0px 1px 2px rgba(0, 0, 0, 0.3));\n",
              "        fill: #FFFFFF;\n",
              "      }\n",
              "    </style>\n",
              "    <button class=\"colab-df-generate\" onclick=\"generateWithVariable('df')\"\n",
              "            title=\"Generate code using this dataframe.\"\n",
              "            style=\"display:none;\">\n",
              "\n",
              "  <svg xmlns=\"http://www.w3.org/2000/svg\" height=\"24px\"viewBox=\"0 0 24 24\"\n",
              "       width=\"24px\">\n",
              "    <path d=\"M7,19H8.4L18.45,9,17,7.55,7,17.6ZM5,21V16.75L18.45,3.32a2,2,0,0,1,2.83,0l1.4,1.43a1.91,1.91,0,0,1,.58,1.4,1.91,1.91,0,0,1-.58,1.4L9.25,21ZM18.45,9,17,7.55Zm-12,3A5.31,5.31,0,0,0,4.9,8.1,5.31,5.31,0,0,0,1,6.5,5.31,5.31,0,0,0,4.9,4.9,5.31,5.31,0,0,0,6.5,1,5.31,5.31,0,0,0,8.1,4.9,5.31,5.31,0,0,0,12,6.5,5.46,5.46,0,0,0,6.5,12Z\"/>\n",
              "  </svg>\n",
              "    </button>\n",
              "    <script>\n",
              "      (() => {\n",
              "      const buttonEl =\n",
              "        document.querySelector('#id_18401287-03b8-4af8-96f0-7a9c32a3c701 button.colab-df-generate');\n",
              "      buttonEl.style.display =\n",
              "        google.colab.kernel.accessAllowed ? 'block' : 'none';\n",
              "\n",
              "      buttonEl.onclick = () => {\n",
              "        google.colab.notebook.generateWithVariable('df');\n",
              "      }\n",
              "      })();\n",
              "    </script>\n",
              "  </div>\n",
              "\n",
              "    </div>\n",
              "  </div>\n"
            ],
            "application/vnd.google.colaboratory.intrinsic+json": {
              "type": "dataframe",
              "variable_name": "df",
              "summary": "{\n  \"name\": \"df\",\n  \"rows\": 14382,\n  \"fields\": [\n    {\n      \"column\": \"Emotion\",\n      \"properties\": {\n        \"dtype\": \"category\",\n        \"num_unique_values\": 6,\n        \"samples\": [\n          \"angry\",\n          \"disgust\",\n          \"sadness\"\n        ],\n        \"semantic_type\": \"\",\n        \"description\": \"\"\n      }\n    },\n    {\n      \"column\": \"Path\",\n      \"properties\": {\n        \"dtype\": \"string\",\n        \"num_unique_values\": 14382,\n        \"samples\": [\n          \"/content/drive/MyDrive/project/data_aihub/5_2/5f3cc64b8a3c1005aa97c6d4.wav\",\n          \"/content/drive/MyDrive/project/data_aihub/4/5e32f5e65807b852d9e046a1.wav\",\n          \"/content/drive/MyDrive/project/data_aihub/5/5ecde3831dcf350eeded47bc.wav\"\n        ],\n        \"semantic_type\": \"\",\n        \"description\": \"\"\n      }\n    },\n    {\n      \"column\": \"Length\",\n      \"properties\": {\n        \"dtype\": \"number\",\n        \"std\": 2.3513939701423414,\n        \"min\": 1.109333333,\n        \"max\": 12.88533333,\n        \"num_unique_values\": 274,\n        \"samples\": [\n          3.968,\n          2.56,\n          1.322666667\n        ],\n        \"semantic_type\": \"\",\n        \"description\": \"\"\n      }\n    },\n    {\n      \"column\": \"Text\",\n      \"properties\": {\n        \"dtype\": \"string\",\n        \"num_unique_values\": 13705,\n        \"samples\": [\n          \"\\ub2f9\\ucca8 \\uc120\\ubb3c\\uc774 \\ub0b4\\uac00 \\uac16\\uace0 \\uc2f6\\uc5c8\\ub358 \\uac70\\ub77c\\uc11c \\ub108\\ubb34 \\ub9c8\\uc74c\\uc5d0 \\ub4e4\\uc5b4\",\n          \"\\ub098 \\ud63c\\uc790 \\uc9d1\\uc5d0 \\uac07\\ud78c \\uac70 \\uac19\\uc544 \\ub108\\ubb34 \\ubb34\\uc11c\\uc6cc\",\n          \"\\uc6b8\\ub801\\uac70\\ub9ac\\uace0 \\uc18d\\uc774 \\uc88b\\uc9c0 \\uc54a\\uc740\\ub370 \\ub530\\ub73b\\ud55c \\ubb3c\\uc744 \\ub9c8\\uc154\\uc11c \\ub2ec\\ub798 \\ubd10\\uc57c\\uaca0\\uc5b4\"\n        ],\n        \"semantic_type\": \"\",\n        \"description\": \"\"\n      }\n    },\n    {\n      \"column\": \"cleaned_text\",\n      \"properties\": {\n        \"dtype\": \"string\",\n        \"num_unique_values\": 13705,\n        \"samples\": [\n          \"\\ub2f9\\ucca8 \\uc120\\ubb3c\\uc774 \\ub0b4\\uac00 \\uac16\\uace0 \\uc2f6\\uc5c8\\ub358 \\uac70\\ub77c\\uc11c \\ub108\\ubb34 \\ub9c8\\uc74c\\uc5d0 \\ub4e4\\uc5b4\",\n          \"\\ub098 \\ud63c\\uc790 \\uc9d1\\uc5d0 \\uac07\\ud78c \\uac70 \\uac19\\uc544 \\ub108\\ubb34 \\ubb34\\uc11c\\uc6cc\",\n          \"\\uc6b8\\ub801\\uac70\\ub9ac\\uace0 \\uc18d\\uc774 \\uc88b\\uc9c0 \\uc54a\\uc740\\ub370 \\ub530\\ub73b\\ud55c \\ubb3c\\uc744 \\ub9c8\\uc154\\uc11c \\ub2ec\\ub798 \\ubd10\\uc57c\\uaca0\\uc5b4\"\n        ],\n        \"semantic_type\": \"\",\n        \"description\": \"\"\n      }\n    },\n    {\n      \"column\": \"tokenized\",\n      \"properties\": {\n        \"dtype\": \"string\",\n        \"num_unique_values\": 8150,\n        \"samples\": [\n          \"{'input_ids': tensor([[   2,    0, 5782,    0,    0,    0,    0,    0,    3,    1,    1,    1,\\n            1,    1,    1,    1,    1,    1,    1,    1,    1,    1,    1,    1,\\n            1,    1,    1,    1,    1,    1,    1,    1,    1,    1,    1,    1,\\n            1,    1,    1,    1,    1,    1,    1,    1,    1,    1,    1,    1,\\n            1,    1,    1,    1,    1,    1,    1,    1,    1,    1,    1,    1,\\n            1,    1,    1,    1,    1,    1,    1,    1,    1,    1,    1,    1,\\n            1,    1,    1,    1,    1,    1,    1,    1,    1,    1,    1,    1,\\n            1,    1,    1,    1,    1,    1,    1,    1,    1,    1,    1,    1,\\n            1,    1,    1,    1,    1,    1,    1,    1,    1,    1,    1,    1,\\n            1,    1,    1,    1,    1,    1,    1,    1,    1,    1,    1,    1,\\n            1,    1,    1,    1,    1,    1,    1,    1]]), 'token_type_ids': tensor([[0, 0, 0, 0, 0, 0, 0, 0, 0, 0, 0, 0, 0, 0, 0, 0, 0, 0, 0, 0, 0, 0, 0, 0,\\n         0, 0, 0, 0, 0, 0, 0, 0, 0, 0, 0, 0, 0, 0, 0, 0, 0, 0, 0, 0, 0, 0, 0, 0,\\n         0, 0, 0, 0, 0, 0, 0, 0, 0, 0, 0, 0, 0, 0, 0, 0, 0, 0, 0, 0, 0, 0, 0, 0,\\n         0, 0, 0, 0, 0, 0, 0, 0, 0, 0, 0, 0, 0, 0, 0, 0, 0, 0, 0, 0, 0, 0, 0, 0,\\n         0, 0, 0, 0, 0, 0, 0, 0, 0, 0, 0, 0, 0, 0, 0, 0, 0, 0, 0, 0, 0, 0, 0, 0,\\n         0, 0, 0, 0, 0, 0, 0, 0]]), 'attention_mask': tensor([[1, 1, 1, 1, 1, 1, 1, 1, 1, 0, 0, 0, 0, 0, 0, 0, 0, 0, 0, 0, 0, 0, 0, 0,\\n         0, 0, 0, 0, 0, 0, 0, 0, 0, 0, 0, 0, 0, 0, 0, 0, 0, 0, 0, 0, 0, 0, 0, 0,\\n         0, 0, 0, 0, 0, 0, 0, 0, 0, 0, 0, 0, 0, 0, 0, 0, 0, 0, 0, 0, 0, 0, 0, 0,\\n         0, 0, 0, 0, 0, 0, 0, 0, 0, 0, 0, 0, 0, 0, 0, 0, 0, 0, 0, 0, 0, 0, 0, 0,\\n         0, 0, 0, 0, 0, 0, 0, 0, 0, 0, 0, 0, 0, 0, 0, 0, 0, 0, 0, 0, 0, 0, 0, 0,\\n         0, 0, 0, 0, 0, 0, 0, 0]])}\",\n          \"{'input_ids': tensor([[   2,    0,    0,    0,    0,    0,    0,    0,    0, 5910, 5782,    0,\\n            0,    0,    0, 7007, 6799,    3,    1,    1,    1,    1,    1,    1,\\n            1,    1,    1,    1,    1,    1,    1,    1,    1,    1,    1,    1,\\n            1,    1,    1,    1,    1,    1,    1,    1,    1,    1,    1,    1,\\n            1,    1,    1,    1,    1,    1,    1,    1,    1,    1,    1,    1,\\n            1,    1,    1,    1,    1,    1,    1,    1,    1,    1,    1,    1,\\n            1,    1,    1,    1,    1,    1,    1,    1,    1,    1,    1,    1,\\n            1,    1,    1,    1,    1,    1,    1,    1,    1,    1,    1,    1,\\n            1,    1,    1,    1,    1,    1,    1,    1,    1,    1,    1,    1,\\n            1,    1,    1,    1,    1,    1,    1,    1,    1,    1,    1,    1,\\n            1,    1,    1,    1,    1,    1,    1,    1]]), 'token_type_ids': tensor([[0, 0, 0, 0, 0, 0, 0, 0, 0, 0, 0, 0, 0, 0, 0, 0, 0, 0, 0, 0, 0, 0, 0, 0,\\n         0, 0, 0, 0, 0, 0, 0, 0, 0, 0, 0, 0, 0, 0, 0, 0, 0, 0, 0, 0, 0, 0, 0, 0,\\n         0, 0, 0, 0, 0, 0, 0, 0, 0, 0, 0, 0, 0, 0, 0, 0, 0, 0, 0, 0, 0, 0, 0, 0,\\n         0, 0, 0, 0, 0, 0, 0, 0, 0, 0, 0, 0, 0, 0, 0, 0, 0, 0, 0, 0, 0, 0, 0, 0,\\n         0, 0, 0, 0, 0, 0, 0, 0, 0, 0, 0, 0, 0, 0, 0, 0, 0, 0, 0, 0, 0, 0, 0, 0,\\n         0, 0, 0, 0, 0, 0, 0, 0]]), 'attention_mask': tensor([[1, 1, 1, 1, 1, 1, 1, 1, 1, 1, 1, 1, 1, 1, 1, 1, 1, 1, 0, 0, 0, 0, 0, 0,\\n         0, 0, 0, 0, 0, 0, 0, 0, 0, 0, 0, 0, 0, 0, 0, 0, 0, 0, 0, 0, 0, 0, 0, 0,\\n         0, 0, 0, 0, 0, 0, 0, 0, 0, 0, 0, 0, 0, 0, 0, 0, 0, 0, 0, 0, 0, 0, 0, 0,\\n         0, 0, 0, 0, 0, 0, 0, 0, 0, 0, 0, 0, 0, 0, 0, 0, 0, 0, 0, 0, 0, 0, 0, 0,\\n         0, 0, 0, 0, 0, 0, 0, 0, 0, 0, 0, 0, 0, 0, 0, 0, 0, 0, 0, 0, 0, 0, 0, 0,\\n         0, 0, 0, 0, 0, 0, 0, 0]])}\",\n          \"{'input_ids': tensor([[   2, 6812,    0,    0,    0,    0,    0, 7836,    0,    0,    0, 7807,\\n            3,    1,    1,    1,    1,    1,    1,    1,    1,    1,    1,    1,\\n            1,    1,    1,    1,    1,    1,    1,    1,    1,    1,    1,    1,\\n            1,    1,    1,    1,    1,    1,    1,    1,    1,    1,    1,    1,\\n            1,    1,    1,    1,    1,    1,    1,    1,    1,    1,    1,    1,\\n            1,    1,    1,    1,    1,    1,    1,    1,    1,    1,    1,    1,\\n            1,    1,    1,    1,    1,    1,    1,    1,    1,    1,    1,    1,\\n            1,    1,    1,    1,    1,    1,    1,    1,    1,    1,    1,    1,\\n            1,    1,    1,    1,    1,    1,    1,    1,    1,    1,    1,    1,\\n            1,    1,    1,    1,    1,    1,    1,    1,    1,    1,    1,    1,\\n            1,    1,    1,    1,    1,    1,    1,    1]]), 'token_type_ids': tensor([[0, 0, 0, 0, 0, 0, 0, 0, 0, 0, 0, 0, 0, 0, 0, 0, 0, 0, 0, 0, 0, 0, 0, 0,\\n         0, 0, 0, 0, 0, 0, 0, 0, 0, 0, 0, 0, 0, 0, 0, 0, 0, 0, 0, 0, 0, 0, 0, 0,\\n         0, 0, 0, 0, 0, 0, 0, 0, 0, 0, 0, 0, 0, 0, 0, 0, 0, 0, 0, 0, 0, 0, 0, 0,\\n         0, 0, 0, 0, 0, 0, 0, 0, 0, 0, 0, 0, 0, 0, 0, 0, 0, 0, 0, 0, 0, 0, 0, 0,\\n         0, 0, 0, 0, 0, 0, 0, 0, 0, 0, 0, 0, 0, 0, 0, 0, 0, 0, 0, 0, 0, 0, 0, 0,\\n         0, 0, 0, 0, 0, 0, 0, 0]]), 'attention_mask': tensor([[1, 1, 1, 1, 1, 1, 1, 1, 1, 1, 1, 1, 1, 0, 0, 0, 0, 0, 0, 0, 0, 0, 0, 0,\\n         0, 0, 0, 0, 0, 0, 0, 0, 0, 0, 0, 0, 0, 0, 0, 0, 0, 0, 0, 0, 0, 0, 0, 0,\\n         0, 0, 0, 0, 0, 0, 0, 0, 0, 0, 0, 0, 0, 0, 0, 0, 0, 0, 0, 0, 0, 0, 0, 0,\\n         0, 0, 0, 0, 0, 0, 0, 0, 0, 0, 0, 0, 0, 0, 0, 0, 0, 0, 0, 0, 0, 0, 0, 0,\\n         0, 0, 0, 0, 0, 0, 0, 0, 0, 0, 0, 0, 0, 0, 0, 0, 0, 0, 0, 0, 0, 0, 0, 0,\\n         0, 0, 0, 0, 0, 0, 0, 0]])}\"\n        ],\n        \"semantic_type\": \"\",\n        \"description\": \"\"\n      }\n    }\n  ]\n}"
            }
          },
          "metadata": {},
          "execution_count": 139
        }
      ]
    },
    {
      "cell_type": "code",
      "source": [
        "label_mapping = {'happiness': 0, 'sadness': 1, 'angry': 2, 'neutral': 3, 'fear': 4, 'disgust': 5}"
      ],
      "metadata": {
        "id": "1CFH-_fScq3Z"
      },
      "execution_count": 140,
      "outputs": []
    },
    {
      "cell_type": "code",
      "source": [
        "df['Emotion'] = df['Emotion'].map(label_mapping)"
      ],
      "metadata": {
        "id": "4N1OQ37icw6c"
      },
      "execution_count": 141,
      "outputs": []
    },
    {
      "cell_type": "code",
      "source": [
        "df['Emotion'].unique()"
      ],
      "metadata": {
        "colab": {
          "base_uri": "https://localhost:8080/"
        },
        "id": "Plj4Q7ErdB1U",
        "outputId": "03ccb640-d3a1-4baf-99b7-5eacf5942737"
      },
      "execution_count": 142,
      "outputs": [
        {
          "output_type": "execute_result",
          "data": {
            "text/plain": [
              "array([2, 5, 4, 0, 3, 1])"
            ]
          },
          "metadata": {},
          "execution_count": 142
        }
      ]
    },
    {
      "cell_type": "markdown",
      "source": [
        "# KoBERT"
      ],
      "metadata": {
        "id": "SJZ2lu80UA-d"
      }
    },
    {
      "cell_type": "code",
      "source": [
        "device = torch.device(\"cuda\" if torch.cuda.is_available() else \"cpu\")"
      ],
      "metadata": {
        "id": "BbCA2jS7dZN_"
      },
      "execution_count": 152,
      "outputs": []
    },
    {
      "cell_type": "code",
      "source": [
        "class EmotionDataset(Dataset):\n",
        "    def __init__(self, dataframe, tokenizer, max_len):\n",
        "        self.data = dataframe\n",
        "        self.tokenizer = tokenizer\n",
        "        self.max_len = max_len\n",
        "\n",
        "    def __len__(self):\n",
        "        return len(self.data)\n",
        "\n",
        "    def __getitem__(self, index):\n",
        "        text = self.data.iloc[index][\"cleaned_text\"]\n",
        "        emotion = self.data.iloc[index][\"Emotion\"]\n",
        "\n",
        "        # KoBERT 토큰화\n",
        "        inputs = self.tokenizer.encode_plus(\n",
        "            text,\n",
        "            None,\n",
        "            add_special_tokens=True,\n",
        "            max_length=self.max_len,\n",
        "            padding='max_length',\n",
        "            return_token_type_ids=True,\n",
        "            truncation=True\n",
        "        )\n",
        "\n",
        "        input_ids = inputs['input_ids']\n",
        "        attention_mask = inputs['attention_mask']\n",
        "        token_type_ids = inputs[\"token_type_ids\"]\n",
        "\n",
        "        return {\n",
        "            'input_ids': torch.tensor(input_ids, dtype=torch.long),\n",
        "            'attention_mask': torch.tensor(attention_mask, dtype=torch.long),\n",
        "            'token_type_ids': torch.tensor(token_type_ids, dtype=torch.long),\n",
        "            'labels': torch.tensor(emotion, dtype=torch.long)  # 감정 레이블\n",
        "        }"
      ],
      "metadata": {
        "id": "birkEdEkc2M5"
      },
      "execution_count": 143,
      "outputs": []
    },
    {
      "cell_type": "code",
      "source": [
        "class KoBERTEmotionClassifier(nn.Module):\n",
        "    def __init__(self, n_classes):\n",
        "        super(KoBERTEmotionClassifier, self).__init__()\n",
        "        self.bert = BertModel.from_pretrained('monologg/kobert')\n",
        "        self.drop = nn.Dropout(p=0.3)\n",
        "        self.out = nn.Linear(self.bert.config.hidden_size, n_classes)\n",
        "\n",
        "    def forward(self, input_ids, attention_mask, token_type_ids):\n",
        "        _, pooled_output = self.bert(\n",
        "            input_ids=input_ids,\n",
        "            attention_mask=attention_mask,\n",
        "            token_type_ids=token_type_ids,\n",
        "            return_dict=False\n",
        "        )\n",
        "        output = self.drop(pooled_output)\n",
        "        return self.out(output)"
      ],
      "metadata": {
        "id": "qWBE_37Gc3ey"
      },
      "execution_count": 144,
      "outputs": []
    },
    {
      "cell_type": "code",
      "source": [
        "def train_epoch(model, data_loader, optimizer, device):\n",
        "    model = model.train()\n",
        "    total_loss = 0\n",
        "\n",
        "    for data in data_loader:\n",
        "        input_ids = data['input_ids'].to(device)\n",
        "        attention_mask = data['attention_mask'].to(device)\n",
        "        token_type_ids = data['token_type_ids'].to(device)\n",
        "        labels = data['labels'].to(device)\n",
        "\n",
        "        outputs = model(input_ids=input_ids, attention_mask=attention_mask, token_type_ids=token_type_ids)\n",
        "        loss = nn.CrossEntropyLoss()(outputs, labels)\n",
        "\n",
        "        optimizer.zero_grad()\n",
        "        loss.backward()\n",
        "        optimizer.step()\n",
        "\n",
        "        total_loss += loss.item()\n",
        "\n",
        "    return total_loss / len(data_loader)"
      ],
      "metadata": {
        "id": "AdNTmemFc6cf"
      },
      "execution_count": 145,
      "outputs": []
    },
    {
      "cell_type": "code",
      "source": [
        "def eval_model(model, data_loader, device):\n",
        "    model = model.eval()\n",
        "    total_loss = 0\n",
        "    correct_predictions = 0\n",
        "\n",
        "    with torch.no_grad():\n",
        "        for data in data_loader:\n",
        "            input_ids = data['input_ids'].to(device)\n",
        "            attention_mask = data['attention_mask'].to(device)\n",
        "            token_type_ids = data['token_type_ids'].to(device)\n",
        "            labels = data['labels'].to(device)\n",
        "\n",
        "            outputs = model(input_ids=input_ids, attention_mask=attention_mask, token_type_ids=token_type_ids)\n",
        "            loss = nn.CrossEntropyLoss()(outputs, labels)\n",
        "\n",
        "            total_loss += loss.item()\n",
        "            _, preds = torch.max(outputs, dim=1)\n",
        "            correct_predictions += torch.sum(preds == labels)\n",
        "\n",
        "    return correct_predictions.double() / len(data_loader.dataset), total_loss / len(data_loader)"
      ],
      "metadata": {
        "id": "UDBEMXlqc8PU"
      },
      "execution_count": 146,
      "outputs": []
    },
    {
      "cell_type": "code",
      "source": [
        "BATCH_SIZE = 16\n",
        "MAX_LEN = 64\n",
        "EPOCHS = 30\n",
        "N_CLASSES = len(set(df['Emotion']))"
      ],
      "metadata": {
        "id": "jrWcJSuIc9n_"
      },
      "execution_count": 147,
      "outputs": []
    },
    {
      "cell_type": "code",
      "source": [
        "tokenizer = BertTokenizer.from_pretrained('monologg/kobert')"
      ],
      "metadata": {
        "colab": {
          "base_uri": "https://localhost:8080/"
        },
        "id": "2u3Yo6HPdNm_",
        "outputId": "24eed03a-1a55-4c73-e534-4cb974f07fe6"
      },
      "execution_count": 148,
      "outputs": [
        {
          "output_type": "stream",
          "name": "stderr",
          "text": [
            "The tokenizer class you load from this checkpoint is not the same type as the class this function is called from. It may result in unexpected tokenization. \n",
            "The tokenizer class you load from this checkpoint is 'KoBertTokenizer'. \n",
            "The class this function is called from is 'BertTokenizer'.\n",
            "/usr/local/lib/python3.10/dist-packages/transformers/tokenization_utils_base.py:1601: FutureWarning: `clean_up_tokenization_spaces` was not set. It will be set to `True` by default. This behavior will be depracted in transformers v4.45, and will be then set to `False` by default. For more details check this issue: https://github.com/huggingface/transformers/issues/31884\n",
            "  warnings.warn(\n"
          ]
        }
      ]
    },
    {
      "cell_type": "code",
      "source": [
        "train_dataset = EmotionDataset(df, tokenizer, MAX_LEN)\n",
        "train_loader = DataLoader(train_dataset, batch_size=BATCH_SIZE, shuffle=True)"
      ],
      "metadata": {
        "id": "y1ExHigXdPvv"
      },
      "execution_count": 149,
      "outputs": []
    },
    {
      "cell_type": "code",
      "source": [
        "model = KoBERTEmotionClassifier(n_classes=N_CLASSES).to(device)\n",
        "optimizer = AdamW(model.parameters(), lr=2e-5)"
      ],
      "metadata": {
        "id": "zYEyCeKLdROp"
      },
      "execution_count": 150,
      "outputs": []
    },
    {
      "cell_type": "code",
      "source": [
        "for epoch in range(EPOCHS):\n",
        "    train_loss = train_epoch(model, train_loader, optimizer, device)\n",
        "    accuracy, val_loss = eval_model(model, train_loader, device)\n",
        "\n",
        "    print(f'Epoch {epoch + 1}/{EPOCHS}, Train Loss: {train_loss}, Validation Accuracy: {accuracy}, Validation Loss: {val_loss}')"
      ],
      "metadata": {
        "colab": {
          "base_uri": "https://localhost:8080/"
        },
        "id": "aXGiyq7RdUK1",
        "outputId": "2e1aa1af-6bf8-4000-e768-5ad6302a1dd7"
      },
      "execution_count": 153,
      "outputs": [
        {
          "output_type": "stream",
          "name": "stdout",
          "text": [
            "Epoch 1/30, Train Loss: 1.7021667681493537, Validation Accuracy: 0.40091781393408427, Validation Loss: 1.4992945049708093\n",
            "Epoch 2/30, Train Loss: 1.4828873832313316, Validation Accuracy: 0.4827562230565985, Validation Loss: 1.3365545149507194\n",
            "Epoch 3/30, Train Loss: 1.3840375947740107, Validation Accuracy: 0.5157836184119037, Validation Loss: 1.2593018608178128\n",
            "Epoch 4/30, Train Loss: 1.3035063598392007, Validation Accuracy: 0.553191489361702, Validation Loss: 1.1607770812392102\n",
            "Epoch 5/30, Train Loss: 1.2250178917761771, Validation Accuracy: 0.5812126268947295, Validation Loss: 1.0833046991581117\n",
            "Epoch 6/30, Train Loss: 1.1615974574916488, Validation Accuracy: 0.6111806424697538, Validation Loss: 1.002157277936267\n",
            "Epoch 7/30, Train Loss: 1.0937285200175773, Validation Accuracy: 0.6280767626199415, Validation Loss: 0.959095823320584\n",
            "Epoch 8/30, Train Loss: 1.0388928636063193, Validation Accuracy: 0.6503963287442636, Validation Loss: 0.8927882678715617\n",
            "Epoch 9/30, Train Loss: 0.9874663861826875, Validation Accuracy: 0.6592963426505354, Validation Loss: 0.8657548445814576\n",
            "Epoch 10/30, Train Loss: 0.9429091023192124, Validation Accuracy: 0.6752885551383674, Validation Loss: 0.8166003199553198\n",
            "Epoch 11/30, Train Loss: 0.9137620721696084, Validation Accuracy: 0.6827979418717841, Validation Loss: 0.796989616135071\n",
            "Epoch 12/30, Train Loss: 0.8797923678219385, Validation Accuracy: 0.6930190515922681, Validation Loss: 0.7617491871963884\n",
            "Epoch 13/30, Train Loss: 0.8481533616217676, Validation Accuracy: 0.6983034348491169, Validation Loss: 0.7477017969754964\n",
            "Epoch 14/30, Train Loss: 0.8364291762616133, Validation Accuracy: 0.7067862606035321, Validation Loss: 0.724703459920687\n",
            "Epoch 15/30, Train Loss: 0.8150605433377063, Validation Accuracy: 0.7065081351689612, Validation Loss: 0.7174610162901799\n",
            "Epoch 16/30, Train Loss: 0.8044300206809474, Validation Accuracy: 0.7135308023918787, Validation Loss: 0.7133265391771202\n",
            "Epoch 17/30, Train Loss: 0.790428033129657, Validation Accuracy: 0.7108886107634542, Validation Loss: 0.6985345039355079\n",
            "Epoch 18/30, Train Loss: 0.779211201378713, Validation Accuracy: 0.7188151856487275, Validation Loss: 0.6873844355444224\n",
            "Epoch 19/30, Train Loss: 0.7580059301336032, Validation Accuracy: 0.7216659713530802, Validation Loss: 0.6721650194107359\n",
            "Epoch 20/30, Train Loss: 0.739342573445883, Validation Accuracy: 0.7211097204839382, Validation Loss: 0.6726041032753479\n",
            "Epoch 21/30, Train Loss: 0.7380603978511887, Validation Accuracy: 0.7188151856487275, Validation Loss: 0.6778339273871251\n",
            "Epoch 22/30, Train Loss: 0.7321040389170503, Validation Accuracy: 0.7278542622722848, Validation Loss: 0.6527522125750681\n",
            "Epoch 23/30, Train Loss: 0.7253689365223199, Validation Accuracy: 0.7256987901543596, Validation Loss: 0.6600066109563538\n",
            "Epoch 24/30, Train Loss: 0.7215520972769306, Validation Accuracy: 0.7255597274370741, Validation Loss: 0.6581755080058326\n",
            "Epoch 25/30, Train Loss: 0.715964500511581, Validation Accuracy: 0.7263245723821443, Validation Loss: 0.6485107787972828\n",
            "Epoch 26/30, Train Loss: 0.7189809208584574, Validation Accuracy: 0.7307745793352801, Validation Loss: 0.6488313151687152\n",
            "Epoch 27/30, Train Loss: 0.703874196405538, Validation Accuracy: 0.7311917674871367, Validation Loss: 0.638897480983888\n",
            "Epoch 28/30, Train Loss: 0.7032442072342182, Validation Accuracy: 0.7330691141704908, Validation Loss: 0.632373964246176\n",
            "Epoch 29/30, Train Loss: 0.6933768111487252, Validation Accuracy: 0.7318175497149214, Validation Loss: 0.6300638346488404\n",
            "Epoch 30/30, Train Loss: 0.6852002217619783, Validation Accuracy: 0.7341816159087748, Validation Loss: 0.6270437565972994\n"
          ]
        }
      ]
    },
    {
      "cell_type": "code",
      "source": [
        "final_accuracy, final_loss = eval_model(model, train_loader, device)\n",
        "print(f\"Final Accuracy: {final_accuracy}, Final Loss: {final_loss}\")"
      ],
      "metadata": {
        "colab": {
          "base_uri": "https://localhost:8080/"
        },
        "id": "eLalPmIZdf1K",
        "outputId": "84fcc8da-bcd4-47ba-e066-615234a2ef5e"
      },
      "execution_count": 154,
      "outputs": [
        {
          "output_type": "stream",
          "name": "stdout",
          "text": [
            "Final Accuracy: 0.7341816159087748, Final Loss: 0.6269935143073488\n"
          ]
        }
      ]
    },
    {
      "cell_type": "markdown",
      "source": [
        "# SVM, Logistic Regression, Random Forest"
      ],
      "metadata": {
        "id": "Df6yovYVZY_X"
      }
    },
    {
      "cell_type": "code",
      "source": [
        "train_texts, test_texts, train_labels, test_labels = train_test_split(df['cleaned_text'], df['Emotion'], test_size=0.2, random_state=42)"
      ],
      "metadata": {
        "id": "CitaFgp-cu9L"
      },
      "execution_count": null,
      "outputs": []
    },
    {
      "cell_type": "code",
      "source": [
        "vectorizer = TfidfVectorizer(max_features = 5000)\n",
        "X_train = vectorizer.fit_transform(train_texts)\n",
        "X_test = vectorizer.transform(test_texts)"
      ],
      "metadata": {
        "id": "rfcepwl4Zb42"
      },
      "execution_count": 31,
      "outputs": []
    },
    {
      "cell_type": "code",
      "source": [
        "svm = SVC()\n",
        "svm.fit(X_train, train_labels)\n",
        "svm_preds = svm.predict(X_test)\n",
        "print(\"SVM Accuracy:\", accuracy_score(test_labels, svm_preds))\n",
        "print(\"SVM F1 Score:\", f1_score(test_labels, svm_preds, average=\"weighted\"))"
      ],
      "metadata": {
        "colab": {
          "base_uri": "https://localhost:8080/"
        },
        "id": "gdTzQDHtZjME",
        "outputId": "5540981c-c8f9-4420-c6fe-a543d57609d2"
      },
      "execution_count": 32,
      "outputs": [
        {
          "output_type": "stream",
          "name": "stdout",
          "text": [
            "SVM Accuracy: 0.7413972888425443\n",
            "SVM F1 Score: 0.7439418678902551\n"
          ]
        }
      ]
    },
    {
      "cell_type": "code",
      "source": [
        "log_reg = LogisticRegression(max_iter=200)\n",
        "log_reg.fit(X_train, train_labels)\n",
        "log_reg_preds = log_reg.predict(X_test)\n",
        "print(\"Logistic Regression Accuracy:\", accuracy_score(test_labels, log_reg_preds))\n",
        "print(\"Logistic Regression F1 Score:\", f1_score(test_labels, log_reg_preds, average=\"weighted\"))"
      ],
      "metadata": {
        "colab": {
          "base_uri": "https://localhost:8080/"
        },
        "id": "YHueCTCfZlGW",
        "outputId": "2a9ab93b-87dc-4b5a-8121-ab840f22dea1"
      },
      "execution_count": 33,
      "outputs": [
        {
          "output_type": "stream",
          "name": "stdout",
          "text": [
            "Logistic Regression Accuracy: 0.721584984358707\n",
            "Logistic Regression F1 Score: 0.7224331753254929\n"
          ]
        }
      ]
    },
    {
      "cell_type": "code",
      "source": [
        "rf = RandomForestClassifier()\n",
        "rf.fit(X_train, train_labels)\n",
        "rf_preds = rf.predict(X_test)\n",
        "print(\"Random Forest Accuracy:\", accuracy_score(test_labels, rf_preds))\n",
        "print(\"Random Forest F1 Score:\", f1_score(test_labels, rf_preds, average=\"weighted\"))"
      ],
      "metadata": {
        "colab": {
          "base_uri": "https://localhost:8080/"
        },
        "id": "3tOnajF5ZmtD",
        "outputId": "e8ffac73-ef76-4529-e06d-86abe271c84c"
      },
      "execution_count": 34,
      "outputs": [
        {
          "output_type": "stream",
          "name": "stdout",
          "text": [
            "Random Forest Accuracy: 0.708029197080292\n",
            "Random Forest F1 Score: 0.7085823365525048\n"
          ]
        }
      ]
    }
  ]
}