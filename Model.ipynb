{
  "nbformat": 4,
  "nbformat_minor": 0,
  "metadata": {
    "colab": {
      "provenance": [],
      "toc_visible": true,
      "machine_shape": "hm"
    },
    "kernelspec": {
      "name": "python3",
      "display_name": "Python 3"
    },
    "language_info": {
      "name": "python"
    }
  },
  "cells": [
    {
      "cell_type": "markdown",
      "source": [
        "# IMPORT"
      ],
      "metadata": {
        "id": "3RYk9oQOSWHd"
      }
    },
    {
      "cell_type": "code",
      "execution_count": null,
      "metadata": {
        "colab": {
          "base_uri": "https://localhost:8080/"
        },
        "id": "M8XOWLkUSRFD",
        "outputId": "eecf12ce-82f1-4c1f-d0df-f61f83d97e9a"
      },
      "outputs": [
        {
          "output_type": "stream",
          "name": "stdout",
          "text": [
            "Mounted at /content/drive\n"
          ]
        }
      ],
      "source": [
        "from google.colab import drive\n",
        "drive.mount('/content/drive')"
      ]
    },
    {
      "cell_type": "code",
      "source": [
        "!pip install transformers sentencepiece torch"
      ],
      "metadata": {
        "colab": {
          "base_uri": "https://localhost:8080/"
        },
        "id": "wUbXy1QfHI-b",
        "outputId": "e3ff2a3b-703e-467a-b54d-a68668affcfb"
      },
      "execution_count": null,
      "outputs": [
        {
          "output_type": "stream",
          "name": "stdout",
          "text": [
            "Requirement already satisfied: transformers in /usr/local/lib/python3.10/dist-packages (4.44.2)\n",
            "Requirement already satisfied: sentencepiece in /usr/local/lib/python3.10/dist-packages (0.2.0)\n",
            "Requirement already satisfied: torch in /usr/local/lib/python3.10/dist-packages (2.5.0+cu121)\n",
            "Requirement already satisfied: filelock in /usr/local/lib/python3.10/dist-packages (from transformers) (3.16.1)\n",
            "Requirement already satisfied: huggingface-hub<1.0,>=0.23.2 in /usr/local/lib/python3.10/dist-packages (from transformers) (0.24.7)\n",
            "Requirement already satisfied: numpy>=1.17 in /usr/local/lib/python3.10/dist-packages (from transformers) (1.26.4)\n",
            "Requirement already satisfied: packaging>=20.0 in /usr/local/lib/python3.10/dist-packages (from transformers) (24.1)\n",
            "Requirement already satisfied: pyyaml>=5.1 in /usr/local/lib/python3.10/dist-packages (from transformers) (6.0.2)\n",
            "Requirement already satisfied: regex!=2019.12.17 in /usr/local/lib/python3.10/dist-packages (from transformers) (2024.9.11)\n",
            "Requirement already satisfied: requests in /usr/local/lib/python3.10/dist-packages (from transformers) (2.32.3)\n",
            "Requirement already satisfied: safetensors>=0.4.1 in /usr/local/lib/python3.10/dist-packages (from transformers) (0.4.5)\n",
            "Requirement already satisfied: tokenizers<0.20,>=0.19 in /usr/local/lib/python3.10/dist-packages (from transformers) (0.19.1)\n",
            "Requirement already satisfied: tqdm>=4.27 in /usr/local/lib/python3.10/dist-packages (from transformers) (4.66.5)\n",
            "Requirement already satisfied: typing-extensions>=4.8.0 in /usr/local/lib/python3.10/dist-packages (from torch) (4.12.2)\n",
            "Requirement already satisfied: networkx in /usr/local/lib/python3.10/dist-packages (from torch) (3.4.2)\n",
            "Requirement already satisfied: jinja2 in /usr/local/lib/python3.10/dist-packages (from torch) (3.1.4)\n",
            "Requirement already satisfied: fsspec in /usr/local/lib/python3.10/dist-packages (from torch) (2024.6.1)\n",
            "Requirement already satisfied: sympy==1.13.1 in /usr/local/lib/python3.10/dist-packages (from torch) (1.13.1)\n",
            "Requirement already satisfied: mpmath<1.4,>=1.1.0 in /usr/local/lib/python3.10/dist-packages (from sympy==1.13.1->torch) (1.3.0)\n",
            "Requirement already satisfied: MarkupSafe>=2.0 in /usr/local/lib/python3.10/dist-packages (from jinja2->torch) (3.0.2)\n",
            "Requirement already satisfied: charset-normalizer<4,>=2 in /usr/local/lib/python3.10/dist-packages (from requests->transformers) (3.4.0)\n",
            "Requirement already satisfied: idna<4,>=2.5 in /usr/local/lib/python3.10/dist-packages (from requests->transformers) (3.10)\n",
            "Requirement already satisfied: urllib3<3,>=1.21.1 in /usr/local/lib/python3.10/dist-packages (from requests->transformers) (2.2.3)\n",
            "Requirement already satisfied: certifi>=2017.4.17 in /usr/local/lib/python3.10/dist-packages (from requests->transformers) (2024.8.30)\n"
          ]
        }
      ]
    },
    {
      "cell_type": "code",
      "source": [
        "from transformers import BertTokenizer, BertForSequenceClassification, Trainer, TrainingArguments\n",
        "from transformers import BertTokenizerFast\n",
        "from transformers import get_linear_schedule_with_warmup\n",
        "from sklearn.model_selection import train_test_split\n",
        "import torch\n",
        "import pandas as pd\n",
        "from sklearn.preprocessing import LabelEncoder\n",
        "from sklearn.feature_extraction.text import TfidfVectorizer\n",
        "from sklearn.svm import SVC\n",
        "from sklearn.linear_model import LogisticRegression\n",
        "from sklearn.ensemble import RandomForestClassifier\n",
        "from sklearn.metrics import accuracy_score, f1_score\n",
        "import torch.nn as nn\n",
        "import torch.optim as optim\n",
        "from torch.utils.data import DataLoader, TensorDataset\n",
        "from tensorflow.keras.preprocessing.sequence import pad_sequences\n",
        "from tqdm import tqdm\n",
        "from torch.utils.data import Dataset\n",
        "import numpy as np\n",
        "from torch.optim import AdamW\n",
        "from transformers import BertModel\n",
        "from torch.optim.lr_scheduler import ReduceLROnPlateau\n",
        "import matplotlib.pyplot as plt"
      ],
      "metadata": {
        "id": "AMRDv9FiT_jx"
      },
      "execution_count": null,
      "outputs": []
    },
    {
      "cell_type": "markdown",
      "source": [
        "# DATA"
      ],
      "metadata": {
        "id": "72h-I1RlUIaR"
      }
    },
    {
      "cell_type": "code",
      "source": [
        "df = pd.read_csv('emotion_tokenized_data.csv')\n",
        "df"
      ],
      "metadata": {
        "colab": {
          "base_uri": "https://localhost:8080/",
          "height": 597
        },
        "id": "blUVCGOhUIAM",
        "outputId": "fd370f53-9323-4a5a-89c7-6900d5d35490"
      },
      "execution_count": null,
      "outputs": [
        {
          "output_type": "execute_result",
          "data": {
            "text/plain": [
              "       Emotion                                               Path     Length  \\\n",
              "0        angry  /content/drive/MyDrive/project/data_aihub/4/5e...   4.565333   \n",
              "1        angry  /content/drive/MyDrive/project/data_aihub/4/5e...   8.576000   \n",
              "2        angry  /content/drive/MyDrive/project/data_aihub/4/5e...   7.040000   \n",
              "3        angry  /content/drive/MyDrive/project/data_aihub/4/5e...   5.034667   \n",
              "4        angry  /content/drive/MyDrive/project/data_aihub/4/5e...   4.266667   \n",
              "...        ...                                                ...        ...   \n",
              "14377  sadness  /content/drive/MyDrive/project/data_aihub/4/5e...  10.880000   \n",
              "14378  sadness  /content/drive/MyDrive/project/data_aihub/5_2/...   4.821333   \n",
              "14379  sadness  /content/drive/MyDrive/project/data_aihub/4/5e...   5.248000   \n",
              "14380  sadness  /content/drive/MyDrive/project/data_aihub/4/5e...   3.114667   \n",
              "14381  sadness  /content/drive/MyDrive/project/data_aihub/5/5e...   6.186667   \n",
              "\n",
              "                                                   Text  \\\n",
              "0                                      10년도 넘었어 고등학교 동창   \n",
              "1            10분마다 연락을 해 봤지 근데 아직도이 녀석 온다고 말하지 오지 않고 있어   \n",
              "2               1년 채우고 그만두려고 했는데 아 지금 같아서는 진짜 회사 옮기고 싶다   \n",
              "3                               1시간 기다렸나 봐 다리도 아프고 짜증 나   \n",
              "4                                     1시간 기다렸는데 아직도 안 와   \n",
              "...                                                 ...   \n",
              "14377  힘들다 그만둬야 할까 어떻게 해야 될까 정말 고민이 많이 되는 거 같아 어떡하면 좋겠니   \n",
              "14378                                           힘들다 힘들어   \n",
              "14379                           힘들어 다른 회사 또 준비를 할 거야 나는   \n",
              "14380                                   힘들어하고 나도 너무 힘들어   \n",
              "14381                                     힘이 없네 나가기가 싫어   \n",
              "\n",
              "                                           cleaned_text  \\\n",
              "0                                      10년도 넘었어 고등학교 동창   \n",
              "1            10분마다 연락을 해 봤지 근데 아직도이 녀석 온다고 말하지 오지 않고 있어   \n",
              "2               1년 채우고 그만두려고 했는데 아 지금 같아서는 진짜 회사 옮기고 싶다   \n",
              "3                               1시간 기다렸나 봐 다리도 아프고 짜증 나   \n",
              "4                                     1시간 기다렸는데 아직도 안 와   \n",
              "...                                                 ...   \n",
              "14377  힘들다 그만둬야 할까 어떻게 해야 될까 정말 고민이 많이 되는 거 같아 어떡하면 좋겠니   \n",
              "14378                                           힘들다 힘들어   \n",
              "14379                           힘들어 다른 회사 또 준비를 할 거야 나는   \n",
              "14380                                   힘들어하고 나도 너무 힘들어   \n",
              "14381                                     힘이 없네 나가기가 싫어   \n",
              "\n",
              "                                               tokenized  \n",
              "0      {'input_ids': tensor([[   2,    0,    0, 5441,...  \n",
              "1      {'input_ids': tensor([[   2,    0,    0, 7848,...  \n",
              "2      {'input_ids': tensor([[   2,    0,    0,    0,...  \n",
              "3      {'input_ids': tensor([[   2,    0,    0, 6393,...  \n",
              "4      {'input_ids': tensor([[   2,    0,    0,    0,...  \n",
              "...                                                  ...  \n",
              "14377  {'input_ids': tensor([[   2,    0,    0,    0,...  \n",
              "14378  {'input_ids': tensor([[2, 0, 0, 3, 1, 1, 1, 1,...  \n",
              "14379  {'input_ids': tensor([[   2,    0, 5783, 7957,...  \n",
              "14380  {'input_ids': tensor([[2, 0, 0, 0, 0, 3, 1, 1,...  \n",
              "14381  {'input_ids': tensor([[2, 0, 0, 0, 0, 3, 1, 1,...  \n",
              "\n",
              "[14382 rows x 6 columns]"
            ],
            "text/html": [
              "\n",
              "  <div id=\"df-9ff2e136-addf-47ea-afa6-a4335799aef2\" class=\"colab-df-container\">\n",
              "    <div>\n",
              "<style scoped>\n",
              "    .dataframe tbody tr th:only-of-type {\n",
              "        vertical-align: middle;\n",
              "    }\n",
              "\n",
              "    .dataframe tbody tr th {\n",
              "        vertical-align: top;\n",
              "    }\n",
              "\n",
              "    .dataframe thead th {\n",
              "        text-align: right;\n",
              "    }\n",
              "</style>\n",
              "<table border=\"1\" class=\"dataframe\">\n",
              "  <thead>\n",
              "    <tr style=\"text-align: right;\">\n",
              "      <th></th>\n",
              "      <th>Emotion</th>\n",
              "      <th>Path</th>\n",
              "      <th>Length</th>\n",
              "      <th>Text</th>\n",
              "      <th>cleaned_text</th>\n",
              "      <th>tokenized</th>\n",
              "    </tr>\n",
              "  </thead>\n",
              "  <tbody>\n",
              "    <tr>\n",
              "      <th>0</th>\n",
              "      <td>angry</td>\n",
              "      <td>/content/drive/MyDrive/project/data_aihub/4/5e...</td>\n",
              "      <td>4.565333</td>\n",
              "      <td>10년도 넘었어 고등학교 동창</td>\n",
              "      <td>10년도 넘었어 고등학교 동창</td>\n",
              "      <td>{'input_ids': tensor([[   2,    0,    0, 5441,...</td>\n",
              "    </tr>\n",
              "    <tr>\n",
              "      <th>1</th>\n",
              "      <td>angry</td>\n",
              "      <td>/content/drive/MyDrive/project/data_aihub/4/5e...</td>\n",
              "      <td>8.576000</td>\n",
              "      <td>10분마다 연락을 해 봤지 근데 아직도이 녀석 온다고 말하지 오지 않고 있어</td>\n",
              "      <td>10분마다 연락을 해 봤지 근데 아직도이 녀석 온다고 말하지 오지 않고 있어</td>\n",
              "      <td>{'input_ids': tensor([[   2,    0,    0, 7848,...</td>\n",
              "    </tr>\n",
              "    <tr>\n",
              "      <th>2</th>\n",
              "      <td>angry</td>\n",
              "      <td>/content/drive/MyDrive/project/data_aihub/4/5e...</td>\n",
              "      <td>7.040000</td>\n",
              "      <td>1년 채우고 그만두려고 했는데 아 지금 같아서는 진짜 회사 옮기고 싶다</td>\n",
              "      <td>1년 채우고 그만두려고 했는데 아 지금 같아서는 진짜 회사 옮기고 싶다</td>\n",
              "      <td>{'input_ids': tensor([[   2,    0,    0,    0,...</td>\n",
              "    </tr>\n",
              "    <tr>\n",
              "      <th>3</th>\n",
              "      <td>angry</td>\n",
              "      <td>/content/drive/MyDrive/project/data_aihub/4/5e...</td>\n",
              "      <td>5.034667</td>\n",
              "      <td>1시간 기다렸나 봐 다리도 아프고 짜증 나</td>\n",
              "      <td>1시간 기다렸나 봐 다리도 아프고 짜증 나</td>\n",
              "      <td>{'input_ids': tensor([[   2,    0,    0, 6393,...</td>\n",
              "    </tr>\n",
              "    <tr>\n",
              "      <th>4</th>\n",
              "      <td>angry</td>\n",
              "      <td>/content/drive/MyDrive/project/data_aihub/4/5e...</td>\n",
              "      <td>4.266667</td>\n",
              "      <td>1시간 기다렸는데 아직도 안 와</td>\n",
              "      <td>1시간 기다렸는데 아직도 안 와</td>\n",
              "      <td>{'input_ids': tensor([[   2,    0,    0,    0,...</td>\n",
              "    </tr>\n",
              "    <tr>\n",
              "      <th>...</th>\n",
              "      <td>...</td>\n",
              "      <td>...</td>\n",
              "      <td>...</td>\n",
              "      <td>...</td>\n",
              "      <td>...</td>\n",
              "      <td>...</td>\n",
              "    </tr>\n",
              "    <tr>\n",
              "      <th>14377</th>\n",
              "      <td>sadness</td>\n",
              "      <td>/content/drive/MyDrive/project/data_aihub/4/5e...</td>\n",
              "      <td>10.880000</td>\n",
              "      <td>힘들다 그만둬야 할까 어떻게 해야 될까 정말 고민이 많이 되는 거 같아 어떡하면 좋겠니</td>\n",
              "      <td>힘들다 그만둬야 할까 어떻게 해야 될까 정말 고민이 많이 되는 거 같아 어떡하면 좋겠니</td>\n",
              "      <td>{'input_ids': tensor([[   2,    0,    0,    0,...</td>\n",
              "    </tr>\n",
              "    <tr>\n",
              "      <th>14378</th>\n",
              "      <td>sadness</td>\n",
              "      <td>/content/drive/MyDrive/project/data_aihub/5_2/...</td>\n",
              "      <td>4.821333</td>\n",
              "      <td>힘들다 힘들어</td>\n",
              "      <td>힘들다 힘들어</td>\n",
              "      <td>{'input_ids': tensor([[2, 0, 0, 3, 1, 1, 1, 1,...</td>\n",
              "    </tr>\n",
              "    <tr>\n",
              "      <th>14379</th>\n",
              "      <td>sadness</td>\n",
              "      <td>/content/drive/MyDrive/project/data_aihub/4/5e...</td>\n",
              "      <td>5.248000</td>\n",
              "      <td>힘들어 다른 회사 또 준비를 할 거야 나는</td>\n",
              "      <td>힘들어 다른 회사 또 준비를 할 거야 나는</td>\n",
              "      <td>{'input_ids': tensor([[   2,    0, 5783, 7957,...</td>\n",
              "    </tr>\n",
              "    <tr>\n",
              "      <th>14380</th>\n",
              "      <td>sadness</td>\n",
              "      <td>/content/drive/MyDrive/project/data_aihub/4/5e...</td>\n",
              "      <td>3.114667</td>\n",
              "      <td>힘들어하고 나도 너무 힘들어</td>\n",
              "      <td>힘들어하고 나도 너무 힘들어</td>\n",
              "      <td>{'input_ids': tensor([[2, 0, 0, 0, 0, 3, 1, 1,...</td>\n",
              "    </tr>\n",
              "    <tr>\n",
              "      <th>14381</th>\n",
              "      <td>sadness</td>\n",
              "      <td>/content/drive/MyDrive/project/data_aihub/5/5e...</td>\n",
              "      <td>6.186667</td>\n",
              "      <td>힘이 없네 나가기가 싫어</td>\n",
              "      <td>힘이 없네 나가기가 싫어</td>\n",
              "      <td>{'input_ids': tensor([[2, 0, 0, 0, 0, 3, 1, 1,...</td>\n",
              "    </tr>\n",
              "  </tbody>\n",
              "</table>\n",
              "<p>14382 rows × 6 columns</p>\n",
              "</div>\n",
              "    <div class=\"colab-df-buttons\">\n",
              "\n",
              "  <div class=\"colab-df-container\">\n",
              "    <button class=\"colab-df-convert\" onclick=\"convertToInteractive('df-9ff2e136-addf-47ea-afa6-a4335799aef2')\"\n",
              "            title=\"Convert this dataframe to an interactive table.\"\n",
              "            style=\"display:none;\">\n",
              "\n",
              "  <svg xmlns=\"http://www.w3.org/2000/svg\" height=\"24px\" viewBox=\"0 -960 960 960\">\n",
              "    <path d=\"M120-120v-720h720v720H120Zm60-500h600v-160H180v160Zm220 220h160v-160H400v160Zm0 220h160v-160H400v160ZM180-400h160v-160H180v160Zm440 0h160v-160H620v160ZM180-180h160v-160H180v160Zm440 0h160v-160H620v160Z\"/>\n",
              "  </svg>\n",
              "    </button>\n",
              "\n",
              "  <style>\n",
              "    .colab-df-container {\n",
              "      display:flex;\n",
              "      gap: 12px;\n",
              "    }\n",
              "\n",
              "    .colab-df-convert {\n",
              "      background-color: #E8F0FE;\n",
              "      border: none;\n",
              "      border-radius: 50%;\n",
              "      cursor: pointer;\n",
              "      display: none;\n",
              "      fill: #1967D2;\n",
              "      height: 32px;\n",
              "      padding: 0 0 0 0;\n",
              "      width: 32px;\n",
              "    }\n",
              "\n",
              "    .colab-df-convert:hover {\n",
              "      background-color: #E2EBFA;\n",
              "      box-shadow: 0px 1px 2px rgba(60, 64, 67, 0.3), 0px 1px 3px 1px rgba(60, 64, 67, 0.15);\n",
              "      fill: #174EA6;\n",
              "    }\n",
              "\n",
              "    .colab-df-buttons div {\n",
              "      margin-bottom: 4px;\n",
              "    }\n",
              "\n",
              "    [theme=dark] .colab-df-convert {\n",
              "      background-color: #3B4455;\n",
              "      fill: #D2E3FC;\n",
              "    }\n",
              "\n",
              "    [theme=dark] .colab-df-convert:hover {\n",
              "      background-color: #434B5C;\n",
              "      box-shadow: 0px 1px 3px 1px rgba(0, 0, 0, 0.15);\n",
              "      filter: drop-shadow(0px 1px 2px rgba(0, 0, 0, 0.3));\n",
              "      fill: #FFFFFF;\n",
              "    }\n",
              "  </style>\n",
              "\n",
              "    <script>\n",
              "      const buttonEl =\n",
              "        document.querySelector('#df-9ff2e136-addf-47ea-afa6-a4335799aef2 button.colab-df-convert');\n",
              "      buttonEl.style.display =\n",
              "        google.colab.kernel.accessAllowed ? 'block' : 'none';\n",
              "\n",
              "      async function convertToInteractive(key) {\n",
              "        const element = document.querySelector('#df-9ff2e136-addf-47ea-afa6-a4335799aef2');\n",
              "        const dataTable =\n",
              "          await google.colab.kernel.invokeFunction('convertToInteractive',\n",
              "                                                    [key], {});\n",
              "        if (!dataTable) return;\n",
              "\n",
              "        const docLinkHtml = 'Like what you see? Visit the ' +\n",
              "          '<a target=\"_blank\" href=https://colab.research.google.com/notebooks/data_table.ipynb>data table notebook</a>'\n",
              "          + ' to learn more about interactive tables.';\n",
              "        element.innerHTML = '';\n",
              "        dataTable['output_type'] = 'display_data';\n",
              "        await google.colab.output.renderOutput(dataTable, element);\n",
              "        const docLink = document.createElement('div');\n",
              "        docLink.innerHTML = docLinkHtml;\n",
              "        element.appendChild(docLink);\n",
              "      }\n",
              "    </script>\n",
              "  </div>\n",
              "\n",
              "\n",
              "<div id=\"df-e0a73090-5088-403a-9e90-bc61c3e9fde4\">\n",
              "  <button class=\"colab-df-quickchart\" onclick=\"quickchart('df-e0a73090-5088-403a-9e90-bc61c3e9fde4')\"\n",
              "            title=\"Suggest charts\"\n",
              "            style=\"display:none;\">\n",
              "\n",
              "<svg xmlns=\"http://www.w3.org/2000/svg\" height=\"24px\"viewBox=\"0 0 24 24\"\n",
              "     width=\"24px\">\n",
              "    <g>\n",
              "        <path d=\"M19 3H5c-1.1 0-2 .9-2 2v14c0 1.1.9 2 2 2h14c1.1 0 2-.9 2-2V5c0-1.1-.9-2-2-2zM9 17H7v-7h2v7zm4 0h-2V7h2v10zm4 0h-2v-4h2v4z\"/>\n",
              "    </g>\n",
              "</svg>\n",
              "  </button>\n",
              "\n",
              "<style>\n",
              "  .colab-df-quickchart {\n",
              "      --bg-color: #E8F0FE;\n",
              "      --fill-color: #1967D2;\n",
              "      --hover-bg-color: #E2EBFA;\n",
              "      --hover-fill-color: #174EA6;\n",
              "      --disabled-fill-color: #AAA;\n",
              "      --disabled-bg-color: #DDD;\n",
              "  }\n",
              "\n",
              "  [theme=dark] .colab-df-quickchart {\n",
              "      --bg-color: #3B4455;\n",
              "      --fill-color: #D2E3FC;\n",
              "      --hover-bg-color: #434B5C;\n",
              "      --hover-fill-color: #FFFFFF;\n",
              "      --disabled-bg-color: #3B4455;\n",
              "      --disabled-fill-color: #666;\n",
              "  }\n",
              "\n",
              "  .colab-df-quickchart {\n",
              "    background-color: var(--bg-color);\n",
              "    border: none;\n",
              "    border-radius: 50%;\n",
              "    cursor: pointer;\n",
              "    display: none;\n",
              "    fill: var(--fill-color);\n",
              "    height: 32px;\n",
              "    padding: 0;\n",
              "    width: 32px;\n",
              "  }\n",
              "\n",
              "  .colab-df-quickchart:hover {\n",
              "    background-color: var(--hover-bg-color);\n",
              "    box-shadow: 0 1px 2px rgba(60, 64, 67, 0.3), 0 1px 3px 1px rgba(60, 64, 67, 0.15);\n",
              "    fill: var(--button-hover-fill-color);\n",
              "  }\n",
              "\n",
              "  .colab-df-quickchart-complete:disabled,\n",
              "  .colab-df-quickchart-complete:disabled:hover {\n",
              "    background-color: var(--disabled-bg-color);\n",
              "    fill: var(--disabled-fill-color);\n",
              "    box-shadow: none;\n",
              "  }\n",
              "\n",
              "  .colab-df-spinner {\n",
              "    border: 2px solid var(--fill-color);\n",
              "    border-color: transparent;\n",
              "    border-bottom-color: var(--fill-color);\n",
              "    animation:\n",
              "      spin 1s steps(1) infinite;\n",
              "  }\n",
              "\n",
              "  @keyframes spin {\n",
              "    0% {\n",
              "      border-color: transparent;\n",
              "      border-bottom-color: var(--fill-color);\n",
              "      border-left-color: var(--fill-color);\n",
              "    }\n",
              "    20% {\n",
              "      border-color: transparent;\n",
              "      border-left-color: var(--fill-color);\n",
              "      border-top-color: var(--fill-color);\n",
              "    }\n",
              "    30% {\n",
              "      border-color: transparent;\n",
              "      border-left-color: var(--fill-color);\n",
              "      border-top-color: var(--fill-color);\n",
              "      border-right-color: var(--fill-color);\n",
              "    }\n",
              "    40% {\n",
              "      border-color: transparent;\n",
              "      border-right-color: var(--fill-color);\n",
              "      border-top-color: var(--fill-color);\n",
              "    }\n",
              "    60% {\n",
              "      border-color: transparent;\n",
              "      border-right-color: var(--fill-color);\n",
              "    }\n",
              "    80% {\n",
              "      border-color: transparent;\n",
              "      border-right-color: var(--fill-color);\n",
              "      border-bottom-color: var(--fill-color);\n",
              "    }\n",
              "    90% {\n",
              "      border-color: transparent;\n",
              "      border-bottom-color: var(--fill-color);\n",
              "    }\n",
              "  }\n",
              "</style>\n",
              "\n",
              "  <script>\n",
              "    async function quickchart(key) {\n",
              "      const quickchartButtonEl =\n",
              "        document.querySelector('#' + key + ' button');\n",
              "      quickchartButtonEl.disabled = true;  // To prevent multiple clicks.\n",
              "      quickchartButtonEl.classList.add('colab-df-spinner');\n",
              "      try {\n",
              "        const charts = await google.colab.kernel.invokeFunction(\n",
              "            'suggestCharts', [key], {});\n",
              "      } catch (error) {\n",
              "        console.error('Error during call to suggestCharts:', error);\n",
              "      }\n",
              "      quickchartButtonEl.classList.remove('colab-df-spinner');\n",
              "      quickchartButtonEl.classList.add('colab-df-quickchart-complete');\n",
              "    }\n",
              "    (() => {\n",
              "      let quickchartButtonEl =\n",
              "        document.querySelector('#df-e0a73090-5088-403a-9e90-bc61c3e9fde4 button');\n",
              "      quickchartButtonEl.style.display =\n",
              "        google.colab.kernel.accessAllowed ? 'block' : 'none';\n",
              "    })();\n",
              "  </script>\n",
              "</div>\n",
              "\n",
              "  <div id=\"id_b9742ad7-31c5-4050-8529-9fb3e881f857\">\n",
              "    <style>\n",
              "      .colab-df-generate {\n",
              "        background-color: #E8F0FE;\n",
              "        border: none;\n",
              "        border-radius: 50%;\n",
              "        cursor: pointer;\n",
              "        display: none;\n",
              "        fill: #1967D2;\n",
              "        height: 32px;\n",
              "        padding: 0 0 0 0;\n",
              "        width: 32px;\n",
              "      }\n",
              "\n",
              "      .colab-df-generate:hover {\n",
              "        background-color: #E2EBFA;\n",
              "        box-shadow: 0px 1px 2px rgba(60, 64, 67, 0.3), 0px 1px 3px 1px rgba(60, 64, 67, 0.15);\n",
              "        fill: #174EA6;\n",
              "      }\n",
              "\n",
              "      [theme=dark] .colab-df-generate {\n",
              "        background-color: #3B4455;\n",
              "        fill: #D2E3FC;\n",
              "      }\n",
              "\n",
              "      [theme=dark] .colab-df-generate:hover {\n",
              "        background-color: #434B5C;\n",
              "        box-shadow: 0px 1px 3px 1px rgba(0, 0, 0, 0.15);\n",
              "        filter: drop-shadow(0px 1px 2px rgba(0, 0, 0, 0.3));\n",
              "        fill: #FFFFFF;\n",
              "      }\n",
              "    </style>\n",
              "    <button class=\"colab-df-generate\" onclick=\"generateWithVariable('df')\"\n",
              "            title=\"Generate code using this dataframe.\"\n",
              "            style=\"display:none;\">\n",
              "\n",
              "  <svg xmlns=\"http://www.w3.org/2000/svg\" height=\"24px\"viewBox=\"0 0 24 24\"\n",
              "       width=\"24px\">\n",
              "    <path d=\"M7,19H8.4L18.45,9,17,7.55,7,17.6ZM5,21V16.75L18.45,3.32a2,2,0,0,1,2.83,0l1.4,1.43a1.91,1.91,0,0,1,.58,1.4,1.91,1.91,0,0,1-.58,1.4L9.25,21ZM18.45,9,17,7.55Zm-12,3A5.31,5.31,0,0,0,4.9,8.1,5.31,5.31,0,0,0,1,6.5,5.31,5.31,0,0,0,4.9,4.9,5.31,5.31,0,0,0,6.5,1,5.31,5.31,0,0,0,8.1,4.9,5.31,5.31,0,0,0,12,6.5,5.46,5.46,0,0,0,6.5,12Z\"/>\n",
              "  </svg>\n",
              "    </button>\n",
              "    <script>\n",
              "      (() => {\n",
              "      const buttonEl =\n",
              "        document.querySelector('#id_b9742ad7-31c5-4050-8529-9fb3e881f857 button.colab-df-generate');\n",
              "      buttonEl.style.display =\n",
              "        google.colab.kernel.accessAllowed ? 'block' : 'none';\n",
              "\n",
              "      buttonEl.onclick = () => {\n",
              "        google.colab.notebook.generateWithVariable('df');\n",
              "      }\n",
              "      })();\n",
              "    </script>\n",
              "  </div>\n",
              "\n",
              "    </div>\n",
              "  </div>\n"
            ],
            "application/vnd.google.colaboratory.intrinsic+json": {
              "type": "dataframe",
              "variable_name": "df",
              "summary": "{\n  \"name\": \"df\",\n  \"rows\": 14382,\n  \"fields\": [\n    {\n      \"column\": \"Emotion\",\n      \"properties\": {\n        \"dtype\": \"category\",\n        \"num_unique_values\": 6,\n        \"samples\": [\n          \"angry\",\n          \"disgust\",\n          \"sadness\"\n        ],\n        \"semantic_type\": \"\",\n        \"description\": \"\"\n      }\n    },\n    {\n      \"column\": \"Path\",\n      \"properties\": {\n        \"dtype\": \"string\",\n        \"num_unique_values\": 14382,\n        \"samples\": [\n          \"/content/drive/MyDrive/project/data_aihub/5_2/5f3cc64b8a3c1005aa97c6d4.wav\",\n          \"/content/drive/MyDrive/project/data_aihub/4/5e32f5e65807b852d9e046a1.wav\",\n          \"/content/drive/MyDrive/project/data_aihub/5/5ecde3831dcf350eeded47bc.wav\"\n        ],\n        \"semantic_type\": \"\",\n        \"description\": \"\"\n      }\n    },\n    {\n      \"column\": \"Length\",\n      \"properties\": {\n        \"dtype\": \"number\",\n        \"std\": 2.3513939701423414,\n        \"min\": 1.109333333,\n        \"max\": 12.88533333,\n        \"num_unique_values\": 274,\n        \"samples\": [\n          3.968,\n          2.56,\n          1.322666667\n        ],\n        \"semantic_type\": \"\",\n        \"description\": \"\"\n      }\n    },\n    {\n      \"column\": \"Text\",\n      \"properties\": {\n        \"dtype\": \"string\",\n        \"num_unique_values\": 13705,\n        \"samples\": [\n          \"\\ub2f9\\ucca8 \\uc120\\ubb3c\\uc774 \\ub0b4\\uac00 \\uac16\\uace0 \\uc2f6\\uc5c8\\ub358 \\uac70\\ub77c\\uc11c \\ub108\\ubb34 \\ub9c8\\uc74c\\uc5d0 \\ub4e4\\uc5b4\",\n          \"\\ub098 \\ud63c\\uc790 \\uc9d1\\uc5d0 \\uac07\\ud78c \\uac70 \\uac19\\uc544 \\ub108\\ubb34 \\ubb34\\uc11c\\uc6cc\",\n          \"\\uc6b8\\ub801\\uac70\\ub9ac\\uace0 \\uc18d\\uc774 \\uc88b\\uc9c0 \\uc54a\\uc740\\ub370 \\ub530\\ub73b\\ud55c \\ubb3c\\uc744 \\ub9c8\\uc154\\uc11c \\ub2ec\\ub798 \\ubd10\\uc57c\\uaca0\\uc5b4\"\n        ],\n        \"semantic_type\": \"\",\n        \"description\": \"\"\n      }\n    },\n    {\n      \"column\": \"cleaned_text\",\n      \"properties\": {\n        \"dtype\": \"string\",\n        \"num_unique_values\": 13705,\n        \"samples\": [\n          \"\\ub2f9\\ucca8 \\uc120\\ubb3c\\uc774 \\ub0b4\\uac00 \\uac16\\uace0 \\uc2f6\\uc5c8\\ub358 \\uac70\\ub77c\\uc11c \\ub108\\ubb34 \\ub9c8\\uc74c\\uc5d0 \\ub4e4\\uc5b4\",\n          \"\\ub098 \\ud63c\\uc790 \\uc9d1\\uc5d0 \\uac07\\ud78c \\uac70 \\uac19\\uc544 \\ub108\\ubb34 \\ubb34\\uc11c\\uc6cc\",\n          \"\\uc6b8\\ub801\\uac70\\ub9ac\\uace0 \\uc18d\\uc774 \\uc88b\\uc9c0 \\uc54a\\uc740\\ub370 \\ub530\\ub73b\\ud55c \\ubb3c\\uc744 \\ub9c8\\uc154\\uc11c \\ub2ec\\ub798 \\ubd10\\uc57c\\uaca0\\uc5b4\"\n        ],\n        \"semantic_type\": \"\",\n        \"description\": \"\"\n      }\n    },\n    {\n      \"column\": \"tokenized\",\n      \"properties\": {\n        \"dtype\": \"string\",\n        \"num_unique_values\": 8150,\n        \"samples\": [\n          \"{'input_ids': tensor([[   2,    0, 5782,    0,    0,    0,    0,    0,    3,    1,    1,    1,\\n            1,    1,    1,    1,    1,    1,    1,    1,    1,    1,    1,    1,\\n            1,    1,    1,    1,    1,    1,    1,    1,    1,    1,    1,    1,\\n            1,    1,    1,    1,    1,    1,    1,    1,    1,    1,    1,    1,\\n            1,    1,    1,    1,    1,    1,    1,    1,    1,    1,    1,    1,\\n            1,    1,    1,    1,    1,    1,    1,    1,    1,    1,    1,    1,\\n            1,    1,    1,    1,    1,    1,    1,    1,    1,    1,    1,    1,\\n            1,    1,    1,    1,    1,    1,    1,    1,    1,    1,    1,    1,\\n            1,    1,    1,    1,    1,    1,    1,    1,    1,    1,    1,    1,\\n            1,    1,    1,    1,    1,    1,    1,    1,    1,    1,    1,    1,\\n            1,    1,    1,    1,    1,    1,    1,    1]]), 'token_type_ids': tensor([[0, 0, 0, 0, 0, 0, 0, 0, 0, 0, 0, 0, 0, 0, 0, 0, 0, 0, 0, 0, 0, 0, 0, 0,\\n         0, 0, 0, 0, 0, 0, 0, 0, 0, 0, 0, 0, 0, 0, 0, 0, 0, 0, 0, 0, 0, 0, 0, 0,\\n         0, 0, 0, 0, 0, 0, 0, 0, 0, 0, 0, 0, 0, 0, 0, 0, 0, 0, 0, 0, 0, 0, 0, 0,\\n         0, 0, 0, 0, 0, 0, 0, 0, 0, 0, 0, 0, 0, 0, 0, 0, 0, 0, 0, 0, 0, 0, 0, 0,\\n         0, 0, 0, 0, 0, 0, 0, 0, 0, 0, 0, 0, 0, 0, 0, 0, 0, 0, 0, 0, 0, 0, 0, 0,\\n         0, 0, 0, 0, 0, 0, 0, 0]]), 'attention_mask': tensor([[1, 1, 1, 1, 1, 1, 1, 1, 1, 0, 0, 0, 0, 0, 0, 0, 0, 0, 0, 0, 0, 0, 0, 0,\\n         0, 0, 0, 0, 0, 0, 0, 0, 0, 0, 0, 0, 0, 0, 0, 0, 0, 0, 0, 0, 0, 0, 0, 0,\\n         0, 0, 0, 0, 0, 0, 0, 0, 0, 0, 0, 0, 0, 0, 0, 0, 0, 0, 0, 0, 0, 0, 0, 0,\\n         0, 0, 0, 0, 0, 0, 0, 0, 0, 0, 0, 0, 0, 0, 0, 0, 0, 0, 0, 0, 0, 0, 0, 0,\\n         0, 0, 0, 0, 0, 0, 0, 0, 0, 0, 0, 0, 0, 0, 0, 0, 0, 0, 0, 0, 0, 0, 0, 0,\\n         0, 0, 0, 0, 0, 0, 0, 0]])}\",\n          \"{'input_ids': tensor([[   2,    0,    0,    0,    0,    0,    0,    0,    0, 5910, 5782,    0,\\n            0,    0,    0, 7007, 6799,    3,    1,    1,    1,    1,    1,    1,\\n            1,    1,    1,    1,    1,    1,    1,    1,    1,    1,    1,    1,\\n            1,    1,    1,    1,    1,    1,    1,    1,    1,    1,    1,    1,\\n            1,    1,    1,    1,    1,    1,    1,    1,    1,    1,    1,    1,\\n            1,    1,    1,    1,    1,    1,    1,    1,    1,    1,    1,    1,\\n            1,    1,    1,    1,    1,    1,    1,    1,    1,    1,    1,    1,\\n            1,    1,    1,    1,    1,    1,    1,    1,    1,    1,    1,    1,\\n            1,    1,    1,    1,    1,    1,    1,    1,    1,    1,    1,    1,\\n            1,    1,    1,    1,    1,    1,    1,    1,    1,    1,    1,    1,\\n            1,    1,    1,    1,    1,    1,    1,    1]]), 'token_type_ids': tensor([[0, 0, 0, 0, 0, 0, 0, 0, 0, 0, 0, 0, 0, 0, 0, 0, 0, 0, 0, 0, 0, 0, 0, 0,\\n         0, 0, 0, 0, 0, 0, 0, 0, 0, 0, 0, 0, 0, 0, 0, 0, 0, 0, 0, 0, 0, 0, 0, 0,\\n         0, 0, 0, 0, 0, 0, 0, 0, 0, 0, 0, 0, 0, 0, 0, 0, 0, 0, 0, 0, 0, 0, 0, 0,\\n         0, 0, 0, 0, 0, 0, 0, 0, 0, 0, 0, 0, 0, 0, 0, 0, 0, 0, 0, 0, 0, 0, 0, 0,\\n         0, 0, 0, 0, 0, 0, 0, 0, 0, 0, 0, 0, 0, 0, 0, 0, 0, 0, 0, 0, 0, 0, 0, 0,\\n         0, 0, 0, 0, 0, 0, 0, 0]]), 'attention_mask': tensor([[1, 1, 1, 1, 1, 1, 1, 1, 1, 1, 1, 1, 1, 1, 1, 1, 1, 1, 0, 0, 0, 0, 0, 0,\\n         0, 0, 0, 0, 0, 0, 0, 0, 0, 0, 0, 0, 0, 0, 0, 0, 0, 0, 0, 0, 0, 0, 0, 0,\\n         0, 0, 0, 0, 0, 0, 0, 0, 0, 0, 0, 0, 0, 0, 0, 0, 0, 0, 0, 0, 0, 0, 0, 0,\\n         0, 0, 0, 0, 0, 0, 0, 0, 0, 0, 0, 0, 0, 0, 0, 0, 0, 0, 0, 0, 0, 0, 0, 0,\\n         0, 0, 0, 0, 0, 0, 0, 0, 0, 0, 0, 0, 0, 0, 0, 0, 0, 0, 0, 0, 0, 0, 0, 0,\\n         0, 0, 0, 0, 0, 0, 0, 0]])}\",\n          \"{'input_ids': tensor([[   2, 6812,    0,    0,    0,    0,    0, 7836,    0,    0,    0, 7807,\\n            3,    1,    1,    1,    1,    1,    1,    1,    1,    1,    1,    1,\\n            1,    1,    1,    1,    1,    1,    1,    1,    1,    1,    1,    1,\\n            1,    1,    1,    1,    1,    1,    1,    1,    1,    1,    1,    1,\\n            1,    1,    1,    1,    1,    1,    1,    1,    1,    1,    1,    1,\\n            1,    1,    1,    1,    1,    1,    1,    1,    1,    1,    1,    1,\\n            1,    1,    1,    1,    1,    1,    1,    1,    1,    1,    1,    1,\\n            1,    1,    1,    1,    1,    1,    1,    1,    1,    1,    1,    1,\\n            1,    1,    1,    1,    1,    1,    1,    1,    1,    1,    1,    1,\\n            1,    1,    1,    1,    1,    1,    1,    1,    1,    1,    1,    1,\\n            1,    1,    1,    1,    1,    1,    1,    1]]), 'token_type_ids': tensor([[0, 0, 0, 0, 0, 0, 0, 0, 0, 0, 0, 0, 0, 0, 0, 0, 0, 0, 0, 0, 0, 0, 0, 0,\\n         0, 0, 0, 0, 0, 0, 0, 0, 0, 0, 0, 0, 0, 0, 0, 0, 0, 0, 0, 0, 0, 0, 0, 0,\\n         0, 0, 0, 0, 0, 0, 0, 0, 0, 0, 0, 0, 0, 0, 0, 0, 0, 0, 0, 0, 0, 0, 0, 0,\\n         0, 0, 0, 0, 0, 0, 0, 0, 0, 0, 0, 0, 0, 0, 0, 0, 0, 0, 0, 0, 0, 0, 0, 0,\\n         0, 0, 0, 0, 0, 0, 0, 0, 0, 0, 0, 0, 0, 0, 0, 0, 0, 0, 0, 0, 0, 0, 0, 0,\\n         0, 0, 0, 0, 0, 0, 0, 0]]), 'attention_mask': tensor([[1, 1, 1, 1, 1, 1, 1, 1, 1, 1, 1, 1, 1, 0, 0, 0, 0, 0, 0, 0, 0, 0, 0, 0,\\n         0, 0, 0, 0, 0, 0, 0, 0, 0, 0, 0, 0, 0, 0, 0, 0, 0, 0, 0, 0, 0, 0, 0, 0,\\n         0, 0, 0, 0, 0, 0, 0, 0, 0, 0, 0, 0, 0, 0, 0, 0, 0, 0, 0, 0, 0, 0, 0, 0,\\n         0, 0, 0, 0, 0, 0, 0, 0, 0, 0, 0, 0, 0, 0, 0, 0, 0, 0, 0, 0, 0, 0, 0, 0,\\n         0, 0, 0, 0, 0, 0, 0, 0, 0, 0, 0, 0, 0, 0, 0, 0, 0, 0, 0, 0, 0, 0, 0, 0,\\n         0, 0, 0, 0, 0, 0, 0, 0]])}\"\n        ],\n        \"semantic_type\": \"\",\n        \"description\": \"\"\n      }\n    }\n  ]\n}"
            }
          },
          "metadata": {},
          "execution_count": 8
        }
      ]
    },
    {
      "cell_type": "code",
      "source": [
        "label_mapping = {'happiness': 0, 'sadness': 1, 'angry': 2, 'neutral': 3, 'fear': 4, 'disgust': 5}"
      ],
      "metadata": {
        "id": "1CFH-_fScq3Z"
      },
      "execution_count": null,
      "outputs": []
    },
    {
      "cell_type": "code",
      "source": [
        "df['Emotion'] = df['Emotion'].map(label_mapping)"
      ],
      "metadata": {
        "id": "4N1OQ37icw6c"
      },
      "execution_count": null,
      "outputs": []
    },
    {
      "cell_type": "code",
      "source": [
        "df['Emotion'].unique()"
      ],
      "metadata": {
        "colab": {
          "base_uri": "https://localhost:8080/"
        },
        "id": "Plj4Q7ErdB1U",
        "outputId": "a27b3eb1-574d-43fd-b817-ef7768145ce1"
      },
      "execution_count": null,
      "outputs": [
        {
          "output_type": "execute_result",
          "data": {
            "text/plain": [
              "array([2, 5, 4, 0, 3, 1])"
            ]
          },
          "metadata": {},
          "execution_count": 11
        }
      ]
    },
    {
      "cell_type": "code",
      "source": [
        "df[['Emotion', 'cleaned_text']]"
      ],
      "metadata": {
        "id": "aAMbfHtZYTAC",
        "outputId": "232976aa-3ed3-4706-f016-4070f6d0e35d",
        "colab": {
          "base_uri": "https://localhost:8080/",
          "height": 424
        }
      },
      "execution_count": null,
      "outputs": [
        {
          "output_type": "execute_result",
          "data": {
            "text/plain": [
              "       Emotion                                      cleaned_text\n",
              "0            2                                  10년도 넘었어 고등학교 동창\n",
              "1            2        10분마다 연락을 해 봤지 근데 아직도이 녀석 온다고 말하지 오지 않고 있어\n",
              "2            2           1년 채우고 그만두려고 했는데 아 지금 같아서는 진짜 회사 옮기고 싶다\n",
              "3            2                           1시간 기다렸나 봐 다리도 아프고 짜증 나\n",
              "4            2                                 1시간 기다렸는데 아직도 안 와\n",
              "...        ...                                               ...\n",
              "14377        1  힘들다 그만둬야 할까 어떻게 해야 될까 정말 고민이 많이 되는 거 같아 어떡하면 좋겠니\n",
              "14378        1                                           힘들다 힘들어\n",
              "14379        1                           힘들어 다른 회사 또 준비를 할 거야 나는\n",
              "14380        1                                   힘들어하고 나도 너무 힘들어\n",
              "14381        1                                     힘이 없네 나가기가 싫어\n",
              "\n",
              "[14382 rows x 2 columns]"
            ],
            "text/html": [
              "\n",
              "  <div id=\"df-7961002f-ab25-4fc9-b91a-224296992757\" class=\"colab-df-container\">\n",
              "    <div>\n",
              "<style scoped>\n",
              "    .dataframe tbody tr th:only-of-type {\n",
              "        vertical-align: middle;\n",
              "    }\n",
              "\n",
              "    .dataframe tbody tr th {\n",
              "        vertical-align: top;\n",
              "    }\n",
              "\n",
              "    .dataframe thead th {\n",
              "        text-align: right;\n",
              "    }\n",
              "</style>\n",
              "<table border=\"1\" class=\"dataframe\">\n",
              "  <thead>\n",
              "    <tr style=\"text-align: right;\">\n",
              "      <th></th>\n",
              "      <th>Emotion</th>\n",
              "      <th>cleaned_text</th>\n",
              "    </tr>\n",
              "  </thead>\n",
              "  <tbody>\n",
              "    <tr>\n",
              "      <th>0</th>\n",
              "      <td>2</td>\n",
              "      <td>10년도 넘었어 고등학교 동창</td>\n",
              "    </tr>\n",
              "    <tr>\n",
              "      <th>1</th>\n",
              "      <td>2</td>\n",
              "      <td>10분마다 연락을 해 봤지 근데 아직도이 녀석 온다고 말하지 오지 않고 있어</td>\n",
              "    </tr>\n",
              "    <tr>\n",
              "      <th>2</th>\n",
              "      <td>2</td>\n",
              "      <td>1년 채우고 그만두려고 했는데 아 지금 같아서는 진짜 회사 옮기고 싶다</td>\n",
              "    </tr>\n",
              "    <tr>\n",
              "      <th>3</th>\n",
              "      <td>2</td>\n",
              "      <td>1시간 기다렸나 봐 다리도 아프고 짜증 나</td>\n",
              "    </tr>\n",
              "    <tr>\n",
              "      <th>4</th>\n",
              "      <td>2</td>\n",
              "      <td>1시간 기다렸는데 아직도 안 와</td>\n",
              "    </tr>\n",
              "    <tr>\n",
              "      <th>...</th>\n",
              "      <td>...</td>\n",
              "      <td>...</td>\n",
              "    </tr>\n",
              "    <tr>\n",
              "      <th>14377</th>\n",
              "      <td>1</td>\n",
              "      <td>힘들다 그만둬야 할까 어떻게 해야 될까 정말 고민이 많이 되는 거 같아 어떡하면 좋겠니</td>\n",
              "    </tr>\n",
              "    <tr>\n",
              "      <th>14378</th>\n",
              "      <td>1</td>\n",
              "      <td>힘들다 힘들어</td>\n",
              "    </tr>\n",
              "    <tr>\n",
              "      <th>14379</th>\n",
              "      <td>1</td>\n",
              "      <td>힘들어 다른 회사 또 준비를 할 거야 나는</td>\n",
              "    </tr>\n",
              "    <tr>\n",
              "      <th>14380</th>\n",
              "      <td>1</td>\n",
              "      <td>힘들어하고 나도 너무 힘들어</td>\n",
              "    </tr>\n",
              "    <tr>\n",
              "      <th>14381</th>\n",
              "      <td>1</td>\n",
              "      <td>힘이 없네 나가기가 싫어</td>\n",
              "    </tr>\n",
              "  </tbody>\n",
              "</table>\n",
              "<p>14382 rows × 2 columns</p>\n",
              "</div>\n",
              "    <div class=\"colab-df-buttons\">\n",
              "\n",
              "  <div class=\"colab-df-container\">\n",
              "    <button class=\"colab-df-convert\" onclick=\"convertToInteractive('df-7961002f-ab25-4fc9-b91a-224296992757')\"\n",
              "            title=\"Convert this dataframe to an interactive table.\"\n",
              "            style=\"display:none;\">\n",
              "\n",
              "  <svg xmlns=\"http://www.w3.org/2000/svg\" height=\"24px\" viewBox=\"0 -960 960 960\">\n",
              "    <path d=\"M120-120v-720h720v720H120Zm60-500h600v-160H180v160Zm220 220h160v-160H400v160Zm0 220h160v-160H400v160ZM180-400h160v-160H180v160Zm440 0h160v-160H620v160ZM180-180h160v-160H180v160Zm440 0h160v-160H620v160Z\"/>\n",
              "  </svg>\n",
              "    </button>\n",
              "\n",
              "  <style>\n",
              "    .colab-df-container {\n",
              "      display:flex;\n",
              "      gap: 12px;\n",
              "    }\n",
              "\n",
              "    .colab-df-convert {\n",
              "      background-color: #E8F0FE;\n",
              "      border: none;\n",
              "      border-radius: 50%;\n",
              "      cursor: pointer;\n",
              "      display: none;\n",
              "      fill: #1967D2;\n",
              "      height: 32px;\n",
              "      padding: 0 0 0 0;\n",
              "      width: 32px;\n",
              "    }\n",
              "\n",
              "    .colab-df-convert:hover {\n",
              "      background-color: #E2EBFA;\n",
              "      box-shadow: 0px 1px 2px rgba(60, 64, 67, 0.3), 0px 1px 3px 1px rgba(60, 64, 67, 0.15);\n",
              "      fill: #174EA6;\n",
              "    }\n",
              "\n",
              "    .colab-df-buttons div {\n",
              "      margin-bottom: 4px;\n",
              "    }\n",
              "\n",
              "    [theme=dark] .colab-df-convert {\n",
              "      background-color: #3B4455;\n",
              "      fill: #D2E3FC;\n",
              "    }\n",
              "\n",
              "    [theme=dark] .colab-df-convert:hover {\n",
              "      background-color: #434B5C;\n",
              "      box-shadow: 0px 1px 3px 1px rgba(0, 0, 0, 0.15);\n",
              "      filter: drop-shadow(0px 1px 2px rgba(0, 0, 0, 0.3));\n",
              "      fill: #FFFFFF;\n",
              "    }\n",
              "  </style>\n",
              "\n",
              "    <script>\n",
              "      const buttonEl =\n",
              "        document.querySelector('#df-7961002f-ab25-4fc9-b91a-224296992757 button.colab-df-convert');\n",
              "      buttonEl.style.display =\n",
              "        google.colab.kernel.accessAllowed ? 'block' : 'none';\n",
              "\n",
              "      async function convertToInteractive(key) {\n",
              "        const element = document.querySelector('#df-7961002f-ab25-4fc9-b91a-224296992757');\n",
              "        const dataTable =\n",
              "          await google.colab.kernel.invokeFunction('convertToInteractive',\n",
              "                                                    [key], {});\n",
              "        if (!dataTable) return;\n",
              "\n",
              "        const docLinkHtml = 'Like what you see? Visit the ' +\n",
              "          '<a target=\"_blank\" href=https://colab.research.google.com/notebooks/data_table.ipynb>data table notebook</a>'\n",
              "          + ' to learn more about interactive tables.';\n",
              "        element.innerHTML = '';\n",
              "        dataTable['output_type'] = 'display_data';\n",
              "        await google.colab.output.renderOutput(dataTable, element);\n",
              "        const docLink = document.createElement('div');\n",
              "        docLink.innerHTML = docLinkHtml;\n",
              "        element.appendChild(docLink);\n",
              "      }\n",
              "    </script>\n",
              "  </div>\n",
              "\n",
              "\n",
              "<div id=\"df-5fe1a281-4fee-4edd-b338-141e966b15bc\">\n",
              "  <button class=\"colab-df-quickchart\" onclick=\"quickchart('df-5fe1a281-4fee-4edd-b338-141e966b15bc')\"\n",
              "            title=\"Suggest charts\"\n",
              "            style=\"display:none;\">\n",
              "\n",
              "<svg xmlns=\"http://www.w3.org/2000/svg\" height=\"24px\"viewBox=\"0 0 24 24\"\n",
              "     width=\"24px\">\n",
              "    <g>\n",
              "        <path d=\"M19 3H5c-1.1 0-2 .9-2 2v14c0 1.1.9 2 2 2h14c1.1 0 2-.9 2-2V5c0-1.1-.9-2-2-2zM9 17H7v-7h2v7zm4 0h-2V7h2v10zm4 0h-2v-4h2v4z\"/>\n",
              "    </g>\n",
              "</svg>\n",
              "  </button>\n",
              "\n",
              "<style>\n",
              "  .colab-df-quickchart {\n",
              "      --bg-color: #E8F0FE;\n",
              "      --fill-color: #1967D2;\n",
              "      --hover-bg-color: #E2EBFA;\n",
              "      --hover-fill-color: #174EA6;\n",
              "      --disabled-fill-color: #AAA;\n",
              "      --disabled-bg-color: #DDD;\n",
              "  }\n",
              "\n",
              "  [theme=dark] .colab-df-quickchart {\n",
              "      --bg-color: #3B4455;\n",
              "      --fill-color: #D2E3FC;\n",
              "      --hover-bg-color: #434B5C;\n",
              "      --hover-fill-color: #FFFFFF;\n",
              "      --disabled-bg-color: #3B4455;\n",
              "      --disabled-fill-color: #666;\n",
              "  }\n",
              "\n",
              "  .colab-df-quickchart {\n",
              "    background-color: var(--bg-color);\n",
              "    border: none;\n",
              "    border-radius: 50%;\n",
              "    cursor: pointer;\n",
              "    display: none;\n",
              "    fill: var(--fill-color);\n",
              "    height: 32px;\n",
              "    padding: 0;\n",
              "    width: 32px;\n",
              "  }\n",
              "\n",
              "  .colab-df-quickchart:hover {\n",
              "    background-color: var(--hover-bg-color);\n",
              "    box-shadow: 0 1px 2px rgba(60, 64, 67, 0.3), 0 1px 3px 1px rgba(60, 64, 67, 0.15);\n",
              "    fill: var(--button-hover-fill-color);\n",
              "  }\n",
              "\n",
              "  .colab-df-quickchart-complete:disabled,\n",
              "  .colab-df-quickchart-complete:disabled:hover {\n",
              "    background-color: var(--disabled-bg-color);\n",
              "    fill: var(--disabled-fill-color);\n",
              "    box-shadow: none;\n",
              "  }\n",
              "\n",
              "  .colab-df-spinner {\n",
              "    border: 2px solid var(--fill-color);\n",
              "    border-color: transparent;\n",
              "    border-bottom-color: var(--fill-color);\n",
              "    animation:\n",
              "      spin 1s steps(1) infinite;\n",
              "  }\n",
              "\n",
              "  @keyframes spin {\n",
              "    0% {\n",
              "      border-color: transparent;\n",
              "      border-bottom-color: var(--fill-color);\n",
              "      border-left-color: var(--fill-color);\n",
              "    }\n",
              "    20% {\n",
              "      border-color: transparent;\n",
              "      border-left-color: var(--fill-color);\n",
              "      border-top-color: var(--fill-color);\n",
              "    }\n",
              "    30% {\n",
              "      border-color: transparent;\n",
              "      border-left-color: var(--fill-color);\n",
              "      border-top-color: var(--fill-color);\n",
              "      border-right-color: var(--fill-color);\n",
              "    }\n",
              "    40% {\n",
              "      border-color: transparent;\n",
              "      border-right-color: var(--fill-color);\n",
              "      border-top-color: var(--fill-color);\n",
              "    }\n",
              "    60% {\n",
              "      border-color: transparent;\n",
              "      border-right-color: var(--fill-color);\n",
              "    }\n",
              "    80% {\n",
              "      border-color: transparent;\n",
              "      border-right-color: var(--fill-color);\n",
              "      border-bottom-color: var(--fill-color);\n",
              "    }\n",
              "    90% {\n",
              "      border-color: transparent;\n",
              "      border-bottom-color: var(--fill-color);\n",
              "    }\n",
              "  }\n",
              "</style>\n",
              "\n",
              "  <script>\n",
              "    async function quickchart(key) {\n",
              "      const quickchartButtonEl =\n",
              "        document.querySelector('#' + key + ' button');\n",
              "      quickchartButtonEl.disabled = true;  // To prevent multiple clicks.\n",
              "      quickchartButtonEl.classList.add('colab-df-spinner');\n",
              "      try {\n",
              "        const charts = await google.colab.kernel.invokeFunction(\n",
              "            'suggestCharts', [key], {});\n",
              "      } catch (error) {\n",
              "        console.error('Error during call to suggestCharts:', error);\n",
              "      }\n",
              "      quickchartButtonEl.classList.remove('colab-df-spinner');\n",
              "      quickchartButtonEl.classList.add('colab-df-quickchart-complete');\n",
              "    }\n",
              "    (() => {\n",
              "      let quickchartButtonEl =\n",
              "        document.querySelector('#df-5fe1a281-4fee-4edd-b338-141e966b15bc button');\n",
              "      quickchartButtonEl.style.display =\n",
              "        google.colab.kernel.accessAllowed ? 'block' : 'none';\n",
              "    })();\n",
              "  </script>\n",
              "</div>\n",
              "\n",
              "    </div>\n",
              "  </div>\n"
            ],
            "application/vnd.google.colaboratory.intrinsic+json": {
              "type": "dataframe",
              "summary": "{\n  \"name\": \"df[['Emotion', 'cleaned_text']]\",\n  \"rows\": 14382,\n  \"fields\": [\n    {\n      \"column\": \"Emotion\",\n      \"properties\": {\n        \"dtype\": \"number\",\n        \"std\": 1,\n        \"min\": 0,\n        \"max\": 5,\n        \"num_unique_values\": 6,\n        \"samples\": [\n          2,\n          5,\n          1\n        ],\n        \"semantic_type\": \"\",\n        \"description\": \"\"\n      }\n    },\n    {\n      \"column\": \"cleaned_text\",\n      \"properties\": {\n        \"dtype\": \"string\",\n        \"num_unique_values\": 13705,\n        \"samples\": [\n          \"\\ub2f9\\ucca8 \\uc120\\ubb3c\\uc774 \\ub0b4\\uac00 \\uac16\\uace0 \\uc2f6\\uc5c8\\ub358 \\uac70\\ub77c\\uc11c \\ub108\\ubb34 \\ub9c8\\uc74c\\uc5d0 \\ub4e4\\uc5b4\",\n          \"\\ub098 \\ud63c\\uc790 \\uc9d1\\uc5d0 \\uac07\\ud78c \\uac70 \\uac19\\uc544 \\ub108\\ubb34 \\ubb34\\uc11c\\uc6cc\",\n          \"\\uc6b8\\ub801\\uac70\\ub9ac\\uace0 \\uc18d\\uc774 \\uc88b\\uc9c0 \\uc54a\\uc740\\ub370 \\ub530\\ub73b\\ud55c \\ubb3c\\uc744 \\ub9c8\\uc154\\uc11c \\ub2ec\\ub798 \\ubd10\\uc57c\\uaca0\\uc5b4\"\n        ],\n        \"semantic_type\": \"\",\n        \"description\": \"\"\n      }\n    }\n  ]\n}"
            }
          },
          "metadata": {},
          "execution_count": 15
        }
      ]
    },
    {
      "cell_type": "code",
      "source": [
        "emotion_counts = df['Emotion'].value_counts()"
      ],
      "metadata": {
        "id": "C9MkYjuFZJFp"
      },
      "execution_count": null,
      "outputs": []
    },
    {
      "cell_type": "code",
      "source": [
        "plt.figure(figsize=(10, 6))\n",
        "plt.bar(emotion_counts.index, emotion_counts.values, color=['#D9D9D9'])  # 색상 직접 지정\n",
        "plt.title('Emotion Counts')\n",
        "plt.xlabel('Emotion')\n",
        "plt.ylabel('Count')\n",
        "plt.xticks(rotation=45)\n",
        "plt.show()"
      ],
      "metadata": {
        "id": "wnnBeV3pZWx5",
        "outputId": "30cdb0f9-6fdd-4ea4-981f-8192d144ea2b",
        "colab": {
          "base_uri": "https://localhost:8080/",
          "height": 566
        }
      },
      "execution_count": null,
      "outputs": [
        {
          "output_type": "display_data",
          "data": {
            "text/plain": [
              "<Figure size 1000x600 with 1 Axes>"
            ],
            "image/png": "[encoded data removed]"
          },
          "metadata": {}
        }
      ]
    },
    {
      "cell_type": "markdown",
      "source": [
        "# KoBERT"
      ],
      "metadata": {
        "id": "SJZ2lu80UA-d"
      }
    },
    {
      "cell_type": "code",
      "source": [
        "device = torch.device(\"cuda\" if torch.cuda.is_available() else \"cpu\")"
      ],
      "metadata": {
        "id": "BbCA2jS7dZN_"
      },
      "execution_count": null,
      "outputs": []
    },
    {
      "cell_type": "code",
      "source": [
        "class EmotionDataset(Dataset):\n",
        "    def __init__(self, dataframe, tokenizer, max_len):\n",
        "        self.data = dataframe\n",
        "        self.tokenizer = tokenizer\n",
        "        self.max_len = max_len\n",
        "\n",
        "    def __len__(self):\n",
        "        return len(self.data)\n",
        "\n",
        "    def __getitem__(self, index):\n",
        "        text = self.data.iloc[index][\"cleaned_text\"]\n",
        "        emotion = self.data.iloc[index][\"Emotion\"]\n",
        "\n",
        "        # KoBERT 토큰화\n",
        "        inputs = self.tokenizer.encode_plus(\n",
        "            text,\n",
        "            None,\n",
        "            add_special_tokens=True,\n",
        "            max_length=self.max_len,\n",
        "            padding='max_length',\n",
        "            return_token_type_ids=True,\n",
        "            truncation=True\n",
        "        )\n",
        "\n",
        "        input_ids = inputs['input_ids']\n",
        "        attention_mask = inputs['attention_mask']\n",
        "        token_type_ids = inputs[\"token_type_ids\"]\n",
        "\n",
        "        return {\n",
        "            'input_ids': torch.tensor(input_ids, dtype=torch.long),\n",
        "            'attention_mask': torch.tensor(attention_mask, dtype=torch.long),\n",
        "            'token_type_ids': torch.tensor(token_type_ids, dtype=torch.long),\n",
        "            'labels': torch.tensor(emotion, dtype=torch.long)  # 감정 레이블\n",
        "        }"
      ],
      "metadata": {
        "id": "birkEdEkc2M5"
      },
      "execution_count": null,
      "outputs": []
    },
    {
      "cell_type": "code",
      "source": [
        "class KoBERTEmotionClassifier(nn.Module):\n",
        "    def __init__(self, n_classes):\n",
        "        super(KoBERTEmotionClassifier, self).__init__()\n",
        "        self.bert = BertModel.from_pretrained('monologg/kobert')\n",
        "        self.drop = nn.Dropout(p=0.3)\n",
        "        self.out = nn.Linear(self.bert.config.hidden_size, n_classes)\n",
        "\n",
        "    def forward(self, input_ids, attention_mask, token_type_ids):\n",
        "        _, pooled_output = self.bert(\n",
        "            input_ids=input_ids,\n",
        "            attention_mask=attention_mask,\n",
        "            token_type_ids=token_type_ids,\n",
        "            return_dict=False\n",
        "        )\n",
        "        output = self.drop(pooled_output)\n",
        "        return self.out(output)"
      ],
      "metadata": {
        "id": "qWBE_37Gc3ey"
      },
      "execution_count": null,
      "outputs": []
    },
    {
      "cell_type": "code",
      "source": [
        "def train_epoch(model, data_loader, optimizer, device):\n",
        "    model = model.train()\n",
        "    total_loss = 0\n",
        "\n",
        "    for data in data_loader:\n",
        "        input_ids = data['input_ids'].to(device)\n",
        "        attention_mask = data['attention_mask'].to(device)\n",
        "        token_type_ids = data['token_type_ids'].to(device)\n",
        "        labels = data['labels'].to(device)\n",
        "\n",
        "        outputs = model(input_ids=input_ids, attention_mask=attention_mask, token_type_ids=token_type_ids)\n",
        "        loss = nn.CrossEntropyLoss()(outputs, labels)\n",
        "\n",
        "        optimizer.zero_grad()\n",
        "        loss.backward()\n",
        "        optimizer.step()\n",
        "\n",
        "        total_loss += loss.item()\n",
        "\n",
        "    return total_loss / len(data_loader)"
      ],
      "metadata": {
        "id": "AdNTmemFc6cf"
      },
      "execution_count": null,
      "outputs": []
    },
    {
      "cell_type": "code",
      "source": [
        "def eval_model(model, data_loader, device):\n",
        "    model = model.eval()\n",
        "    total_loss = 0\n",
        "    correct_predictions = 0\n",
        "\n",
        "    with torch.no_grad():\n",
        "        for data in data_loader:\n",
        "            input_ids = data['input_ids'].to(device)\n",
        "            attention_mask = data['attention_mask'].to(device)\n",
        "            token_type_ids = data['token_type_ids'].to(device)\n",
        "            labels = data['labels'].to(device)\n",
        "\n",
        "            outputs = model(input_ids=input_ids, attention_mask=attention_mask, token_type_ids=token_type_ids)\n",
        "            loss = nn.CrossEntropyLoss()(outputs, labels)\n",
        "\n",
        "            total_loss += loss.item()\n",
        "            _, preds = torch.max(outputs, dim=1)\n",
        "            correct_predictions += torch.sum(preds == labels)\n",
        "\n",
        "    return correct_predictions.double() / len(data_loader.dataset), total_loss / len(data_loader)"
      ],
      "metadata": {
        "id": "UDBEMXlqc8PU"
      },
      "execution_count": null,
      "outputs": []
    },
    {
      "cell_type": "code",
      "source": [
        "BATCH_SIZE = 16\n",
        "MAX_LEN = 64\n",
        "EPOCHS = 60\n",
        "N_CLASSES = len(set(df['Emotion']))"
      ],
      "metadata": {
        "id": "jrWcJSuIc9n_"
      },
      "execution_count": null,
      "outputs": []
    },
    {
      "cell_type": "code",
      "source": [
        "tokenizer = BertTokenizer.from_pretrained('monologg/kobert')"
      ],
      "metadata": {
        "colab": {
          "base_uri": "https://localhost:8080/",
          "height": 303,
          "referenced_widgets": [
            "7be0d1c58c164265afa7f87e2510628e",
            "144d71b13c1543f59c2fde78e6741907",
            "d5feef312b74411191292a1d0775bd2a",
            "1ad139f10525491bb51a70e4da21b254",
            "18a0e3f4ae65448ab7ac26d60ee7cc5b",
            "23e46b79d3504e929b71081d230c047b",
            "a23fb0c8f2bd461ca0c337577555a339",
            "f84719dd1f6d446996dcfa42a6d6bf00",
            "5f89844e15d043a5939fe03022dbf886",
            "e1cdb580381f4026a2609afbe2df4be5",
            "5f8c5ab68d78464eacd1f9d3a1507bb5",
            "c53cc887e9724861a7dcd04902408249",
            "57539d77f1334b639a9dd441832349e8",
            "d2ff699c0dde47709e33bd7d3d714d8c",
            "2367bd2f999949ffa207f24764680a0a",
            "1289452848a74b6b86f06e8f2db6287d",
            "7c05732ceecc4ead8c085c8e707380c6",
            "ff1068288af04665aef8fc9b7768ec87",
            "f16ef7c0e63c4a85a843039f74dc9ec9",
            "629f08a689ca4374992fef33738fcc7e",
            "f3fba94459e44a619c13db50456bc989",
            "7c378dc563284da4a43cee32f59c765c"
          ]
        },
        "id": "2u3Yo6HPdNm_",
        "outputId": "6b6e5980-6bd6-423a-d17a-462f7d66c778"
      },
      "execution_count": null,
      "outputs": [
        {
          "output_type": "stream",
          "name": "stderr",
          "text": [
            "/usr/local/lib/python3.10/dist-packages/huggingface_hub/utils/_token.py:89: UserWarning: \n",
            "The secret `HF_TOKEN` does not exist in your Colab secrets.\n",
            "To authenticate with the Hugging Face Hub, create a token in your settings tab (https://huggingface.co/settings/tokens), set it as secret in your Google Colab and restart your session.\n",
            "You will be able to reuse this secret in all of your notebooks.\n",
            "Please note that authentication is recommended but still optional to access public models or datasets.\n",
            "  warnings.warn(\n"
          ]
        },
        {
          "output_type": "display_data",
          "data": {
            "text/plain": [
              "tokenizer_config.json:   0%|          | 0.00/263 [00:00<?, ?B/s]"
            ],
            "application/vnd.jupyter.widget-view+json": {
              "version_major": 2,
              "version_minor": 0,
              "model_id": "7be0d1c58c164265afa7f87e2510628e"
            }
          },
          "metadata": {}
        },
        {
          "output_type": "display_data",
          "data": {
            "text/plain": [
              "vocab.txt:   0%|          | 0.00/77.8k [00:00<?, ?B/s]"
            ],
            "application/vnd.jupyter.widget-view+json": {
              "version_major": 2,
              "version_minor": 0,
              "model_id": "c53cc887e9724861a7dcd04902408249"
            }
          },
          "metadata": {}
        },
        {
          "output_type": "stream",
          "name": "stderr",
          "text": [
            "The tokenizer class you load from this checkpoint is not the same type as the class this function is called from. It may result in unexpected tokenization. \n",
            "The tokenizer class you load from this checkpoint is 'KoBertTokenizer'. \n",
            "The class this function is called from is 'BertTokenizer'.\n",
            "/usr/local/lib/python3.10/dist-packages/transformers/tokenization_utils_base.py:1601: FutureWarning: `clean_up_tokenization_spaces` was not set. It will be set to `True` by default. This behavior will be depracted in transformers v4.45, and will be then set to `False` by default. For more details check this issue: https://github.com/huggingface/transformers/issues/31884\n",
            "  warnings.warn(\n"
          ]
        }
      ]
    },
    {
      "cell_type": "code",
      "source": [
        "train_dataset = EmotionDataset(df, tokenizer, MAX_LEN)\n",
        "train_loader = DataLoader(train_dataset, batch_size=BATCH_SIZE, shuffle=True)"
      ],
      "metadata": {
        "id": "y1ExHigXdPvv"
      },
      "execution_count": null,
      "outputs": []
    },
    {
      "cell_type": "code",
      "source": [
        "model = KoBERTEmotionClassifier(n_classes=N_CLASSES).to(device)\n",
        "optimizer = AdamW(model.parameters(), lr=2e-5)"
      ],
      "metadata": {
        "id": "zYEyCeKLdROp",
        "outputId": "2dfefef2-03e4-4f70-8e40-bce09d8d20a5",
        "colab": {
          "base_uri": "https://localhost:8080/",
          "height": 81,
          "referenced_widgets": [
            "7e9448e1c78749bd90b3c80a51964e69",
            "36185488a0d54d4e95011297b3333fed",
            "15d21c8cafc541349e55ea3922f988f7",
            "b0154382f4ca4dc192dff7648596da09",
            "4fa8abe5175c41dcb6d8b867a2e198c5",
            "6c7e04a207904b888bd97e0f4c0b8b32",
            "e9f479eb191445d490504df0bccc1b8e",
            "85c13ef70b614c34a69176434e1724a8",
            "b98fb24462754b80a23182bb6ac7441e",
            "b2023f6ae37d4a16a528fc10d7d99af5",
            "5e863f07b3ce4533a389dacc9e9a6ec2",
            "f3c37930f9144e9b8b9eb13ef3f724d4",
            "65eeef5b9c384c58a4d83455c0e3bb50",
            "3f1c6d344bfe478caa4b7d0ffc2536b6",
            "453514f514514118b97eaf95dbc85282",
            "c264942e1a5a43dc82198b7f956d1022",
            "edbca758e29e4118874f309402bec9b7",
            "748c01bd18eb4b99a57ec68208c0b08e",
            "d8395ab138424470827c1f33092db829",
            "507464280d924c8c95d41ec54422d09d",
            "5e3f578f52304178919641db33b109ac",
            "90df20c4832841ec807ff75b74aaae04"
          ]
        }
      },
      "execution_count": null,
      "outputs": [
        {
          "output_type": "display_data",
          "data": {
            "text/plain": [
              "config.json:   0%|          | 0.00/426 [00:00<?, ?B/s]"
            ],
            "application/vnd.jupyter.widget-view+json": {
              "version_major": 2,
              "version_minor": 0,
              "model_id": "7e9448e1c78749bd90b3c80a51964e69"
            }
          },
          "metadata": {}
        },
        {
          "output_type": "display_data",
          "data": {
            "text/plain": [
              "model.safetensors:   0%|          | 0.00/369M [00:00<?, ?B/s]"
            ],
            "application/vnd.jupyter.widget-view+json": {
              "version_major": 2,
              "version_minor": 0,
              "model_id": "f3c37930f9144e9b8b9eb13ef3f724d4"
            }
          },
          "metadata": {}
        }
      ]
    },
    {
      "cell_type": "code",
      "source": [
        "for epoch in range(EPOCHS):\n",
        "    train_loss = train_epoch(model, train_loader, optimizer, device)\n",
        "    accuracy, val_loss = eval_model(model, train_loader, device)\n",
        "\n",
        "    print(f'Epoch {epoch + 1}/{EPOCHS}, Train Loss: {train_loss}, Validation Accuracy: {accuracy}, Validation Loss: {val_loss}')"
      ],
      "metadata": {
        "colab": {
          "base_uri": "https://localhost:8080/"
        },
        "id": "aXGiyq7RdUK1",
        "outputId": "d268fd89-ce6e-44c1-92c1-95e2f07065c2"
      },
      "execution_count": null,
      "outputs": [
        {
          "output_type": "stream",
          "name": "stdout",
          "text": [
            "Epoch 1/60, Train Loss: 1.7779000136955694, Validation Accuracy: 0.29224030037546933, Validation Loss: 1.7129418775687892\n",
            "Epoch 2/60, Train Loss: 1.6148643595755963, Validation Accuracy: 0.4196217494089834, Validation Loss: 1.4526036878316368\n",
            "Epoch 3/60, Train Loss: 1.4521524291547705, Validation Accuracy: 0.49408983451536637, Validation Loss: 1.31450470443297\n",
            "Epoch 4/60, Train Loss: 1.361948160560298, Validation Accuracy: 0.5250312891113892, Validation Loss: 1.2306252513764564\n",
            "Epoch 5/60, Train Loss: 1.2887644963349332, Validation Accuracy: 0.5561118064246975, Validation Loss: 1.153009749758363\n",
            "Epoch 6/60, Train Loss: 1.2199441680521006, Validation Accuracy: 0.5806563760255875, Validation Loss: 1.0888384686030854\n",
            "Epoch 7/60, Train Loss: 1.157713391326028, Validation Accuracy: 0.6063829787234042, Validation Loss: 1.0271345071652045\n",
            "Epoch 8/60, Train Loss: 1.097670352399283, Validation Accuracy: 0.6238353497427339, Validation Loss: 0.9590231328705394\n",
            "Epoch 9/60, Train Loss: 1.0517299002548213, Validation Accuracy: 0.6433736615213461, Validation Loss: 0.9140718395306882\n",
            "Epoch 10/60, Train Loss: 0.999921321902047, Validation Accuracy: 0.6565846196634681, Validation Loss: 0.8645424757969128\n",
            "Epoch 11/60, Train Loss: 0.958269714231751, Validation Accuracy: 0.6716033931303017, Validation Loss: 0.8278050015580004\n",
            "Epoch 12/60, Train Loss: 0.9227078394908396, Validation Accuracy: 0.6713252676957308, Validation Loss: 0.8285242099153319\n",
            "Epoch 13/60, Train Loss: 0.8949006522888602, Validation Accuracy: 0.694965929634265, Validation Loss: 0.7723748646469349\n",
            "Epoch 14/60, Train Loss: 0.8688942394877169, Validation Accuracy: 0.6962174940898345, Validation Loss: 0.7648024451613293\n",
            "Epoch 15/60, Train Loss: 0.8465807483147195, Validation Accuracy: 0.6918370184953413, Validation Loss: 0.7723021718763536\n",
            "Epoch 16/60, Train Loss: 0.826026899895493, Validation Accuracy: 0.7046307884856069, Validation Loss: 0.7225407949743069\n",
            "Epoch 17/60, Train Loss: 0.8109879709357547, Validation Accuracy: 0.7092198581560283, Validation Loss: 0.7219802052346167\n",
            "Epoch 18/60, Train Loss: 0.8011998923887003, Validation Accuracy: 0.7121401752190237, Validation Loss: 0.7077762544055669\n",
            "Epoch 19/60, Train Loss: 0.780225014345134, Validation Accuracy: 0.7157558058684466, Validation Loss: 0.693340911715394\n",
            "Epoch 20/60, Train Loss: 0.764255422887468, Validation Accuracy: 0.719788624669726, Validation Loss: 0.6770893157821344\n",
            "Epoch 21/60, Train Loss: 0.7573703059448018, Validation Accuracy: 0.7182589347795856, Validation Loss: 0.6835857628284228\n",
            "Epoch 22/60, Train Loss: 0.7485991531570708, Validation Accuracy: 0.7231261298845779, Validation Loss: 0.6751053525224013\n",
            "Epoch 23/60, Train Loss: 0.7382189104948876, Validation Accuracy: 0.7249339452092893, Validation Loss: 0.6618956448603525\n",
            "Epoch 24/60, Train Loss: 0.734704468676922, Validation Accuracy: 0.7263941037407871, Validation Loss: 0.6590991512322187\n",
            "Epoch 25/60, Train Loss: 0.7278707829346514, Validation Accuracy: 0.7266026978167153, Validation Loss: 0.65441128886714\n",
            "Epoch 26/60, Train Loss: 0.7124879808228326, Validation Accuracy: 0.7168683076067306, Validation Loss: 0.6662753263656237\n",
            "Epoch 27/60, Train Loss: 0.7114642180742756, Validation Accuracy: 0.7305659852593519, Validation Loss: 0.6413358414547727\n",
            "Epoch 28/60, Train Loss: 0.7159285813536872, Validation Accuracy: 0.7290362953692114, Validation Loss: 0.6406157981434442\n",
            "Epoch 29/60, Train Loss: 0.7008887705733965, Validation Accuracy: 0.7297316089556389, Validation Loss: 0.644365413510163\n",
            "Epoch 30/60, Train Loss: 0.6897602082873479, Validation Accuracy: 0.7312612988457794, Validation Loss: 0.6367270550022401\n",
            "Epoch 31/60, Train Loss: 0.693498741043887, Validation Accuracy: 0.7319566124322069, Validation Loss: 0.6361191656950186\n",
            "Epoch 32/60, Train Loss: 0.686384829053359, Validation Accuracy: 0.7237519121123627, Validation Loss: 0.6382938779484443\n",
            "Epoch 33/60, Train Loss: 0.6819264132102684, Validation Accuracy: 0.7325128633013488, Validation Loss: 0.6353832214855246\n",
            "Epoch 34/60, Train Loss: 0.6762442709971322, Validation Accuracy: 0.735502711722987, Validation Loss: 0.6156750230970186\n",
            "Epoch 35/60, Train Loss: 0.6677939483234959, Validation Accuracy: 0.7364066193853427, Validation Loss: 0.6226727396531551\n",
            "Epoch 36/60, Train Loss: 0.6740003983688037, Validation Accuracy: 0.7345292727019885, Validation Loss: 0.6160736074785104\n",
            "Epoch 37/60, Train Loss: 0.6735739667668889, Validation Accuracy: 0.7363370880267, Validation Loss: 0.613801336842066\n",
            "Epoch 38/60, Train Loss: 0.671546714570999, Validation Accuracy: 0.7364761507439854, Validation Loss: 0.6058882042367811\n",
            "Epoch 39/60, Train Loss: 0.6575827309996454, Validation Accuracy: 0.7381449033514115, Validation Loss: 0.6069092363516931\n",
            "Epoch 40/60, Train Loss: 0.65778978807112, Validation Accuracy: 0.7380058406341259, Validation Loss: 0.6049388086483363\n",
            "Epoch 41/60, Train Loss: 0.6526765745377646, Validation Accuracy: 0.7371714643304129, Validation Loss: 0.6080548891360489\n",
            "Epoch 42/60, Train Loss: 0.6574736217801377, Validation Accuracy: 0.7389097482964817, Validation Loss: 0.6065973204801955\n",
            "Epoch 43/60, Train Loss: 0.6556488364537115, Validation Accuracy: 0.7366847448199138, Validation Loss: 0.599128246286654\n",
            "Epoch 44/60, Train Loss: 0.6496287032535032, Validation Accuracy: 0.7354331803643442, Validation Loss: 0.6055566969268579\n",
            "Epoch 45/60, Train Loss: 0.6494215827215633, Validation Accuracy: 0.7401613127520511, Validation Loss: 0.5969626226185825\n",
            "Epoch 46/60, Train Loss: 0.6446992680513288, Validation Accuracy: 0.7378667779168404, Validation Loss: 0.6013325284897154\n",
            "Epoch 47/60, Train Loss: 0.6481768463026563, Validation Accuracy: 0.7398831873174802, Validation Loss: 0.5929854171965955\n",
            "Epoch 48/60, Train Loss: 0.6410206845972907, Validation Accuracy: 0.738283966068697, Validation Loss: 0.5973887046233433\n",
            "Epoch 49/60, Train Loss: 0.6381141245779525, Validation Accuracy: 0.7380058406341259, Validation Loss: 0.5975456957739506\n",
            "Epoch 50/60, Train Loss: 0.6374455346281457, Validation Accuracy: 0.7372409956890557, Validation Loss: 0.6062036788171868\n",
            "Epoch 51/60, Train Loss: 0.64456131018375, Validation Accuracy: 0.736058962592129, Validation Loss: 0.5999036794979005\n",
            "Epoch 52/60, Train Loss: 0.6390079799977373, Validation Accuracy: 0.7372409956890557, Validation Loss: 0.5954287388673812\n",
            "Epoch 53/60, Train Loss: 0.632087666180826, Validation Accuracy: 0.738283966068697, Validation Loss: 0.5982706279610931\n",
            "Epoch 54/60, Train Loss: 0.628835243165692, Validation Accuracy: 0.7369628702544847, Validation Loss: 0.597726374868722\n",
            "Epoch 55/60, Train Loss: 0.6324442869033644, Validation Accuracy: 0.7388402169378389, Validation Loss: 0.5948333919910223\n",
            "Epoch 56/60, Train Loss: 0.6344312964394705, Validation Accuracy: 0.7377277151995549, Validation Loss: 0.6005003930414479\n",
            "Epoch 57/60, Train Loss: 0.631870610413615, Validation Accuracy: 0.7392574050896954, Validation Loss: 0.5955125229418675\n",
            "Epoch 58/60, Train Loss: 0.6230491029059264, Validation Accuracy: 0.7381449033514115, Validation Loss: 0.5914021963359802\n",
            "Epoch 59/60, Train Loss: 0.6258093700293572, Validation Accuracy: 0.7392574050896954, Validation Loss: 0.5909152624919364\n",
            "Epoch 60/60, Train Loss: 0.6342233100924661, Validation Accuracy: 0.7416214712835488, Validation Loss: 0.5891208736613409\n"
          ]
        }
      ]
    },
    {
      "cell_type": "code",
      "source": [
        "final_accuracy, final_loss = eval_model(model, train_loader, device)\n",
        "print(f\"Final Accuracy: {final_accuracy}, Final Loss: {final_loss}\")"
      ],
      "metadata": {
        "colab": {
          "base_uri": "https://localhost:8080/"
        },
        "id": "eLalPmIZdf1K",
        "outputId": "e5bcd842-91d4-4a59-dc67-dadc31352109"
      },
      "execution_count": null,
      "outputs": [
        {
          "output_type": "stream",
          "name": "stdout",
          "text": [
            "Final Accuracy: 0.7416214712835488, Final Loss: 0.5891581357231942\n"
          ]
        }
      ]
    },
    {
      "cell_type": "code",
      "source": [
        "model_save_path = \"/content/drive/MyDrive/saved_kobert_emotion_model.pth\"\n",
        "tokenizer_save_path = \"/content/drive/MyDrive/saved_tokenizer\""
      ],
      "metadata": {
        "id": "QgAUDIkdFy0K"
      },
      "execution_count": null,
      "outputs": []
    },
    {
      "cell_type": "code",
      "source": [
        "torch.save(model.state_dict(), model_save_path)"
      ],
      "metadata": {
        "id": "w5mDoVxXF-IQ"
      },
      "execution_count": null,
      "outputs": []
    },
    {
      "cell_type": "code",
      "source": [
        "tokenizer.save_pretrained(tokenizer_save_path)\n",
        "print(f\"모델이 {model_save_path}에 저장되었습니다.\")\n",
        "print(f\"토크나이저가 {tokenizer_save_path}에 저장되었습니다.\")"
      ],
      "metadata": {
        "id": "0F07r4xFF_rg",
        "outputId": "e26fca3a-fea8-43b9-d83d-b113569fc401",
        "colab": {
          "base_uri": "https://localhost:8080/"
        }
      },
      "execution_count": null,
      "outputs": [
        {
          "output_type": "stream",
          "name": "stdout",
          "text": [
            "모델이 /content/drive/MyDrive/saved_kobert_emotion_model.pth에 저장되었습니다.\n",
            "토크나이저가 /content/drive/MyDrive/saved_tokenizer에 저장되었습니다.\n"
          ]
        }
      ]
    },
    {
      "cell_type": "markdown",
      "source": [
        "# SVM, Logistic Regression, Random Forest"
      ],
      "metadata": {
        "id": "Df6yovYVZY_X"
      }
    },
    {
      "cell_type": "code",
      "source": [
        "X = df['cleaned_text']\n",
        "y = df['Emotion']"
      ],
      "metadata": {
        "id": "V0fwwuQ7153K"
      },
      "execution_count": null,
      "outputs": []
    },
    {
      "cell_type": "code",
      "source": [
        "vectorizer = TfidfVectorizer()\n",
        "X_tfidf = vectorizer.fit_transform(X)"
      ],
      "metadata": {
        "id": "iaSm0vYU19tj"
      },
      "execution_count": null,
      "outputs": []
    },
    {
      "cell_type": "code",
      "source": [
        "X_train, X_test, y_train, y_test = train_test_split(X_tfidf, y, test_size=0.2, random_state=42)"
      ],
      "metadata": {
        "id": "WZrUiVmR1_Xu"
      },
      "execution_count": null,
      "outputs": []
    },
    {
      "cell_type": "code",
      "source": [
        "svm_model = SVC()\n",
        "svm_model.fit(X_train, y_train)\n",
        "svm_pred = svm_model.predict(X_test)\n",
        "svm_accuracy = accuracy_score(y_test, svm_pred)\n",
        "print(f\"SVM Accuracy: {svm_accuracy}\")"
      ],
      "metadata": {
        "id": "JdJF-wJv2Bo-",
        "outputId": "348ed0a4-f6b0-43a3-804f-271b86020fea",
        "colab": {
          "base_uri": "https://localhost:8080/"
        }
      },
      "execution_count": null,
      "outputs": [
        {
          "output_type": "stream",
          "name": "stdout",
          "text": [
            "SVM Accuracy: 0.721584984358707\n"
          ]
        }
      ]
    },
    {
      "cell_type": "code",
      "source": [
        "rf_model = RandomForestClassifier()\n",
        "rf_model.fit(X_train, y_train)\n",
        "rf_pred = rf_model.predict(X_test)\n",
        "rf_accuracy = accuracy_score(y_test, rf_pred)\n",
        "print(f\"Random Forest Accuracy: {rf_accuracy}\")"
      ],
      "metadata": {
        "id": "rtqLOSWK2Dmn",
        "outputId": "282e849a-ecba-4e5f-e9e0-a6b04ceda4a0",
        "colab": {
          "base_uri": "https://localhost:8080/"
        }
      },
      "execution_count": null,
      "outputs": [
        {
          "output_type": "stream",
          "name": "stdout",
          "text": [
            "Random Forest Accuracy: 0.6854362182829337\n"
          ]
        }
      ]
    },
    {
      "cell_type": "code",
      "source": [
        "lr_model = LogisticRegression(max_iter=1000)\n",
        "lr_model.fit(X_train, y_train)\n",
        "lr_pred = lr_model.predict(X_test)\n",
        "lr_accuracy = accuracy_score(y_test, lr_pred)\n",
        "print(f\"Logistic Regression Accuracy: {lr_accuracy}\")"
      ],
      "metadata": {
        "id": "Q05QJLHz2HCu",
        "outputId": "65589468-2c54-44ae-8f58-07431129b5d0",
        "colab": {
          "base_uri": "https://localhost:8080/"
        }
      },
      "execution_count": null,
      "outputs": [
        {
          "output_type": "stream",
          "name": "stdout",
          "text": [
            "Logistic Regression Accuracy: 0.7167188043100452\n"
          ]
        }
      ]
    }
  ]
}