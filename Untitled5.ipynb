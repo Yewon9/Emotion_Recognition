{
  "nbformat": 4,
  "nbformat_minor": 0,
  "metadata": {
    "colab": {
      "provenance": [],
      "machine_shape": "hm",
      "gpuType": "A100",
      "authorship_tag": "ABX9TyNpb5PitYQyvG1roe0dH5iq",
      "include_colab_link": true
    },
    "kernelspec": {
      "name": "python3",
      "display_name": "Python 3"
    },
    "language_info": {
      "name": "python"
    },
    "accelerator": "GPU"
  },
  "cells": [
    {
      "cell_type": "markdown",
      "metadata": {
        "id": "view-in-github",
        "colab_type": "text"
      },
      "source": [
        "<a href=\"https://colab.research.google.com/github/Yewon9/Emotion_Recognition/blob/main/Untitled5.ipynb\" target=\"_parent\"><img src=\"https://colab.research.google.com/assets/colab-badge.svg\" alt=\"Open In Colab\"/></a>"
      ]
    },
    {
      "cell_type": "code",
      "source": [
        "from google.colab import drive\n",
        "drive.mount('/content/drive')"
      ],
      "metadata": {
        "colab": {
          "base_uri": "https://localhost:8080/"
        },
        "id": "33n-HvvwDZX2",
        "outputId": "ab3a7dc3-ece2-4a2f-fcfc-06dc8abde328"
      },
      "execution_count": 1,
      "outputs": [
        {
          "output_type": "stream",
          "name": "stdout",
          "text": [
            "Mounted at /content/drive\n"
          ]
        }
      ]
    },
    {
      "cell_type": "code",
      "source": [
        "!pip install SpeechRecognition"
      ],
      "metadata": {
        "colab": {
          "base_uri": "https://localhost:8080/"
        },
        "id": "WxqhC2oNDqir",
        "outputId": "0fb56027-ad7f-4485-ffee-1c7a70fd3113"
      },
      "execution_count": 3,
      "outputs": [
        {
          "output_type": "stream",
          "name": "stdout",
          "text": [
            "Collecting SpeechRecognition\n",
            "  Downloading SpeechRecognition-3.11.0-py2.py3-none-any.whl.metadata (28 kB)\n",
            "Requirement already satisfied: requests>=2.26.0 in /usr/local/lib/python3.10/dist-packages (from SpeechRecognition) (2.32.3)\n",
            "Requirement already satisfied: typing-extensions in /usr/local/lib/python3.10/dist-packages (from SpeechRecognition) (4.12.2)\n",
            "Requirement already satisfied: charset-normalizer<4,>=2 in /usr/local/lib/python3.10/dist-packages (from requests>=2.26.0->SpeechRecognition) (3.4.0)\n",
            "Requirement already satisfied: idna<4,>=2.5 in /usr/local/lib/python3.10/dist-packages (from requests>=2.26.0->SpeechRecognition) (3.10)\n",
            "Requirement already satisfied: urllib3<3,>=1.21.1 in /usr/local/lib/python3.10/dist-packages (from requests>=2.26.0->SpeechRecognition) (2.2.3)\n",
            "Requirement already satisfied: certifi>=2017.4.17 in /usr/local/lib/python3.10/dist-packages (from requests>=2.26.0->SpeechRecognition) (2024.8.30)\n",
            "Downloading SpeechRecognition-3.11.0-py2.py3-none-any.whl (32.8 MB)\n",
            "\u001b[2K   \u001b[90m━━━━━━━━━━━━━━━━━━━━━━━━━━━━━━━━━━━━━━━━\u001b[0m \u001b[32m32.8/32.8 MB\u001b[0m \u001b[31m66.4 MB/s\u001b[0m eta \u001b[36m0:00:00\u001b[0m\n",
            "\u001b[?25hInstalling collected packages: SpeechRecognition\n",
            "Successfully installed SpeechRecognition-3.11.0\n"
          ]
        }
      ]
    },
    {
      "cell_type": "code",
      "execution_count": 4,
      "metadata": {
        "id": "xQ2mtKG4DXME"
      },
      "outputs": [],
      "source": [
        "import pickle\n",
        "import speech_recognition as sr"
      ]
    },
    {
      "cell_type": "code",
      "source": [
        "with open(\"svm_model.pkl\", \"rb\") as f:\n",
        "    svm_model = pickle.load(f)\n",
        "with open(\"tfidf_vectorizer.pkl\", \"rb\") as f:\n",
        "    vectorizer = pickle.load(f)"
      ],
      "metadata": {
        "id": "bJ8zK0aaDeHD"
      },
      "execution_count": 6,
      "outputs": []
    },
    {
      "cell_type": "code",
      "source": [
        "def transcribe_audio_to_text(audio_file):\n",
        "    recognizer = sr.Recognizer()\n",
        "    with sr.AudioFile(audio_file) as source:\n",
        "        audio_data = recognizer.record(source)\n",
        "    try:\n",
        "        text = recognizer.recognize_google(audio_data, language=\"ko-KR\")\n",
        "        return text\n",
        "    except sr.UnknownValueError:\n",
        "        return \"STT 실패: 음성을 인식할 수 없습니다.\"\n",
        "    except sr.RequestError as e:\n",
        "        return f\"STT 실패: {e}\""
      ],
      "metadata": {
        "id": "MOLMC72dDjJM"
      },
      "execution_count": 7,
      "outputs": []
    },
    {
      "cell_type": "code",
      "source": [
        "def analyze_sentiment_svm(text):\n",
        "    # 텍스트를 TF-IDF 벡터로 변환\n",
        "    text_vectorized = vectorizer.transform([text])\n",
        "    # 감정 예측\n",
        "    predicted_class = svm_model.predict(text_vectorized)[0]\n",
        "\n",
        "    # 감정 레이블 매핑\n",
        "    label_map = {0: \"행복\", 1: \"슬픔\", 2: \"분노\", 3: \"중립\", 4: \"두려움\", 5: \"혐오\"}  # 사용자 정의 레이블로 변경\n",
        "    return label_map.get(predicted_class, \"알 수 없는 감정\")"
      ],
      "metadata": {
        "id": "kVXfT4ftDk7M"
      },
      "execution_count": 8,
      "outputs": []
    },
    {
      "cell_type": "code",
      "source": [
        "def stt_and_sentiment_analysis(audio_file):\n",
        "    # STT 수행\n",
        "    text = transcribe_audio_to_text(audio_file)\n",
        "\n",
        "    # STT 실패 시 메시지 출력\n",
        "    if \"STT 실패\" in text:\n",
        "        return text\n",
        "\n",
        "    # 감정 분석 수행\n",
        "    sentiment = analyze_sentiment_svm(text)\n",
        "\n",
        "    # 결과 출력\n",
        "    print(f\"STT 결과 텍스트: {text}\")\n",
        "    print(f\"감정 분석 결과: {sentiment}\")"
      ],
      "metadata": {
        "id": "K7ZkI1FqDnZ6"
      },
      "execution_count": 9,
      "outputs": []
    },
    {
      "cell_type": "code",
      "source": [
        "audio_file_path = \"/content/5ebe91ba8849ac3aacea583b.wav\"  # 음성 파일 경로\n",
        "stt_and_sentiment_analysis(audio_file_path)"
      ],
      "metadata": {
        "colab": {
          "base_uri": "https://localhost:8080/"
        },
        "id": "SpLwDsdrDoh8",
        "outputId": "8cb83dd2-83c2-488a-f878-33f1f51f546a"
      },
      "execution_count": 10,
      "outputs": [
        {
          "output_type": "stream",
          "name": "stdout",
          "text": [
            "STT 결과 텍스트: 나도 내일부터 아침 저녁으로 조깅 좀 할까 하고\n",
            "감정 분석 결과: 중립\n"
          ]
        }
      ]
    },
    {
      "cell_type": "code",
      "source": [
        "audio_file_path = \"/content/5ebe9117f2fe7a3b1d54522e.wav\"  # 음성 파일 경로\n",
        "stt_and_sentiment_analysis(audio_file_path)"
      ],
      "metadata": {
        "colab": {
          "base_uri": "https://localhost:8080/"
        },
        "id": "Qa3NGu6fEhd1",
        "outputId": "7aca7c05-0d9b-4817-94c7-3d948036ea71"
      },
      "execution_count": 11,
      "outputs": [
        {
          "output_type": "stream",
          "name": "stdout",
          "text": [
            "STT 결과 텍스트: 가족들도 아파트 대출금 갚느라고 다들 힘들어 하셔 말을 해 볼 수가 없어\n",
            "감정 분석 결과: 슬픔\n"
          ]
        }
      ]
    },
    {
      "cell_type": "code",
      "source": [],
      "metadata": {
        "id": "GyGz2TlKEmP3"
      },
      "execution_count": null,
      "outputs": []
    }
  ]
}