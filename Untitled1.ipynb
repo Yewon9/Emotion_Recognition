{
  "nbformat": 4,
  "nbformat_minor": 0,
  "metadata": {
    "colab": {
      "provenance": [],
      "machine_shape": "hm",
      "gpuType": "A100",
      "authorship_tag": "ABX9TyMEcVSpk6yjuLBrkl5c98yq",
      "include_colab_link": true
    },
    "kernelspec": {
      "name": "python3",
      "display_name": "Python 3"
    },
    "language_info": {
      "name": "python"
    },
    "accelerator": "GPU"
  },
  "cells": [
    {
      "cell_type": "markdown",
      "metadata": {
        "id": "view-in-github",
        "colab_type": "text"
      },
      "source": [
        "<a href=\"https://colab.research.google.com/github/Yewon9/Emotion_Recognition/blob/main/Untitled1.ipynb\" target=\"_parent\"><img src=\"https://colab.research.google.com/assets/colab-badge.svg\" alt=\"Open In Colab\"/></a>"
      ]
    },
    {
      "cell_type": "code",
      "execution_count": 1,
      "metadata": {
        "colab": {
          "base_uri": "https://localhost:8080/"
        },
        "id": "MdvjTq8tAAGb",
        "outputId": "eb234bbe-1f32-4f43-b15b-06b0747274c2"
      },
      "outputs": [
        {
          "output_type": "stream",
          "name": "stdout",
          "text": [
            "Mounted at /content/drive\n"
          ]
        }
      ],
      "source": [
        "from google.colab import drive\n",
        "drive.mount('/content/drive')"
      ]
    },
    {
      "cell_type": "code",
      "source": [
        "!pip install transformers sentencepiece torch"
      ],
      "metadata": {
        "colab": {
          "base_uri": "https://localhost:8080/"
        },
        "id": "YLdider2AWq-",
        "outputId": "954eff29-d7c2-4f5e-bbaa-3d6b4c58101a"
      },
      "execution_count": 2,
      "outputs": [
        {
          "output_type": "stream",
          "name": "stdout",
          "text": [
            "Requirement already satisfied: transformers in /usr/local/lib/python3.10/dist-packages (4.44.2)\n",
            "Requirement already satisfied: sentencepiece in /usr/local/lib/python3.10/dist-packages (0.2.0)\n",
            "Requirement already satisfied: torch in /usr/local/lib/python3.10/dist-packages (2.5.0+cu121)\n",
            "Requirement already satisfied: filelock in /usr/local/lib/python3.10/dist-packages (from transformers) (3.16.1)\n",
            "Requirement already satisfied: huggingface-hub<1.0,>=0.23.2 in /usr/local/lib/python3.10/dist-packages (from transformers) (0.24.7)\n",
            "Requirement already satisfied: numpy>=1.17 in /usr/local/lib/python3.10/dist-packages (from transformers) (1.26.4)\n",
            "Requirement already satisfied: packaging>=20.0 in /usr/local/lib/python3.10/dist-packages (from transformers) (24.1)\n",
            "Requirement already satisfied: pyyaml>=5.1 in /usr/local/lib/python3.10/dist-packages (from transformers) (6.0.2)\n",
            "Requirement already satisfied: regex!=2019.12.17 in /usr/local/lib/python3.10/dist-packages (from transformers) (2024.9.11)\n",
            "Requirement already satisfied: requests in /usr/local/lib/python3.10/dist-packages (from transformers) (2.32.3)\n",
            "Requirement already satisfied: safetensors>=0.4.1 in /usr/local/lib/python3.10/dist-packages (from transformers) (0.4.5)\n",
            "Requirement already satisfied: tokenizers<0.20,>=0.19 in /usr/local/lib/python3.10/dist-packages (from transformers) (0.19.1)\n",
            "Requirement already satisfied: tqdm>=4.27 in /usr/local/lib/python3.10/dist-packages (from transformers) (4.66.5)\n",
            "Requirement already satisfied: typing-extensions>=4.8.0 in /usr/local/lib/python3.10/dist-packages (from torch) (4.12.2)\n",
            "Requirement already satisfied: networkx in /usr/local/lib/python3.10/dist-packages (from torch) (3.4.2)\n",
            "Requirement already satisfied: jinja2 in /usr/local/lib/python3.10/dist-packages (from torch) (3.1.4)\n",
            "Requirement already satisfied: fsspec in /usr/local/lib/python3.10/dist-packages (from torch) (2024.6.1)\n",
            "Requirement already satisfied: sympy==1.13.1 in /usr/local/lib/python3.10/dist-packages (from torch) (1.13.1)\n",
            "Requirement already satisfied: mpmath<1.4,>=1.1.0 in /usr/local/lib/python3.10/dist-packages (from sympy==1.13.1->torch) (1.3.0)\n",
            "Requirement already satisfied: MarkupSafe>=2.0 in /usr/local/lib/python3.10/dist-packages (from jinja2->torch) (3.0.2)\n",
            "Requirement already satisfied: charset-normalizer<4,>=2 in /usr/local/lib/python3.10/dist-packages (from requests->transformers) (3.4.0)\n",
            "Requirement already satisfied: idna<4,>=2.5 in /usr/local/lib/python3.10/dist-packages (from requests->transformers) (3.10)\n",
            "Requirement already satisfied: urllib3<3,>=1.21.1 in /usr/local/lib/python3.10/dist-packages (from requests->transformers) (2.2.3)\n",
            "Requirement already satisfied: certifi>=2017.4.17 in /usr/local/lib/python3.10/dist-packages (from requests->transformers) (2024.8.30)\n"
          ]
        }
      ]
    },
    {
      "cell_type": "code",
      "source": [
        "import pandas as pd\n",
        "import torch\n",
        "from torch import nn\n",
        "from torch.utils.data import Dataset, DataLoader\n",
        "from transformers import BertTokenizer, BertModel, AdamW"
      ],
      "metadata": {
        "id": "6mBTkwWeARnP"
      },
      "execution_count": 48,
      "outputs": []
    },
    {
      "cell_type": "code",
      "source": [
        "device = torch.device(\"cuda\" if torch.cuda.is_available() else \"cpu\")"
      ],
      "metadata": {
        "id": "Zlix_rfrAZt6"
      },
      "execution_count": 5,
      "outputs": []
    },
    {
      "cell_type": "code",
      "source": [
        "df = pd.read_csv('emotion_tokenized_data.csv')\n",
        "df"
      ],
      "metadata": {
        "colab": {
          "base_uri": "https://localhost:8080/",
          "height": 580
        },
        "id": "X7XRA-veAGLn",
        "outputId": "538d49ad-b59f-40e1-ebda-b6af0abe0776"
      },
      "execution_count": 19,
      "outputs": [
        {
          "output_type": "execute_result",
          "data": {
            "text/plain": [
              "        Emotion                                               Path  \\\n",
              "0         angry  /content/drive/MyDrive/project/data_aihub/4/5e...   \n",
              "1           sad  /content/drive/MyDrive/project/data_aihub/4/5e...   \n",
              "2           sad  /content/drive/MyDrive/project/data_aihub/5/5e...   \n",
              "3           sad  /content/drive/MyDrive/project/data_aihub/4/5e...   \n",
              "4           sad  /content/drive/MyDrive/project/data_aihub/4/5e...   \n",
              "...         ...                                                ...   \n",
              "16551  surprise  /content/drive/MyDrive/project/data_aihub/5_2/...   \n",
              "16552  surprise  /content/drive/MyDrive/project/data_aihub/5_2/...   \n",
              "16553  surprise  /content/drive/MyDrive/project/data_aihub/4/5e...   \n",
              "16554  surprise  /content/drive/MyDrive/project/data_aihub/5_2/...   \n",
              "16555  surprise  /content/drive/MyDrive/project/data_aihub/5_2/...   \n",
              "\n",
              "                                             Text  \\\n",
              "0                      약속 있어서 친구 기다리고 있는데 아직 안 왔어   \n",
              "1                                나 결국 여자 친구와 헤어졌어   \n",
              "2         이 회사 들어올 때 얼마나 힘들었는지 알잖아 조금만 더 버텨 보고 싶어   \n",
              "3                             회초리도 맞고 빠따도 맞아서 혼났지   \n",
              "4                                       거의 다 떨어져가   \n",
              "...                                           ...   \n",
              "16551                                  그런 영상도 있었어   \n",
              "16552                                야 나 이벤트 당첨됐어   \n",
              "16553                                      엄청 놀랐어   \n",
              "16554  갑자기 해피가 목줄을 끊고 막 뛰어 가잖아 그래서 못 잡을까 봐 너무 놀랐어   \n",
              "16555                             폭탄 터지는 소리를 들었잖아   \n",
              "\n",
              "                                     cleaned_text  \\\n",
              "0                      약속 있어서 친구 기다리고 있는데 아직 안 왔어   \n",
              "1                                나 결국 여자 친구와 헤어졌어   \n",
              "2         이 회사 들어올 때 얼마나 힘들었는지 알잖아 조금만 더 버텨 보고 싶어   \n",
              "3                             회초리도 맞고 빠따도 맞아서 혼났지   \n",
              "4                                       거의 다 떨어져가   \n",
              "...                                           ...   \n",
              "16551                                  그런 영상도 있었어   \n",
              "16552                                야 나 이벤트 당첨됐어   \n",
              "16553                                      엄청 놀랐어   \n",
              "16554  갑자기 해피가 목줄을 끊고 막 뛰어 가잖아 그래서 못 잡을까 봐 너무 놀랐어   \n",
              "16555                             폭탄 터지는 소리를 들었잖아   \n",
              "\n",
              "                                               tokenized  \n",
              "0      {'input_ids': tensor([[   2,    0,    0,    0,...  \n",
              "1      {'input_ids': tensor([[   2, 5655,    0, 6924,...  \n",
              "2      {'input_ids': tensor([[   2, 7096, 7957,    0,...  \n",
              "3      {'input_ids': tensor([[2, 0, 0, 0, 0, 0, 3, 1,...  \n",
              "4      {'input_ids': tensor([[   2,    0, 5782,    0,...  \n",
              "...                                                  ...  \n",
              "16551  {'input_ids': tensor([[   2, 5541,    0,    0,...  \n",
              "16552  {'input_ids': tensor([[   2, 6844, 5655,    0,...  \n",
              "16553  {'input_ids': tensor([[2, 0, 0, 3, 1, 1, 1, 1,...  \n",
              "16554  {'input_ids': tensor([[   2,    0,    0,    0,...  \n",
              "16555  {'input_ids': tensor([[2, 0, 0, 0, 0, 3, 1, 1,...  \n",
              "\n",
              "[16556 rows x 5 columns]"
            ],
            "text/html": [
              "\n",
              "  <div id=\"df-41c5e868-5258-4240-8d3a-d36f28b35448\" class=\"colab-df-container\">\n",
              "    <div>\n",
              "<style scoped>\n",
              "    .dataframe tbody tr th:only-of-type {\n",
              "        vertical-align: middle;\n",
              "    }\n",
              "\n",
              "    .dataframe tbody tr th {\n",
              "        vertical-align: top;\n",
              "    }\n",
              "\n",
              "    .dataframe thead th {\n",
              "        text-align: right;\n",
              "    }\n",
              "</style>\n",
              "<table border=\"1\" class=\"dataframe\">\n",
              "  <thead>\n",
              "    <tr style=\"text-align: right;\">\n",
              "      <th></th>\n",
              "      <th>Emotion</th>\n",
              "      <th>Path</th>\n",
              "      <th>Text</th>\n",
              "      <th>cleaned_text</th>\n",
              "      <th>tokenized</th>\n",
              "    </tr>\n",
              "  </thead>\n",
              "  <tbody>\n",
              "    <tr>\n",
              "      <th>0</th>\n",
              "      <td>angry</td>\n",
              "      <td>/content/drive/MyDrive/project/data_aihub/4/5e...</td>\n",
              "      <td>약속 있어서 친구 기다리고 있는데 아직 안 왔어</td>\n",
              "      <td>약속 있어서 친구 기다리고 있는데 아직 안 왔어</td>\n",
              "      <td>{'input_ids': tensor([[   2,    0,    0,    0,...</td>\n",
              "    </tr>\n",
              "    <tr>\n",
              "      <th>1</th>\n",
              "      <td>sad</td>\n",
              "      <td>/content/drive/MyDrive/project/data_aihub/4/5e...</td>\n",
              "      <td>나 결국 여자 친구와 헤어졌어</td>\n",
              "      <td>나 결국 여자 친구와 헤어졌어</td>\n",
              "      <td>{'input_ids': tensor([[   2, 5655,    0, 6924,...</td>\n",
              "    </tr>\n",
              "    <tr>\n",
              "      <th>2</th>\n",
              "      <td>sad</td>\n",
              "      <td>/content/drive/MyDrive/project/data_aihub/5/5e...</td>\n",
              "      <td>이 회사 들어올 때 얼마나 힘들었는지 알잖아 조금만 더 버텨 보고 싶어</td>\n",
              "      <td>이 회사 들어올 때 얼마나 힘들었는지 알잖아 조금만 더 버텨 보고 싶어</td>\n",
              "      <td>{'input_ids': tensor([[   2, 7096, 7957,    0,...</td>\n",
              "    </tr>\n",
              "    <tr>\n",
              "      <th>3</th>\n",
              "      <td>sad</td>\n",
              "      <td>/content/drive/MyDrive/project/data_aihub/4/5e...</td>\n",
              "      <td>회초리도 맞고 빠따도 맞아서 혼났지</td>\n",
              "      <td>회초리도 맞고 빠따도 맞아서 혼났지</td>\n",
              "      <td>{'input_ids': tensor([[2, 0, 0, 0, 0, 0, 3, 1,...</td>\n",
              "    </tr>\n",
              "    <tr>\n",
              "      <th>4</th>\n",
              "      <td>sad</td>\n",
              "      <td>/content/drive/MyDrive/project/data_aihub/4/5e...</td>\n",
              "      <td>거의 다 떨어져가</td>\n",
              "      <td>거의 다 떨어져가</td>\n",
              "      <td>{'input_ids': tensor([[   2,    0, 5782,    0,...</td>\n",
              "    </tr>\n",
              "    <tr>\n",
              "      <th>...</th>\n",
              "      <td>...</td>\n",
              "      <td>...</td>\n",
              "      <td>...</td>\n",
              "      <td>...</td>\n",
              "      <td>...</td>\n",
              "    </tr>\n",
              "    <tr>\n",
              "      <th>16551</th>\n",
              "      <td>surprise</td>\n",
              "      <td>/content/drive/MyDrive/project/data_aihub/5_2/...</td>\n",
              "      <td>그런 영상도 있었어</td>\n",
              "      <td>그런 영상도 있었어</td>\n",
              "      <td>{'input_ids': tensor([[   2, 5541,    0,    0,...</td>\n",
              "    </tr>\n",
              "    <tr>\n",
              "      <th>16552</th>\n",
              "      <td>surprise</td>\n",
              "      <td>/content/drive/MyDrive/project/data_aihub/5_2/...</td>\n",
              "      <td>야 나 이벤트 당첨됐어</td>\n",
              "      <td>야 나 이벤트 당첨됐어</td>\n",
              "      <td>{'input_ids': tensor([[   2, 6844, 5655,    0,...</td>\n",
              "    </tr>\n",
              "    <tr>\n",
              "      <th>16553</th>\n",
              "      <td>surprise</td>\n",
              "      <td>/content/drive/MyDrive/project/data_aihub/4/5e...</td>\n",
              "      <td>엄청 놀랐어</td>\n",
              "      <td>엄청 놀랐어</td>\n",
              "      <td>{'input_ids': tensor([[2, 0, 0, 3, 1, 1, 1, 1,...</td>\n",
              "    </tr>\n",
              "    <tr>\n",
              "      <th>16554</th>\n",
              "      <td>surprise</td>\n",
              "      <td>/content/drive/MyDrive/project/data_aihub/5_2/...</td>\n",
              "      <td>갑자기 해피가 목줄을 끊고 막 뛰어 가잖아 그래서 못 잡을까 봐 너무 놀랐어</td>\n",
              "      <td>갑자기 해피가 목줄을 끊고 막 뛰어 가잖아 그래서 못 잡을까 봐 너무 놀랐어</td>\n",
              "      <td>{'input_ids': tensor([[   2,    0,    0,    0,...</td>\n",
              "    </tr>\n",
              "    <tr>\n",
              "      <th>16555</th>\n",
              "      <td>surprise</td>\n",
              "      <td>/content/drive/MyDrive/project/data_aihub/5_2/...</td>\n",
              "      <td>폭탄 터지는 소리를 들었잖아</td>\n",
              "      <td>폭탄 터지는 소리를 들었잖아</td>\n",
              "      <td>{'input_ids': tensor([[2, 0, 0, 0, 0, 3, 1, 1,...</td>\n",
              "    </tr>\n",
              "  </tbody>\n",
              "</table>\n",
              "<p>16556 rows × 5 columns</p>\n",
              "</div>\n",
              "    <div class=\"colab-df-buttons\">\n",
              "\n",
              "  <div class=\"colab-df-container\">\n",
              "    <button class=\"colab-df-convert\" onclick=\"convertToInteractive('df-41c5e868-5258-4240-8d3a-d36f28b35448')\"\n",
              "            title=\"Convert this dataframe to an interactive table.\"\n",
              "            style=\"display:none;\">\n",
              "\n",
              "  <svg xmlns=\"http://www.w3.org/2000/svg\" height=\"24px\" viewBox=\"0 -960 960 960\">\n",
              "    <path d=\"M120-120v-720h720v720H120Zm60-500h600v-160H180v160Zm220 220h160v-160H400v160Zm0 220h160v-160H400v160ZM180-400h160v-160H180v160Zm440 0h160v-160H620v160ZM180-180h160v-160H180v160Zm440 0h160v-160H620v160Z\"/>\n",
              "  </svg>\n",
              "    </button>\n",
              "\n",
              "  <style>\n",
              "    .colab-df-container {\n",
              "      display:flex;\n",
              "      gap: 12px;\n",
              "    }\n",
              "\n",
              "    .colab-df-convert {\n",
              "      background-color: #E8F0FE;\n",
              "      border: none;\n",
              "      border-radius: 50%;\n",
              "      cursor: pointer;\n",
              "      display: none;\n",
              "      fill: #1967D2;\n",
              "      height: 32px;\n",
              "      padding: 0 0 0 0;\n",
              "      width: 32px;\n",
              "    }\n",
              "\n",
              "    .colab-df-convert:hover {\n",
              "      background-color: #E2EBFA;\n",
              "      box-shadow: 0px 1px 2px rgba(60, 64, 67, 0.3), 0px 1px 3px 1px rgba(60, 64, 67, 0.15);\n",
              "      fill: #174EA6;\n",
              "    }\n",
              "\n",
              "    .colab-df-buttons div {\n",
              "      margin-bottom: 4px;\n",
              "    }\n",
              "\n",
              "    [theme=dark] .colab-df-convert {\n",
              "      background-color: #3B4455;\n",
              "      fill: #D2E3FC;\n",
              "    }\n",
              "\n",
              "    [theme=dark] .colab-df-convert:hover {\n",
              "      background-color: #434B5C;\n",
              "      box-shadow: 0px 1px 3px 1px rgba(0, 0, 0, 0.15);\n",
              "      filter: drop-shadow(0px 1px 2px rgba(0, 0, 0, 0.3));\n",
              "      fill: #FFFFFF;\n",
              "    }\n",
              "  </style>\n",
              "\n",
              "    <script>\n",
              "      const buttonEl =\n",
              "        document.querySelector('#df-41c5e868-5258-4240-8d3a-d36f28b35448 button.colab-df-convert');\n",
              "      buttonEl.style.display =\n",
              "        google.colab.kernel.accessAllowed ? 'block' : 'none';\n",
              "\n",
              "      async function convertToInteractive(key) {\n",
              "        const element = document.querySelector('#df-41c5e868-5258-4240-8d3a-d36f28b35448');\n",
              "        const dataTable =\n",
              "          await google.colab.kernel.invokeFunction('convertToInteractive',\n",
              "                                                    [key], {});\n",
              "        if (!dataTable) return;\n",
              "\n",
              "        const docLinkHtml = 'Like what you see? Visit the ' +\n",
              "          '<a target=\"_blank\" href=https://colab.research.google.com/notebooks/data_table.ipynb>data table notebook</a>'\n",
              "          + ' to learn more about interactive tables.';\n",
              "        element.innerHTML = '';\n",
              "        dataTable['output_type'] = 'display_data';\n",
              "        await google.colab.output.renderOutput(dataTable, element);\n",
              "        const docLink = document.createElement('div');\n",
              "        docLink.innerHTML = docLinkHtml;\n",
              "        element.appendChild(docLink);\n",
              "      }\n",
              "    </script>\n",
              "  </div>\n",
              "\n",
              "\n",
              "<div id=\"df-a68cbd78-824e-4b06-9b3b-fc5bb6994908\">\n",
              "  <button class=\"colab-df-quickchart\" onclick=\"quickchart('df-a68cbd78-824e-4b06-9b3b-fc5bb6994908')\"\n",
              "            title=\"Suggest charts\"\n",
              "            style=\"display:none;\">\n",
              "\n",
              "<svg xmlns=\"http://www.w3.org/2000/svg\" height=\"24px\"viewBox=\"0 0 24 24\"\n",
              "     width=\"24px\">\n",
              "    <g>\n",
              "        <path d=\"M19 3H5c-1.1 0-2 .9-2 2v14c0 1.1.9 2 2 2h14c1.1 0 2-.9 2-2V5c0-1.1-.9-2-2-2zM9 17H7v-7h2v7zm4 0h-2V7h2v10zm4 0h-2v-4h2v4z\"/>\n",
              "    </g>\n",
              "</svg>\n",
              "  </button>\n",
              "\n",
              "<style>\n",
              "  .colab-df-quickchart {\n",
              "      --bg-color: #E8F0FE;\n",
              "      --fill-color: #1967D2;\n",
              "      --hover-bg-color: #E2EBFA;\n",
              "      --hover-fill-color: #174EA6;\n",
              "      --disabled-fill-color: #AAA;\n",
              "      --disabled-bg-color: #DDD;\n",
              "  }\n",
              "\n",
              "  [theme=dark] .colab-df-quickchart {\n",
              "      --bg-color: #3B4455;\n",
              "      --fill-color: #D2E3FC;\n",
              "      --hover-bg-color: #434B5C;\n",
              "      --hover-fill-color: #FFFFFF;\n",
              "      --disabled-bg-color: #3B4455;\n",
              "      --disabled-fill-color: #666;\n",
              "  }\n",
              "\n",
              "  .colab-df-quickchart {\n",
              "    background-color: var(--bg-color);\n",
              "    border: none;\n",
              "    border-radius: 50%;\n",
              "    cursor: pointer;\n",
              "    display: none;\n",
              "    fill: var(--fill-color);\n",
              "    height: 32px;\n",
              "    padding: 0;\n",
              "    width: 32px;\n",
              "  }\n",
              "\n",
              "  .colab-df-quickchart:hover {\n",
              "    background-color: var(--hover-bg-color);\n",
              "    box-shadow: 0 1px 2px rgba(60, 64, 67, 0.3), 0 1px 3px 1px rgba(60, 64, 67, 0.15);\n",
              "    fill: var(--button-hover-fill-color);\n",
              "  }\n",
              "\n",
              "  .colab-df-quickchart-complete:disabled,\n",
              "  .colab-df-quickchart-complete:disabled:hover {\n",
              "    background-color: var(--disabled-bg-color);\n",
              "    fill: var(--disabled-fill-color);\n",
              "    box-shadow: none;\n",
              "  }\n",
              "\n",
              "  .colab-df-spinner {\n",
              "    border: 2px solid var(--fill-color);\n",
              "    border-color: transparent;\n",
              "    border-bottom-color: var(--fill-color);\n",
              "    animation:\n",
              "      spin 1s steps(1) infinite;\n",
              "  }\n",
              "\n",
              "  @keyframes spin {\n",
              "    0% {\n",
              "      border-color: transparent;\n",
              "      border-bottom-color: var(--fill-color);\n",
              "      border-left-color: var(--fill-color);\n",
              "    }\n",
              "    20% {\n",
              "      border-color: transparent;\n",
              "      border-left-color: var(--fill-color);\n",
              "      border-top-color: var(--fill-color);\n",
              "    }\n",
              "    30% {\n",
              "      border-color: transparent;\n",
              "      border-left-color: var(--fill-color);\n",
              "      border-top-color: var(--fill-color);\n",
              "      border-right-color: var(--fill-color);\n",
              "    }\n",
              "    40% {\n",
              "      border-color: transparent;\n",
              "      border-right-color: var(--fill-color);\n",
              "      border-top-color: var(--fill-color);\n",
              "    }\n",
              "    60% {\n",
              "      border-color: transparent;\n",
              "      border-right-color: var(--fill-color);\n",
              "    }\n",
              "    80% {\n",
              "      border-color: transparent;\n",
              "      border-right-color: var(--fill-color);\n",
              "      border-bottom-color: var(--fill-color);\n",
              "    }\n",
              "    90% {\n",
              "      border-color: transparent;\n",
              "      border-bottom-color: var(--fill-color);\n",
              "    }\n",
              "  }\n",
              "</style>\n",
              "\n",
              "  <script>\n",
              "    async function quickchart(key) {\n",
              "      const quickchartButtonEl =\n",
              "        document.querySelector('#' + key + ' button');\n",
              "      quickchartButtonEl.disabled = true;  // To prevent multiple clicks.\n",
              "      quickchartButtonEl.classList.add('colab-df-spinner');\n",
              "      try {\n",
              "        const charts = await google.colab.kernel.invokeFunction(\n",
              "            'suggestCharts', [key], {});\n",
              "      } catch (error) {\n",
              "        console.error('Error during call to suggestCharts:', error);\n",
              "      }\n",
              "      quickchartButtonEl.classList.remove('colab-df-spinner');\n",
              "      quickchartButtonEl.classList.add('colab-df-quickchart-complete');\n",
              "    }\n",
              "    (() => {\n",
              "      let quickchartButtonEl =\n",
              "        document.querySelector('#df-a68cbd78-824e-4b06-9b3b-fc5bb6994908 button');\n",
              "      quickchartButtonEl.style.display =\n",
              "        google.colab.kernel.accessAllowed ? 'block' : 'none';\n",
              "    })();\n",
              "  </script>\n",
              "</div>\n",
              "\n",
              "  <div id=\"id_3a7da1cf-09b7-49bc-98bc-c1408dfe948a\">\n",
              "    <style>\n",
              "      .colab-df-generate {\n",
              "        background-color: #E8F0FE;\n",
              "        border: none;\n",
              "        border-radius: 50%;\n",
              "        cursor: pointer;\n",
              "        display: none;\n",
              "        fill: #1967D2;\n",
              "        height: 32px;\n",
              "        padding: 0 0 0 0;\n",
              "        width: 32px;\n",
              "      }\n",
              "\n",
              "      .colab-df-generate:hover {\n",
              "        background-color: #E2EBFA;\n",
              "        box-shadow: 0px 1px 2px rgba(60, 64, 67, 0.3), 0px 1px 3px 1px rgba(60, 64, 67, 0.15);\n",
              "        fill: #174EA6;\n",
              "      }\n",
              "\n",
              "      [theme=dark] .colab-df-generate {\n",
              "        background-color: #3B4455;\n",
              "        fill: #D2E3FC;\n",
              "      }\n",
              "\n",
              "      [theme=dark] .colab-df-generate:hover {\n",
              "        background-color: #434B5C;\n",
              "        box-shadow: 0px 1px 3px 1px rgba(0, 0, 0, 0.15);\n",
              "        filter: drop-shadow(0px 1px 2px rgba(0, 0, 0, 0.3));\n",
              "        fill: #FFFFFF;\n",
              "      }\n",
              "    </style>\n",
              "    <button class=\"colab-df-generate\" onclick=\"generateWithVariable('df')\"\n",
              "            title=\"Generate code using this dataframe.\"\n",
              "            style=\"display:none;\">\n",
              "\n",
              "  <svg xmlns=\"http://www.w3.org/2000/svg\" height=\"24px\"viewBox=\"0 0 24 24\"\n",
              "       width=\"24px\">\n",
              "    <path d=\"M7,19H8.4L18.45,9,17,7.55,7,17.6ZM5,21V16.75L18.45,3.32a2,2,0,0,1,2.83,0l1.4,1.43a1.91,1.91,0,0,1,.58,1.4,1.91,1.91,0,0,1-.58,1.4L9.25,21ZM18.45,9,17,7.55Zm-12,3A5.31,5.31,0,0,0,4.9,8.1,5.31,5.31,0,0,0,1,6.5,5.31,5.31,0,0,0,4.9,4.9,5.31,5.31,0,0,0,6.5,1,5.31,5.31,0,0,0,8.1,4.9,5.31,5.31,0,0,0,12,6.5,5.46,5.46,0,0,0,6.5,12Z\"/>\n",
              "  </svg>\n",
              "    </button>\n",
              "    <script>\n",
              "      (() => {\n",
              "      const buttonEl =\n",
              "        document.querySelector('#id_3a7da1cf-09b7-49bc-98bc-c1408dfe948a button.colab-df-generate');\n",
              "      buttonEl.style.display =\n",
              "        google.colab.kernel.accessAllowed ? 'block' : 'none';\n",
              "\n",
              "      buttonEl.onclick = () => {\n",
              "        google.colab.notebook.generateWithVariable('df');\n",
              "      }\n",
              "      })();\n",
              "    </script>\n",
              "  </div>\n",
              "\n",
              "    </div>\n",
              "  </div>\n"
            ],
            "application/vnd.google.colaboratory.intrinsic+json": {
              "type": "dataframe",
              "variable_name": "df",
              "summary": "{\n  \"name\": \"df\",\n  \"rows\": 16556,\n  \"fields\": [\n    {\n      \"column\": \"Emotion\",\n      \"properties\": {\n        \"dtype\": \"category\",\n        \"num_unique_values\": 7,\n        \"samples\": [\n          \"angry\",\n          \"sad\",\n          \"neutral\"\n        ],\n        \"semantic_type\": \"\",\n        \"description\": \"\"\n      }\n    },\n    {\n      \"column\": \"Path\",\n      \"properties\": {\n        \"dtype\": \"string\",\n        \"num_unique_values\": 13582,\n        \"samples\": [\n          \"/content/drive/MyDrive/project/data_aihub/5/5ef7717a497740547350bc1c.wav\",\n          \"/content/drive/MyDrive/project/data_aihub/5_2/5fbb5e6a576e9378b67acb12.wav\",\n          \"/content/drive/MyDrive/project/data_aihub/5_2/5f5d5e393bd6941613f6d1ce.wav\"\n        ],\n        \"semantic_type\": \"\",\n        \"description\": \"\"\n      }\n    },\n    {\n      \"column\": \"Text\",\n      \"properties\": {\n        \"dtype\": \"string\",\n        \"num_unique_values\": 13065,\n        \"samples\": [\n          \"\\uadf8\\ub798\\ub3c4 \\ubb50 \\ud558\\ub8e8 \\uc885\\uc77c \\uac78\\ub9ac\\uace0 \\uadf8\\ub7f4 \\uc77c\\uc740 \\uc544\\ub2c8\\ub2c8\\uae4c \\uae08\\ubc29 \\ub05d\\ub0a0 \\uac70\\uc57c\",\n          \"\\ub098\\ub294 \\uad1c\\ucc2e\\uc740\\ub370 \\uadf8 \\uc0ac\\ub78c\\uc774 \\uc2dc\\uac04 \\ub0b4\\uae30\\uac00 \\ub108\\ubb34 \\ud798\\ub4e4\\uc5b4\\uc11c \\uc774\\ubc88 \\uc57d\\uc18d\\ub3c4 \\uc5c4\\uccad \\uc5b4\\ub835\\uac8c \\uc7a1\\uc740 \\uac70\\uac70\\ub4e0\",\n          \"\\ubc14\\ub85c \\uc804\\ud654\\ud574 \\ubc84\\ub824\\uc57c\\uc9c0 \\uc544 \\uc9c4\\uc9dc \\uae30\\ubd84 \\ub354\\ub7fd\\ub124\"\n        ],\n        \"semantic_type\": \"\",\n        \"description\": \"\"\n      }\n    },\n    {\n      \"column\": \"cleaned_text\",\n      \"properties\": {\n        \"dtype\": \"string\",\n        \"num_unique_values\": 13065,\n        \"samples\": [\n          \"\\uadf8\\ub798\\ub3c4 \\ubb50 \\ud558\\ub8e8 \\uc885\\uc77c \\uac78\\ub9ac\\uace0 \\uadf8\\ub7f4 \\uc77c\\uc740 \\uc544\\ub2c8\\ub2c8\\uae4c \\uae08\\ubc29 \\ub05d\\ub0a0 \\uac70\\uc57c\",\n          \"\\ub098\\ub294 \\uad1c\\ucc2e\\uc740\\ub370 \\uadf8 \\uc0ac\\ub78c\\uc774 \\uc2dc\\uac04 \\ub0b4\\uae30\\uac00 \\ub108\\ubb34 \\ud798\\ub4e4\\uc5b4\\uc11c \\uc774\\ubc88 \\uc57d\\uc18d\\ub3c4 \\uc5c4\\uccad \\uc5b4\\ub835\\uac8c \\uc7a1\\uc740 \\uac70\\uac70\\ub4e0\",\n          \"\\ubc14\\ub85c \\uc804\\ud654\\ud574 \\ubc84\\ub824\\uc57c\\uc9c0 \\uc544 \\uc9c4\\uc9dc \\uae30\\ubd84 \\ub354\\ub7fd\\ub124\"\n        ],\n        \"semantic_type\": \"\",\n        \"description\": \"\"\n      }\n    },\n    {\n      \"column\": \"tokenized\",\n      \"properties\": {\n        \"dtype\": \"category\",\n        \"num_unique_values\": 7779,\n        \"samples\": [\n          \"{'input_ids': tensor([[   2, 5616,    0, 5889,    0,    3,    1,    1,    1,    1,    1,    1,\\n            1,    1,    1,    1,    1,    1,    1,    1,    1,    1,    1,    1,\\n            1,    1,    1,    1,    1,    1,    1,    1,    1,    1,    1,    1,\\n            1,    1,    1,    1,    1,    1,    1,    1,    1,    1,    1,    1,\\n            1,    1,    1,    1,    1,    1,    1,    1,    1,    1,    1,    1,\\n            1,    1,    1,    1,    1,    1,    1,    1,    1,    1,    1,    1,\\n            1,    1,    1,    1,    1,    1,    1,    1,    1,    1,    1,    1,\\n            1,    1,    1,    1,    1,    1,    1,    1,    1,    1,    1,    1,\\n            1,    1,    1,    1,    1,    1,    1,    1,    1,    1,    1,    1,\\n            1,    1,    1,    1,    1,    1,    1,    1,    1,    1,    1,    1,\\n            1,    1,    1,    1,    1,    1,    1,    1]]), 'token_type_ids': tensor([[0, 0, 0, 0, 0, 0, 0, 0, 0, 0, 0, 0, 0, 0, 0, 0, 0, 0, 0, 0, 0, 0, 0, 0,\\n         0, 0, 0, 0, 0, 0, 0, 0, 0, 0, 0, 0, 0, 0, 0, 0, 0, 0, 0, 0, 0, 0, 0, 0,\\n         0, 0, 0, 0, 0, 0, 0, 0, 0, 0, 0, 0, 0, 0, 0, 0, 0, 0, 0, 0, 0, 0, 0, 0,\\n         0, 0, 0, 0, 0, 0, 0, 0, 0, 0, 0, 0, 0, 0, 0, 0, 0, 0, 0, 0, 0, 0, 0, 0,\\n         0, 0, 0, 0, 0, 0, 0, 0, 0, 0, 0, 0, 0, 0, 0, 0, 0, 0, 0, 0, 0, 0, 0, 0,\\n         0, 0, 0, 0, 0, 0, 0, 0]]), 'attention_mask': tensor([[1, 1, 1, 1, 1, 1, 0, 0, 0, 0, 0, 0, 0, 0, 0, 0, 0, 0, 0, 0, 0, 0, 0, 0,\\n         0, 0, 0, 0, 0, 0, 0, 0, 0, 0, 0, 0, 0, 0, 0, 0, 0, 0, 0, 0, 0, 0, 0, 0,\\n         0, 0, 0, 0, 0, 0, 0, 0, 0, 0, 0, 0, 0, 0, 0, 0, 0, 0, 0, 0, 0, 0, 0, 0,\\n         0, 0, 0, 0, 0, 0, 0, 0, 0, 0, 0, 0, 0, 0, 0, 0, 0, 0, 0, 0, 0, 0, 0, 0,\\n         0, 0, 0, 0, 0, 0, 0, 0, 0, 0, 0, 0, 0, 0, 0, 0, 0, 0, 0, 0, 0, 0, 0, 0,\\n         0, 0, 0, 0, 0, 0, 0, 0]])}\",\n          \"{'input_ids': tensor([[   2, 7828, 5793, 7210,    0,    0,    0,    0,    0, 7323,    0, 5980,\\n            0,    0,    0,    0,    0,    3,    1,    1,    1,    1,    1,    1,\\n            1,    1,    1,    1,    1,    1,    1,    1,    1,    1,    1,    1,\\n            1,    1,    1,    1,    1,    1,    1,    1,    1,    1,    1,    1,\\n            1,    1,    1,    1,    1,    1,    1,    1,    1,    1,    1,    1,\\n            1,    1,    1,    1,    1,    1,    1,    1,    1,    1,    1,    1,\\n            1,    1,    1,    1,    1,    1,    1,    1,    1,    1,    1,    1,\\n            1,    1,    1,    1,    1,    1,    1,    1,    1,    1,    1,    1,\\n            1,    1,    1,    1,    1,    1,    1,    1,    1,    1,    1,    1,\\n            1,    1,    1,    1,    1,    1,    1,    1,    1,    1,    1,    1,\\n            1,    1,    1,    1,    1,    1,    1,    1]]), 'token_type_ids': tensor([[0, 0, 0, 0, 0, 0, 0, 0, 0, 0, 0, 0, 0, 0, 0, 0, 0, 0, 0, 0, 0, 0, 0, 0,\\n         0, 0, 0, 0, 0, 0, 0, 0, 0, 0, 0, 0, 0, 0, 0, 0, 0, 0, 0, 0, 0, 0, 0, 0,\\n         0, 0, 0, 0, 0, 0, 0, 0, 0, 0, 0, 0, 0, 0, 0, 0, 0, 0, 0, 0, 0, 0, 0, 0,\\n         0, 0, 0, 0, 0, 0, 0, 0, 0, 0, 0, 0, 0, 0, 0, 0, 0, 0, 0, 0, 0, 0, 0, 0,\\n         0, 0, 0, 0, 0, 0, 0, 0, 0, 0, 0, 0, 0, 0, 0, 0, 0, 0, 0, 0, 0, 0, 0, 0,\\n         0, 0, 0, 0, 0, 0, 0, 0]]), 'attention_mask': tensor([[1, 1, 1, 1, 1, 1, 1, 1, 1, 1, 1, 1, 1, 1, 1, 1, 1, 1, 0, 0, 0, 0, 0, 0,\\n         0, 0, 0, 0, 0, 0, 0, 0, 0, 0, 0, 0, 0, 0, 0, 0, 0, 0, 0, 0, 0, 0, 0, 0,\\n         0, 0, 0, 0, 0, 0, 0, 0, 0, 0, 0, 0, 0, 0, 0, 0, 0, 0, 0, 0, 0, 0, 0, 0,\\n         0, 0, 0, 0, 0, 0, 0, 0, 0, 0, 0, 0, 0, 0, 0, 0, 0, 0, 0, 0, 0, 0, 0, 0,\\n         0, 0, 0, 0, 0, 0, 0, 0, 0, 0, 0, 0, 0, 0, 0, 0, 0, 0, 0, 0, 0, 0, 0, 0,\\n         0, 0, 0, 0, 0, 0, 0, 0]])}\",\n          \"{'input_ids': tensor([[   2,    0,    0,    0,    0,    0, 7174,    0,    0,    3,    1,    1,\\n            1,    1,    1,    1,    1,    1,    1,    1,    1,    1,    1,    1,\\n            1,    1,    1,    1,    1,    1,    1,    1,    1,    1,    1,    1,\\n            1,    1,    1,    1,    1,    1,    1,    1,    1,    1,    1,    1,\\n            1,    1,    1,    1,    1,    1,    1,    1,    1,    1,    1,    1,\\n            1,    1,    1,    1,    1,    1,    1,    1,    1,    1,    1,    1,\\n            1,    1,    1,    1,    1,    1,    1,    1,    1,    1,    1,    1,\\n            1,    1,    1,    1,    1,    1,    1,    1,    1,    1,    1,    1,\\n            1,    1,    1,    1,    1,    1,    1,    1,    1,    1,    1,    1,\\n            1,    1,    1,    1,    1,    1,    1,    1,    1,    1,    1,    1,\\n            1,    1,    1,    1,    1,    1,    1,    1]]), 'token_type_ids': tensor([[0, 0, 0, 0, 0, 0, 0, 0, 0, 0, 0, 0, 0, 0, 0, 0, 0, 0, 0, 0, 0, 0, 0, 0,\\n         0, 0, 0, 0, 0, 0, 0, 0, 0, 0, 0, 0, 0, 0, 0, 0, 0, 0, 0, 0, 0, 0, 0, 0,\\n         0, 0, 0, 0, 0, 0, 0, 0, 0, 0, 0, 0, 0, 0, 0, 0, 0, 0, 0, 0, 0, 0, 0, 0,\\n         0, 0, 0, 0, 0, 0, 0, 0, 0, 0, 0, 0, 0, 0, 0, 0, 0, 0, 0, 0, 0, 0, 0, 0,\\n         0, 0, 0, 0, 0, 0, 0, 0, 0, 0, 0, 0, 0, 0, 0, 0, 0, 0, 0, 0, 0, 0, 0, 0,\\n         0, 0, 0, 0, 0, 0, 0, 0]]), 'attention_mask': tensor([[1, 1, 1, 1, 1, 1, 1, 1, 1, 1, 0, 0, 0, 0, 0, 0, 0, 0, 0, 0, 0, 0, 0, 0,\\n         0, 0, 0, 0, 0, 0, 0, 0, 0, 0, 0, 0, 0, 0, 0, 0, 0, 0, 0, 0, 0, 0, 0, 0,\\n         0, 0, 0, 0, 0, 0, 0, 0, 0, 0, 0, 0, 0, 0, 0, 0, 0, 0, 0, 0, 0, 0, 0, 0,\\n         0, 0, 0, 0, 0, 0, 0, 0, 0, 0, 0, 0, 0, 0, 0, 0, 0, 0, 0, 0, 0, 0, 0, 0,\\n         0, 0, 0, 0, 0, 0, 0, 0, 0, 0, 0, 0, 0, 0, 0, 0, 0, 0, 0, 0, 0, 0, 0, 0,\\n         0, 0, 0, 0, 0, 0, 0, 0]])}\"\n        ],\n        \"semantic_type\": \"\",\n        \"description\": \"\"\n      }\n    }\n  ]\n}"
            }
          },
          "metadata": {},
          "execution_count": 19
        }
      ]
    },
    {
      "cell_type": "code",
      "source": [
        "label_mapping = {'happy': 0, 'sad': 1, 'angry': 2, 'neutral': 3, 'fear': 4, 'disgust': 5, 'surprise': 6}"
      ],
      "metadata": {
        "id": "BaoInQ2iA3Dy"
      },
      "execution_count": 20,
      "outputs": []
    },
    {
      "cell_type": "code",
      "source": [
        "df['Emotion'] = df['Emotion'].map(label_mapping)"
      ],
      "metadata": {
        "id": "_iqCIen6A3sN"
      },
      "execution_count": 21,
      "outputs": []
    },
    {
      "cell_type": "code",
      "source": [
        "class EmotionDataset(Dataset):\n",
        "    def __init__(self, dataframe, tokenizer, max_len):\n",
        "        self.data = dataframe\n",
        "        self.tokenizer = tokenizer\n",
        "        self.max_len = max_len\n",
        "\n",
        "    def __len__(self):\n",
        "        return len(self.data)\n",
        "\n",
        "    def __getitem__(self, index):\n",
        "        text = self.data.iloc[index][\"cleaned_text\"]\n",
        "        emotion = self.data.iloc[index][\"Emotion\"]\n",
        "\n",
        "        # KoBERT 토큰화\n",
        "        inputs = self.tokenizer.encode_plus(\n",
        "            text,\n",
        "            None,\n",
        "            add_special_tokens=True,\n",
        "            max_length=self.max_len,\n",
        "            padding='max_length',\n",
        "            return_token_type_ids=True,\n",
        "            truncation=True\n",
        "        )\n",
        "\n",
        "        input_ids = inputs['input_ids']\n",
        "        attention_mask = inputs['attention_mask']\n",
        "        token_type_ids = inputs[\"token_type_ids\"]\n",
        "\n",
        "        return {\n",
        "            'input_ids': torch.tensor(input_ids, dtype=torch.long),\n",
        "            'attention_mask': torch.tensor(attention_mask, dtype=torch.long),\n",
        "            'token_type_ids': torch.tensor(token_type_ids, dtype=torch.long),\n",
        "            'labels': torch.tensor(emotion, dtype=torch.long)  # 감정 레이블\n",
        "        }"
      ],
      "metadata": {
        "id": "-EToHFYrAdqC"
      },
      "execution_count": 22,
      "outputs": []
    },
    {
      "cell_type": "code",
      "source": [
        "class KoBERTEmotionClassifier(nn.Module):\n",
        "    def __init__(self, n_classes):\n",
        "        super(KoBERTEmotionClassifier, self).__init__()\n",
        "        self.bert = BertModel.from_pretrained('monologg/kobert')\n",
        "        self.drop = nn.Dropout(p=0.3)\n",
        "        self.out = nn.Linear(self.bert.config.hidden_size, n_classes)\n",
        "\n",
        "    def forward(self, input_ids, attention_mask, token_type_ids):\n",
        "        _, pooled_output = self.bert(\n",
        "            input_ids=input_ids,\n",
        "            attention_mask=attention_mask,\n",
        "            token_type_ids=token_type_ids,\n",
        "            return_dict=False\n",
        "        )\n",
        "        output = self.drop(pooled_output)\n",
        "        return self.out(output)"
      ],
      "metadata": {
        "id": "aXM1O1MnAgmi"
      },
      "execution_count": 23,
      "outputs": []
    },
    {
      "cell_type": "code",
      "source": [
        "def train_epoch(model, data_loader, optimizer, device):\n",
        "    model = model.train()\n",
        "    total_loss = 0\n",
        "\n",
        "    for data in data_loader:\n",
        "        input_ids = data['input_ids'].to(device)\n",
        "        attention_mask = data['attention_mask'].to(device)\n",
        "        token_type_ids = data['token_type_ids'].to(device)\n",
        "        labels = data['labels'].to(device)\n",
        "\n",
        "        outputs = model(input_ids=input_ids, attention_mask=attention_mask, token_type_ids=token_type_ids)\n",
        "        loss = nn.CrossEntropyLoss()(outputs, labels)\n",
        "\n",
        "        optimizer.zero_grad()\n",
        "        loss.backward()\n",
        "        optimizer.step()\n",
        "\n",
        "        total_loss += loss.item()\n",
        "\n",
        "    return total_loss / len(data_loader)"
      ],
      "metadata": {
        "id": "j1t0UWhAAi2h"
      },
      "execution_count": 24,
      "outputs": []
    },
    {
      "cell_type": "code",
      "source": [
        "def eval_model(model, data_loader, device):\n",
        "    model = model.eval()\n",
        "    total_loss = 0\n",
        "    correct_predictions = 0\n",
        "\n",
        "    with torch.no_grad():\n",
        "        for data in data_loader:\n",
        "            input_ids = data['input_ids'].to(device)\n",
        "            attention_mask = data['attention_mask'].to(device)\n",
        "            token_type_ids = data['token_type_ids'].to(device)\n",
        "            labels = data['labels'].to(device)\n",
        "\n",
        "            outputs = model(input_ids=input_ids, attention_mask=attention_mask, token_type_ids=token_type_ids)\n",
        "            loss = nn.CrossEntropyLoss()(outputs, labels)\n",
        "\n",
        "            total_loss += loss.item()\n",
        "            _, preds = torch.max(outputs, dim=1)\n",
        "            correct_predictions += torch.sum(preds == labels)\n",
        "\n",
        "    return correct_predictions.double() / len(data_loader.dataset), total_loss / len(data_loader)"
      ],
      "metadata": {
        "id": "R8pSWUjOAjke"
      },
      "execution_count": 25,
      "outputs": []
    },
    {
      "cell_type": "code",
      "source": [
        "BATCH_SIZE = 16\n",
        "MAX_LEN = 64\n",
        "EPOCHS = 30\n",
        "N_CLASSES = len(set(df['Emotion']))"
      ],
      "metadata": {
        "id": "BdywecJAAnki"
      },
      "execution_count": 26,
      "outputs": []
    },
    {
      "cell_type": "code",
      "source": [
        "tokenizer = BertTokenizer.from_pretrained('monologg/kobert')"
      ],
      "metadata": {
        "colab": {
          "base_uri": "https://localhost:8080/"
        },
        "id": "257LQDLJAs7o",
        "outputId": "d97dc6fa-5953-4672-aab8-4d855c3ef18f"
      },
      "execution_count": 27,
      "outputs": [
        {
          "output_type": "stream",
          "name": "stderr",
          "text": [
            "The tokenizer class you load from this checkpoint is not the same type as the class this function is called from. It may result in unexpected tokenization. \n",
            "The tokenizer class you load from this checkpoint is 'KoBertTokenizer'. \n",
            "The class this function is called from is 'BertTokenizer'.\n",
            "/usr/local/lib/python3.10/dist-packages/transformers/tokenization_utils_base.py:1601: FutureWarning: `clean_up_tokenization_spaces` was not set. It will be set to `True` by default. This behavior will be depracted in transformers v4.45, and will be then set to `False` by default. For more details check this issue: https://github.com/huggingface/transformers/issues/31884\n",
            "  warnings.warn(\n"
          ]
        }
      ]
    },
    {
      "cell_type": "code",
      "source": [
        "train_dataset = EmotionDataset(df, tokenizer, MAX_LEN)\n",
        "train_loader = DataLoader(train_dataset, batch_size=BATCH_SIZE, shuffle=True)"
      ],
      "metadata": {
        "id": "KYIUOL4UAtIo"
      },
      "execution_count": 28,
      "outputs": []
    },
    {
      "cell_type": "code",
      "source": [
        "model = KoBERTEmotionClassifier(n_classes=N_CLASSES).to(device)\n",
        "optimizer = AdamW(model.parameters(), lr=2e-5)"
      ],
      "metadata": {
        "colab": {
          "base_uri": "https://localhost:8080/"
        },
        "id": "DdjT6E-8AugS",
        "outputId": "50f1f7f4-90db-4237-d9eb-16f759c5fa98"
      },
      "execution_count": 29,
      "outputs": [
        {
          "output_type": "stream",
          "name": "stderr",
          "text": [
            "/usr/local/lib/python3.10/dist-packages/transformers/optimization.py:591: FutureWarning: This implementation of AdamW is deprecated and will be removed in a future version. Use the PyTorch implementation torch.optim.AdamW instead, or set `no_deprecation_warning=True` to disable this warning\n",
            "  warnings.warn(\n"
          ]
        }
      ]
    },
    {
      "cell_type": "code",
      "source": [
        "for epoch in range(EPOCHS):\n",
        "    train_loss = train_epoch(model, train_loader, optimizer, device)\n",
        "    accuracy, val_loss = eval_model(model, train_loader, device)\n",
        "\n",
        "    print(f'Epoch {epoch + 1}/{EPOCHS}, Train Loss: {train_loss}, Validation Accuracy: {accuracy}, Validation Loss: {val_loss}')"
      ],
      "metadata": {
        "colab": {
          "base_uri": "https://localhost:8080/"
        },
        "id": "hYVPHNt_Av9U",
        "outputId": "a6e4018a-7838-4bbb-a5ba-cb424afce33b"
      },
      "execution_count": 30,
      "outputs": [
        {
          "output_type": "stream",
          "name": "stdout",
          "text": [
            "Epoch 1/30, Train Loss: 1.8360983121798233, Validation Accuracy: 0.3821575259724571, Validation Loss: 1.6276270694778738\n",
            "Epoch 2/30, Train Loss: 1.589277616445569, Validation Accuracy: 0.4662358057501812, Validation Loss: 1.4328727871899443\n",
            "Epoch 3/30, Train Loss: 1.4491202163235577, Validation Accuracy: 0.5062213094950471, Validation Loss: 1.3099140104464286\n",
            "Epoch 4/30, Train Loss: 1.3459800606188568, Validation Accuracy: 0.5679511959410486, Validation Loss: 1.17200933130467\n",
            "Epoch 5/30, Train Loss: 1.246967255262937, Validation Accuracy: 0.5968833051461706, Validation Loss: 1.0840729037344743\n",
            "Epoch 6/30, Train Loss: 1.170672550437531, Validation Accuracy: 0.6284730611258758, Validation Loss: 0.99173365779545\n",
            "Epoch 7/30, Train Loss: 1.0933959863899987, Validation Accuracy: 0.647982604493839, Validation Loss: 0.9341505877349687\n",
            "Epoch 8/30, Train Loss: 1.0419343695260477, Validation Accuracy: 0.663626479826045, Validation Loss: 0.8843257316068751\n",
            "Epoch 9/30, Train Loss: 0.9913336768242472, Validation Accuracy: 0.6754046871224934, Validation Loss: 0.8509313381236533\n",
            "Epoch 10/30, Train Loss: 0.9589583421099013, Validation Accuracy: 0.6773979222034308, Validation Loss: 0.8522352340140781\n",
            "Epoch 11/30, Train Loss: 0.921147690317481, Validation Accuracy: 0.6865184827252959, Validation Loss: 0.8157131200539317\n",
            "Epoch 12/30, Train Loss: 0.9022931250109189, Validation Accuracy: 0.6937062092292824, Validation Loss: 0.7871235974960857\n",
            "Epoch 13/30, Train Loss: 0.8769606966183381, Validation Accuracy: 0.6958202464363372, Validation Loss: 0.7786223094676428\n",
            "Epoch 14/30, Train Loss: 0.8594596222978859, Validation Accuracy: 0.700229524039623, Validation Loss: 0.7645571233713685\n",
            "Epoch 15/30, Train Loss: 0.8504674415081596, Validation Accuracy: 0.7036119835709108, Validation Loss: 0.753264816040578\n",
            "Epoch 16/30, Train Loss: 0.8328973139109819, Validation Accuracy: 0.7087460739309012, Validation Loss: 0.743559233577931\n",
            "Epoch 17/30, Train Loss: 0.8163766349571339, Validation Accuracy: 0.708142063300314, Validation Loss: 0.745034192552889\n",
            "Epoch 18/30, Train Loss: 0.8164832868437836, Validation Accuracy: 0.7097124909398406, Validation Loss: 0.7373039712112595\n",
            "Epoch 19/30, Train Loss: 0.796526734854864, Validation Accuracy: 0.7119473302730128, Validation Loss: 0.7196279746322816\n",
            "Epoch 20/30, Train Loss: 0.78503723959416, Validation Accuracy: 0.7170814206330031, Validation Loss: 0.7074308990568354\n",
            "Epoch 21/30, Train Loss: 0.7879619746536448, Validation Accuracy: 0.7120077313360715, Validation Loss: 0.7237266180883859\n",
            "Epoch 22/30, Train Loss: 0.7776730122773544, Validation Accuracy: 0.7161150036240638, Validation Loss: 0.7084995391000296\n",
            "Epoch 23/30, Train Loss: 0.7674369610882036, Validation Accuracy: 0.7198598695337037, Validation Loss: 0.7024647977185134\n",
            "Epoch 24/30, Train Loss: 0.7666105103593518, Validation Accuracy: 0.7208262865426431, Validation Loss: 0.6912871542616167\n",
            "Epoch 25/30, Train Loss: 0.755604889664961, Validation Accuracy: 0.7179874365788838, Validation Loss: 0.7009117450907034\n",
            "Epoch 26/30, Train Loss: 0.7640069276238409, Validation Accuracy: 0.718772650398647, Validation Loss: 0.69268447920896\n",
            "Epoch 27/30, Train Loss: 0.7532417537509531, Validation Accuracy: 0.710860111137956, Validation Loss: 0.6962539804874411\n",
            "Epoch 28/30, Train Loss: 0.7446481176764492, Validation Accuracy: 0.7230007248127567, Validation Loss: 0.6840242769263217\n",
            "Epoch 29/30, Train Loss: 0.7362073875351804, Validation Accuracy: 0.7217323024885238, Validation Loss: 0.6858098358563754\n",
            "Epoch 30/30, Train Loss: 0.7380195461969444, Validation Accuracy: 0.7214302971732303, Validation Loss: 0.6853601123759712\n"
          ]
        }
      ]
    },
    {
      "cell_type": "code",
      "source": [
        "final_accuracy, final_loss = eval_model(model, train_loader, device)\n",
        "print(f\"Final Accuracy: {final_accuracy}, Final Loss: {final_loss}\")"
      ],
      "metadata": {
        "id": "QJtILiJmQvKS",
        "outputId": "c1ca4472-bfc7-4c5c-fff4-71edf0ea0bd6",
        "colab": {
          "base_uri": "https://localhost:8080/"
        }
      },
      "execution_count": 31,
      "outputs": [
        {
          "output_type": "stream",
          "name": "stdout",
          "text": [
            "Final Accuracy: 0.7214302971732303, Final Loss: 0.6854632941529083\n"
          ]
        }
      ]
    },
    {
      "cell_type": "code",
      "source": [
        "MODEL_PATH = \"/content/drive/MyDrive/KoBERT_emotion_model.pth\"\n",
        "torch.save(model.state_dict(), MODEL_PATH)\n",
        "print(f\"Model saved to {MODEL_PATH}\")"
      ],
      "metadata": {
        "id": "bTp9BjC9Qx7b",
        "outputId": "c3f95f39-3f1d-43e7-9a2d-2b92a58804cd",
        "colab": {
          "base_uri": "https://localhost:8080/"
        }
      },
      "execution_count": 49,
      "outputs": [
        {
          "output_type": "stream",
          "name": "stdout",
          "text": [
            "Model saved to /content/drive/MyDrive/KoBERT_emotion_model.pth\n"
          ]
        }
      ]
    }
  ]
}